{
 "cells": [
  {
   "cell_type": "markdown",
   "metadata": {
    "slideshow": {
     "slide_type": "slide"
    },
    "toc": true
   },
   "source": [
    "<h1>Table of Contents<span class=\"tocSkip\"></span></h1>\n",
    "<div class=\"toc\"><ul class=\"toc-item\"><li><span><a href=\"#什么是数据科学?\" data-toc-modified-id=\"什么是数据科学?-1\"><span class=\"toc-item-num\">1&nbsp;&nbsp;</span>什么是数据科学?</a></span><ul class=\"toc-item\"><li><span><a href=\"#主要挑战\" data-toc-modified-id=\"主要挑战-1.1\"><span class=\"toc-item-num\">1.1&nbsp;&nbsp;</span>主要挑战</a></span></li><li><span><a href=\"#韦恩图（veen-diagram）\" data-toc-modified-id=\"韦恩图（veen-diagram）-1.2\"><span class=\"toc-item-num\">1.2&nbsp;&nbsp;</span>韦恩图（veen diagram）</a></span></li><li><span><a href=\"#第四范式\" data-toc-modified-id=\"第四范式-1.3\"><span class=\"toc-item-num\">1.3&nbsp;&nbsp;</span>第四范式</a></span></li><li><span><a href=\"#21世纪最性感的工作\" data-toc-modified-id=\"21世纪最性感的工作-1.4\"><span class=\"toc-item-num\">1.4&nbsp;&nbsp;</span>21世纪最性感的工作</a></span></li></ul></li><li><span><a href=\"#数据科学家的工具箱\" data-toc-modified-id=\"数据科学家的工具箱-2\"><span class=\"toc-item-num\">2&nbsp;&nbsp;</span>数据科学家的工具箱</a></span><ul class=\"toc-item\"><li><span><a href=\"#数据科学家在做什么\" data-toc-modified-id=\"数据科学家在做什么-2.1\"><span class=\"toc-item-num\">2.1&nbsp;&nbsp;</span>数据科学家在做什么</a></span></li><li><span><a href=\"#Python\" data-toc-modified-id=\"Python-2.2\"><span class=\"toc-item-num\">2.2&nbsp;&nbsp;</span>Python</a></span></li><li><span><a href=\"#数据科学基础库\" data-toc-modified-id=\"数据科学基础库-2.3\"><span class=\"toc-item-num\">2.3&nbsp;&nbsp;</span>数据科学基础库</a></span></li><li><span><a href=\"#Jupyter-Notebook\" data-toc-modified-id=\"Jupyter-Notebook-2.4\"><span class=\"toc-item-num\">2.4&nbsp;&nbsp;</span>Jupyter Notebook</a></span></li><li><span><a href=\"#Anoconda\" data-toc-modified-id=\"Anoconda-2.5\"><span class=\"toc-item-num\">2.5&nbsp;&nbsp;</span>Anoconda</a></span></li></ul></li><li><span><a href=\"#整理和获取数据\" data-toc-modified-id=\"整理和获取数据-3\"><span class=\"toc-item-num\">3&nbsp;&nbsp;</span>整理和获取数据</a></span></li><li><span><a href=\"#探索性数据分析\" data-toc-modified-id=\"探索性数据分析-4\"><span class=\"toc-item-num\">4&nbsp;&nbsp;</span>探索性数据分析</a></span></li><li><span><a href=\"#推断性数据分析\" data-toc-modified-id=\"推断性数据分析-5\"><span class=\"toc-item-num\">5&nbsp;&nbsp;</span>推断性数据分析</a></span></li><li><span><a href=\"#机器学习\" data-toc-modified-id=\"机器学习-6\"><span class=\"toc-item-num\">6&nbsp;&nbsp;</span>机器学习</a></span></li><li><span><a href=\"#数据产品\" data-toc-modified-id=\"数据产品-7\"><span class=\"toc-item-num\">7&nbsp;&nbsp;</span>数据产品</a></span></li><li><span><a href=\"#Kaggle竞赛\" data-toc-modified-id=\"Kaggle竞赛-8\"><span class=\"toc-item-num\">8&nbsp;&nbsp;</span>Kaggle竞赛</a></span></li><li><span><a href=\"#大数据\" data-toc-modified-id=\"大数据-9\"><span class=\"toc-item-num\">9&nbsp;&nbsp;</span>大数据</a></span></li><li><span><a href=\"#深度学习\" data-toc-modified-id=\"深度学习-10\"><span class=\"toc-item-num\">10&nbsp;&nbsp;</span>深度学习</a></span></li><li><span><a href=\"#结语\" data-toc-modified-id=\"结语-11\"><span class=\"toc-item-num\">11&nbsp;&nbsp;</span>结语</a></span></li></ul></div>"
   ]
  },
  {
   "cell_type": "markdown",
   "metadata": {
    "nbpresent": {
     "id": "a50ff1bf-e704-46d3-b1ac-2153fc49de6b"
    },
    "slideshow": {
     "slide_type": "slide"
    }
   },
   "source": [
    "# <center>数据科学——21世纪最性感的工作</center>    \n",
    "<center>   </center>\n",
    "<center>刘博</center>\n",
    "<center>研发部数据组</center>\n",
    "<center>2019-06-03</center>"
   ]
  },
  {
   "cell_type": "markdown",
   "metadata": {
    "nbpresent": {
     "id": "1f51d1cd-90fc-4b68-a753-2bcd51658423"
    },
    "slideshow": {
     "slide_type": "slide"
    }
   },
   "source": [
    "## 什么是数据科学?"
   ]
  },
  {
   "cell_type": "markdown",
   "metadata": {
    "slideshow": {
     "slide_type": "slide"
    }
   },
   "source": [
    "### 主要挑战"
   ]
  },
  {
   "cell_type": "markdown",
   "metadata": {
    "nbpresent": {
     "id": "bd7c79f8-5b8b-42d4-9dc8-20084df89fe6"
    },
    "slideshow": {
     "slide_type": "fragment"
    }
   },
   "source": [
    ">Ask yourselves, what problem have you solved, ever, that was worth solving, where you knew all of the given information in advance? Where you didn't have a surplus of information and have to filter it out, or you didn't have insufficient information and have to go find some?    \n",
    "—— Dan Myer"
   ]
  },
  {
   "cell_type": "markdown",
   "metadata": {
    "nbpresent": {
     "id": "73a4c6e6-ab1c-4da1-a520-8f0b2fdfa73b"
    },
    "slideshow": {
     "slide_type": "fragment"
    }
   },
   "source": [
    "我们感兴趣的是用数据回答问题，先考虑问题，后考虑数据。"
   ]
  },
  {
   "cell_type": "markdown",
   "metadata": {
    "nbpresent": {
     "id": "574d2a52-8a7c-44fb-84d6-a7bc9ed79180"
    },
    "slideshow": {
     "slide_type": "fragment"
    }
   },
   "source": [
    "The keyword in data science is not data, it is science. \n",
    "\n",
    "数据科学中的关键词不是数据，而是科学。"
   ]
  },
  {
   "cell_type": "markdown",
   "metadata": {
    "nbpresent": {
     "id": "22b1666c-152f-4b9d-a00c-7ffe367b27d3"
    },
    "slideshow": {
     "slide_type": "slide"
    }
   },
   "source": [
    "### 韦恩图（veen diagram）\n",
    "\n",
    "![veen diagram](veen.png)\n",
    "\n",
    "[Posted by Drew Conway in 2010](http://drewconway.com/zia/2013/3/26/the-data-science-venn-diagram)"
   ]
  },
  {
   "cell_type": "markdown",
   "metadata": {
    "nbpresent": {
     "id": "06abe20d-8d87-492d-85d1-61f1c7e8af0f"
    },
    "slideshow": {
     "slide_type": "slide"
    }
   },
   "source": [
    "### 第四范式"
   ]
  },
  {
   "cell_type": "markdown",
   "metadata": {
    "nbpresent": {
     "id": "36456c45-bc2e-44d1-8f00-2593733cb571"
    },
    "slideshow": {
     "slide_type": "fragment"
    }
   },
   "source": [
    ">Data science is a multi-disciplinary field that uses scientific methods, processes, algorithms and systems to extract knowledge and insights from structured and unstructured data. —— WIKI\n",
    "\n",
    "数据科学是一个多学科领域，它使用科学方法、过程、算法和系统从结构化和非结构化数据中获取知识和洞见。"
   ]
  },
  {
   "cell_type": "markdown",
   "metadata": {
    "nbpresent": {
     "id": "0ca51d2d-f32b-4bd2-9ae0-8e3a4584f9a8"
    },
    "slideshow": {
     "slide_type": "fragment"
    }
   },
   "source": [
    "图灵奖得主Jim Gray将认为数据科学是科学的“第四范式”（经验、理论、计算和现在的数据驱动），并断言“科学的一切都因信息技术的影响“和数据洪流”而改变”。\n",
    "\n",
    "[Stewart Tansley; Kristin Michele Tolle (2009). The Fourth Paradigm: Data-intensive Scientific Discovery. Microsoft Research. ISBN 978-0-9825442-0-4.](https://books.google.co.kr/books?id=oGs_AQAAIAAJ&redir_esc=y)\n",
    "\n",
    "![The Fourth Paradigm- Data-intensive Scientific Discovery](Paradigm.jpg)"
   ]
  },
  {
   "cell_type": "markdown",
   "metadata": {
    "slideshow": {
     "slide_type": "slide"
    }
   },
   "source": [
    "### 21世纪最性感的工作"
   ]
  },
  {
   "cell_type": "markdown",
   "metadata": {
    "slideshow": {
     "slide_type": "fragment"
    }
   },
   "source": [
    "<img src=\"TheSexist.jpg\" width=\"40%\" align = \"center\">\n",
    "\n",
    "\n",
    "2012年哈佛商业评论的一篇文章称数据科学是21世纪最性感的工作。\n",
    "\n",
    "[Davenport, Thomas H.; Patil, DJ (October 2012), Data Scientist: The Sexiest Job of the 21st Century, Harvard Business Review]()"
   ]
  },
  {
   "cell_type": "markdown",
   "metadata": {
    "nbpresent": {
     "id": "f3daca8c-e29b-4ffd-b417-d319e594a2ff"
    },
    "slideshow": {
     "slide_type": "slide"
    }
   },
   "source": [
    "## 数据科学家的工具箱"
   ]
  },
  {
   "cell_type": "markdown",
   "metadata": {
    "slideshow": {
     "slide_type": "slide"
    }
   },
   "source": [
    "### 数据科学家在做什么\n",
    "\n",
    "- 定义问题\n",
    "- 定义理想数据集\n",
    "- 判断能获取哪些数据\n",
    "- 获取数据\n",
    "- 清洗数据\n",
    "- 探索性数据分析\n",
    "- 统计预测/建模\n",
    "- 解释结果\n",
    "- 挑战结果\n",
    "- 生成报告\n",
    "- 创建可复现的代码\n",
    "- 向其他人分享结果"
   ]
  },
  {
   "cell_type": "markdown",
   "metadata": {
    "nbpresent": {
     "id": "2590208f-3f37-4ec2-9345-24240403ddc0"
    },
    "slideshow": {
     "slide_type": "slide"
    }
   },
   "source": [
    "### Python"
   ]
  },
  {
   "cell_type": "markdown",
   "metadata": {
    "slideshow": {
     "slide_type": "fragment"
    }
   },
   "source": [
    "![](Python.png)\n",
    "\n",
    "- Python是近年来最火爆的编程语言之一。优点是优雅、易上手。\n",
    "- 环境：Sublime Text3、PyCharm\n",
    "- 笔记本：Jupyter Notebook\n",
    "- 至少一种：Python、R、SQL、Java、Scala\n",
    "- [深度学习中的Python语言1：Python基础数据类型、容器、函数和类的介绍](https://zhuanlan.zhihu.com/p/29028670)"
   ]
  },
  {
   "cell_type": "code",
   "execution_count": 1,
   "metadata": {
    "slideshow": {
     "slide_type": "fragment"
    }
   },
   "outputs": [
    {
     "data": {
      "text/plain": [
       "[1, 2, 3, 4]"
      ]
     },
     "execution_count": 1,
     "metadata": {},
     "output_type": "execute_result"
    }
   ],
   "source": [
    "List = [1, 2, 3, 4]\n",
    "List"
   ]
  },
  {
   "cell_type": "markdown",
   "metadata": {
    "slideshow": {
     "slide_type": "slide"
    }
   },
   "source": [
    "### 数据科学基础库"
   ]
  },
  {
   "cell_type": "markdown",
   "metadata": {
    "slideshow": {
     "slide_type": "fragment"
    }
   },
   "source": [
    "<img src=\"numpy.png\" width=\"40%\" align = \"center\">\n",
    "\n",
    "NumPy是使用Python进行科学计算的基础库，它包括:\n",
    "\n",
    "- 一个强大的N维数组对象\n",
    "- 复杂巧妙的函数\n",
    "- 整合C/C++和Fortran代码的工具\n",
    "- 实用的线性代数、傅立叶变换和随机数功能"
   ]
  },
  {
   "cell_type": "code",
   "execution_count": 2,
   "metadata": {
    "slideshow": {
     "slide_type": "fragment"
    }
   },
   "outputs": [
    {
     "data": {
      "text/plain": [
       "array([[1, 2, 3],\n",
       "       [4, 5, 6]])"
      ]
     },
     "execution_count": 2,
     "metadata": {},
     "output_type": "execute_result"
    }
   ],
   "source": [
    "# 使用numpy创建多维数组\n",
    "import numpy as np\n",
    "b = np.array([[1,2,3],[4,5,6]])\n",
    "b"
   ]
  },
  {
   "cell_type": "code",
   "execution_count": 3,
   "metadata": {
    "slideshow": {
     "slide_type": "fragment"
    }
   },
   "outputs": [
    {
     "data": {
      "text/plain": [
       "array([[13, 38],\n",
       "       [31, 89]])"
      ]
     },
     "execution_count": 3,
     "metadata": {},
     "output_type": "execute_result"
    }
   ],
   "source": [
    "# 矩阵乘法\n",
    "a = np.array([[2,4],[1,5],[3,8]])\n",
    "np.dot(b,a)"
   ]
  },
  {
   "cell_type": "markdown",
   "metadata": {
    "slideshow": {
     "slide_type": "subslide"
    }
   },
   "source": [
    "<img src=\"pandas.png\" width=\"40%\">\n",
    "\n",
    "Pandas提供了高性能、易于使用的数据结构和数据分析工具，是基于Python的开源数据分析库。"
   ]
  },
  {
   "cell_type": "code",
   "execution_count": 9,
   "metadata": {
    "slideshow": {
     "slide_type": "fragment"
    }
   },
   "outputs": [
    {
     "data": {
      "text/html": [
       "<div>\n",
       "<style scoped>\n",
       "    .dataframe tbody tr th:only-of-type {\n",
       "        vertical-align: middle;\n",
       "    }\n",
       "\n",
       "    .dataframe tbody tr th {\n",
       "        vertical-align: top;\n",
       "    }\n",
       "\n",
       "    .dataframe thead th {\n",
       "        text-align: right;\n",
       "    }\n",
       "</style>\n",
       "<table border=\"1\" class=\"dataframe\">\n",
       "  <thead>\n",
       "    <tr style=\"text-align: right;\">\n",
       "      <th></th>\n",
       "      <th>foo</th>\n",
       "      <th>bar</th>\n",
       "    </tr>\n",
       "  </thead>\n",
       "  <tbody>\n",
       "    <tr>\n",
       "      <th>0</th>\n",
       "      <td>2</td>\n",
       "      <td>4</td>\n",
       "    </tr>\n",
       "    <tr>\n",
       "      <th>1</th>\n",
       "      <td>1</td>\n",
       "      <td>5</td>\n",
       "    </tr>\n",
       "    <tr>\n",
       "      <th>2</th>\n",
       "      <td>3</td>\n",
       "      <td>8</td>\n",
       "    </tr>\n",
       "  </tbody>\n",
       "</table>\n",
       "</div>"
      ],
      "text/plain": [
       "   foo  bar\n",
       "0    2    4\n",
       "1    1    5\n",
       "2    3    8"
      ]
     },
     "execution_count": 9,
     "metadata": {},
     "output_type": "execute_result"
    }
   ],
   "source": [
    "# 使用pandas创建数据集\n",
    "import pandas as pd\n",
    "df_a = pd.DataFrame(a, columns = ['foo','bar'])\n",
    "df_a"
   ]
  },
  {
   "cell_type": "code",
   "execution_count": 21,
   "metadata": {
    "slideshow": {
     "slide_type": "fragment"
    }
   },
   "outputs": [
    {
     "data": {
      "text/html": [
       "<div>\n",
       "<style scoped>\n",
       "    .dataframe tbody tr th:only-of-type {\n",
       "        vertical-align: middle;\n",
       "    }\n",
       "\n",
       "    .dataframe tbody tr th {\n",
       "        vertical-align: top;\n",
       "    }\n",
       "\n",
       "    .dataframe thead th {\n",
       "        text-align: right;\n",
       "    }\n",
       "</style>\n",
       "<table border=\"1\" class=\"dataframe\">\n",
       "  <thead>\n",
       "    <tr style=\"text-align: right;\">\n",
       "      <th></th>\n",
       "      <th>foo</th>\n",
       "      <th>bar</th>\n",
       "      <th>col</th>\n",
       "    </tr>\n",
       "  </thead>\n",
       "  <tbody>\n",
       "    <tr>\n",
       "      <th>0</th>\n",
       "      <td>2</td>\n",
       "      <td>4</td>\n",
       "      <td>NaN</td>\n",
       "    </tr>\n",
       "    <tr>\n",
       "      <th>1</th>\n",
       "      <td>1</td>\n",
       "      <td>5</td>\n",
       "      <td>NaN</td>\n",
       "    </tr>\n",
       "    <tr>\n",
       "      <th>2</th>\n",
       "      <td>3</td>\n",
       "      <td>8</td>\n",
       "      <td>NaN</td>\n",
       "    </tr>\n",
       "    <tr>\n",
       "      <th>0</th>\n",
       "      <td>1</td>\n",
       "      <td>2</td>\n",
       "      <td>3.0</td>\n",
       "    </tr>\n",
       "    <tr>\n",
       "      <th>1</th>\n",
       "      <td>4</td>\n",
       "      <td>5</td>\n",
       "      <td>6.0</td>\n",
       "    </tr>\n",
       "  </tbody>\n",
       "</table>\n",
       "</div>"
      ],
      "text/plain": [
       "   foo  bar  col\n",
       "0    2    4  NaN\n",
       "1    1    5  NaN\n",
       "2    3    8  NaN\n",
       "0    1    2  3.0\n",
       "1    4    5  6.0"
      ]
     },
     "execution_count": 21,
     "metadata": {},
     "output_type": "execute_result"
    }
   ],
   "source": [
    "# 数据集连接操作\n",
    "df_b = pd.DataFrame(b, columns = ['foo','bar','col'])\n",
    "concat_df = pd.concat([df_a,df_b], sort=False)\n",
    "concat_df"
   ]
  },
  {
   "cell_type": "markdown",
   "metadata": {
    "slideshow": {
     "slide_type": "subslide"
    }
   },
   "source": [
    "<img src=\"Matplotlib.png\" width=\"40%\">\n",
    "\n",
    "Matplotlib是一个基于Python的2D作图库，能生成各种格式的出版质量的图形和跨平台的交互环境。"
   ]
  },
  {
   "cell_type": "code",
   "execution_count": 43,
   "metadata": {
    "slideshow": {
     "slide_type": "fragment"
    }
   },
   "outputs": [
    {
     "data": {
      "image/png": "[encoded data removed]",
      "text/plain": [
       "<Figure size 288x288 with 1 Axes>"
      ]
     },
     "metadata": {
      "needs_background": "light"
     },
     "output_type": "display_data"
    }
   ],
   "source": [
    "# Matplotlib画散点图\n",
    "import matplotlib.pyplot as plt\n",
    "plt.figure(figsize = (4,4))\n",
    "plt.scatter(concat_df['foo'], concat_df['bar']);"
   ]
  },
  {
   "cell_type": "markdown",
   "metadata": {
    "slideshow": {
     "slide_type": "fragment"
    }
   },
   "source": [
    "<img src=\"MatplotlibExample.png\" width=\"60%\">"
   ]
  },
  {
   "cell_type": "markdown",
   "metadata": {
    "nbpresent": {
     "id": "a9dc604d-a509-44b2-a999-4821fbceadb0"
    },
    "slideshow": {
     "slide_type": "slide"
    }
   },
   "source": [
    "### Jupyter Notebook\n",
    "\n",
    "<img src=\"JupyterNotebook.svg\" width=\"30%\">\n",
    "\n",
    "Jupyter这个名字由它支持的三个核心编程语言的缩写词Julia、Python和R组合而成，启发自木星这个词：Jupiter。"
   ]
  },
  {
   "cell_type": "markdown",
   "metadata": {
    "slideshow": {
     "slide_type": "fragment"
    }
   },
   "source": [
    "\n",
    "<img src=\"notebook.png\" width=\"50%\">\n",
    "\n",
    "Jupyter Notebook是一个开源的Web应用程序，允许您创建和共享包含实时代码、公式、可视化和叙述性文本的文档。"
   ]
  },
  {
   "cell_type": "markdown",
   "metadata": {
    "slideshow": {
     "slide_type": "subslide"
    }
   },
   "source": [
    "线性回归公式:\n",
    "\n",
    "$Y = \\alpha X + \\beta$"
   ]
  },
  {
   "cell_type": "code",
   "execution_count": 32,
   "metadata": {
    "slideshow": {
     "slide_type": "fragment"
    }
   },
   "outputs": [
    {
     "data": {
      "text/plain": [
       "array([[1.5, 3. , 4.5],\n",
       "       [6. , 7.5, 9. ]])"
      ]
     },
     "execution_count": 32,
     "metadata": {},
     "output_type": "execute_result"
    }
   ],
   "source": [
    "# 线性回归示例\n",
    "X = np.array([[1,2,3],[4,5,6]])\n",
    "alpha = 0.5\n",
    "beta = 0.7\n",
    "Y = alpha * X + b\n",
    "Y"
   ]
  },
  {
   "cell_type": "markdown",
   "metadata": {
    "nbpresent": {
     "id": "33dd60c3-491d-47ca-85b1-aa9bd0ad0fde"
    },
    "slideshow": {
     "slide_type": "slide"
    }
   },
   "source": [
    "### Anoconda\n",
    "\n",
    "<img src=\"Anaconda.png\" width=\"60%\">\n",
    "\n",
    "开源的Anaconda提供了在Linux、Windows、Mac OS X上应用Python/R数据科学和机器学习的最简单的方式。在全世界有1100万用户。它是在一台机器上开发、测试和培训的行业标准，使每个数据科学家能够：\n",
    "\n",
    "- 快速下载 1,500+ Python/R 数据科学库\n",
    "- 使用Conda管理库、依赖项和环境\n",
    "- 利用Scikit Learn、TensorFlow和Theano开发和培训机器学习和深度学习模型\n",
    "- 使用Dask、Numpy、Pandas和Numba可扩展的、高性能的分析数据\n",
    "- 使用matplotlib、bokeh、datashader和holoview可视化结果"
   ]
  },
  {
   "cell_type": "markdown",
   "metadata": {
    "slideshow": {
     "slide_type": "fragment"
    }
   },
   "source": [
    "`$ conda create -n env_name python=3`"
   ]
  },
  {
   "cell_type": "markdown",
   "metadata": {
    "slideshow": {
     "slide_type": "fragment"
    }
   },
   "source": [
    "`$ conda install numpy pandas matplotlib jupyter notebook`"
   ]
  },
  {
   "cell_type": "markdown",
   "metadata": {
    "nbpresent": {
     "id": "77fc349b-4083-48ca-bd56-823dded12ee9"
    },
    "slideshow": {
     "slide_type": "slide"
    }
   },
   "source": [
    "## 整理和获取数据"
   ]
  },
  {
   "cell_type": "markdown",
   "metadata": {
    "nbpresent": {
     "id": "3fd22509-7ccc-452c-8e22-7d9589165c27"
    },
    "slideshow": {
     "slide_type": "slide"
    }
   },
   "source": [
    "## 探索性数据分析"
   ]
  },
  {
   "cell_type": "markdown",
   "metadata": {
    "nbpresent": {
     "id": "71c2c84d-b359-40e0-bc75-db740c441a48"
    },
    "slideshow": {
     "slide_type": "slide"
    }
   },
   "source": [
    "## 推断性数据分析"
   ]
  },
  {
   "cell_type": "markdown",
   "metadata": {
    "nbpresent": {
     "id": "fee2f9b7-618b-4404-80a1-312a8ad6eeff"
    },
    "slideshow": {
     "slide_type": "slide"
    }
   },
   "source": [
    "## 机器学习"
   ]
  },
  {
   "cell_type": "markdown",
   "metadata": {
    "nbpresent": {
     "id": "ab69b760-a839-4de2-b620-f7949c761f94"
    },
    "slideshow": {
     "slide_type": "slide"
    }
   },
   "source": [
    "## 数据产品"
   ]
  },
  {
   "cell_type": "markdown",
   "metadata": {
    "nbpresent": {
     "id": "f71605ec-3ea0-4fc2-9f4b-f0cd91312845"
    },
    "slideshow": {
     "slide_type": "slide"
    }
   },
   "source": [
    "## Kaggle竞赛"
   ]
  },
  {
   "cell_type": "markdown",
   "metadata": {
    "nbpresent": {
     "id": "9deadf6a-4725-4f77-96ab-a89a6a65e71d"
    },
    "slideshow": {
     "slide_type": "slide"
    }
   },
   "source": [
    "## 大数据"
   ]
  },
  {
   "cell_type": "markdown",
   "metadata": {
    "nbpresent": {
     "id": "5865c699-d31f-4b9f-ac17-b60fc411196e"
    },
    "slideshow": {
     "slide_type": "slide"
    }
   },
   "source": [
    "## 深度学习"
   ]
  },
  {
   "cell_type": "markdown",
   "metadata": {
    "slideshow": {
     "slide_type": "slide"
    }
   },
   "source": [
    "## 结语"
   ]
  }
 ],
 "metadata": {
  "celltoolbar": "幻灯片",
  "kernelspec": {
   "display_name": "Python 3",
   "language": "python",
   "name": "python3"
  },
  "language_info": {
   "codemirror_mode": {
    "name": "ipython",
    "version": 3
   },
   "file_extension": ".py",
   "mimetype": "text/x-python",
   "name": "python",
   "nbconvert_exporter": "python",
   "pygments_lexer": "ipython3",
   "version": "3.7.3"
  },
  "toc": {
   "base_numbering": 1,
   "nav_menu": {},
   "number_sections": true,
   "sideBar": true,
   "skip_h1_title": true,
   "title_cell": "Table of Contents",
   "title_sidebar": "Contents",
   "toc_cell": true,
   "toc_position": {
    "height": "calc(100% - 180px)",
    "left": "10px",
    "top": "150px",
    "width": "165.44px"
   },
   "toc_section_display": true,
   "toc_window_display": true
  }
 },
 "nbformat": 4,
 "nbformat_minor": 2
}
