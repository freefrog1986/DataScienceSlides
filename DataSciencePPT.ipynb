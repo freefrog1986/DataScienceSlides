{
 "cells": [
  {
   "cell_type": "markdown",
   "metadata": {
    "slideshow": {
     "slide_type": "slide"
    },
    "toc": true
   },
   "source": [
    "<h1>Table of Contents<span class=\"tocSkip\"></span></h1>\n",
    "<div class=\"toc\"><ul class=\"toc-item\"><li><span><a href=\"#什么是数据科学?\" data-toc-modified-id=\"什么是数据科学?-1\"><span class=\"toc-item-num\">1&nbsp;&nbsp;</span>什么是数据科学?</a></span><ul class=\"toc-item\"><li><span><a href=\"#主要挑战\" data-toc-modified-id=\"主要挑战-1.1\"><span class=\"toc-item-num\">1.1&nbsp;&nbsp;</span>主要挑战</a></span></li><li><span><a href=\"#韦恩图（Veen-Diagram）\" data-toc-modified-id=\"韦恩图（Veen-Diagram）-1.2\"><span class=\"toc-item-num\">1.2&nbsp;&nbsp;</span>韦恩图（Veen Diagram）</a></span></li><li><span><a href=\"#第四范式（The-Fourth-Paradigm）\" data-toc-modified-id=\"第四范式（The-Fourth-Paradigm）-1.3\"><span class=\"toc-item-num\">1.3&nbsp;&nbsp;</span>第四范式（The Fourth Paradigm）</a></span></li><li><span><a href=\"#21世纪最性感的工作\" data-toc-modified-id=\"21世纪最性感的工作-1.4\"><span class=\"toc-item-num\">1.4&nbsp;&nbsp;</span>21世纪最性感的工作</a></span></li></ul></li><li><span><a href=\"#数据科学家的工具箱\" data-toc-modified-id=\"数据科学家的工具箱-2\"><span class=\"toc-item-num\">2&nbsp;&nbsp;</span>数据科学家的工具箱</a></span><ul class=\"toc-item\"><li><span><a href=\"#数据科学的5个步骤\" data-toc-modified-id=\"数据科学的5个步骤-2.1\"><span class=\"toc-item-num\">2.1&nbsp;&nbsp;</span>数据科学的5个步骤</a></span></li><li><span><a href=\"#Python\" data-toc-modified-id=\"Python-2.2\"><span class=\"toc-item-num\">2.2&nbsp;&nbsp;</span>Python</a></span></li><li><span><a href=\"#数据科学基础库\" data-toc-modified-id=\"数据科学基础库-2.3\"><span class=\"toc-item-num\">2.3&nbsp;&nbsp;</span>数据科学基础库</a></span></li><li><span><a href=\"#Jupyter-Notebook\" data-toc-modified-id=\"Jupyter-Notebook-2.4\"><span class=\"toc-item-num\">2.4&nbsp;&nbsp;</span>Jupyter Notebook</a></span></li><li><span><a href=\"#Anoconda\" data-toc-modified-id=\"Anoconda-2.5\"><span class=\"toc-item-num\">2.5&nbsp;&nbsp;</span>Anoconda</a></span></li></ul></li><li><span><a href=\"#整理和获取数据\" data-toc-modified-id=\"整理和获取数据-3\"><span class=\"toc-item-num\">3&nbsp;&nbsp;</span>整理和获取数据</a></span><ul class=\"toc-item\"><li><span><a href=\"#数据的定义\" data-toc-modified-id=\"数据的定义-3.1\"><span class=\"toc-item-num\">3.1&nbsp;&nbsp;</span>数据的定义</a></span></li><li><span><a href=\"#数据清洗的元素\" data-toc-modified-id=\"数据清洗的元素-3.2\"><span class=\"toc-item-num\">3.2&nbsp;&nbsp;</span>数据清洗的元素</a></span></li><li><span><a href=\"#数据获取\" data-toc-modified-id=\"数据获取-3.3\"><span class=\"toc-item-num\">3.3&nbsp;&nbsp;</span>数据获取</a></span></li><li><span><a href=\"#数据清洗\" data-toc-modified-id=\"数据清洗-3.4\"><span class=\"toc-item-num\">3.4&nbsp;&nbsp;</span>数据清洗</a></span></li></ul></li><li><span><a href=\"#探索性数据分析\" data-toc-modified-id=\"探索性数据分析-4\"><span class=\"toc-item-num\">4&nbsp;&nbsp;</span>探索性数据分析</a></span></li><li><span><a href=\"#推断性数据分析\" data-toc-modified-id=\"推断性数据分析-5\"><span class=\"toc-item-num\">5&nbsp;&nbsp;</span>推断性数据分析</a></span></li><li><span><a href=\"#机器学习\" data-toc-modified-id=\"机器学习-6\"><span class=\"toc-item-num\">6&nbsp;&nbsp;</span>机器学习</a></span></li><li><span><a href=\"#数据产品\" data-toc-modified-id=\"数据产品-7\"><span class=\"toc-item-num\">7&nbsp;&nbsp;</span>数据产品</a></span></li><li><span><a href=\"#Kaggle竞赛\" data-toc-modified-id=\"Kaggle竞赛-8\"><span class=\"toc-item-num\">8&nbsp;&nbsp;</span>Kaggle竞赛</a></span></li><li><span><a href=\"#大数据\" data-toc-modified-id=\"大数据-9\"><span class=\"toc-item-num\">9&nbsp;&nbsp;</span>大数据</a></span></li><li><span><a href=\"#深度学习\" data-toc-modified-id=\"深度学习-10\"><span class=\"toc-item-num\">10&nbsp;&nbsp;</span>深度学习</a></span></li><li><span><a href=\"#结语\" data-toc-modified-id=\"结语-11\"><span class=\"toc-item-num\">11&nbsp;&nbsp;</span>结语</a></span></li></ul></div>"
   ]
  },
  {
   "cell_type": "markdown",
   "metadata": {
    "nbpresent": {
     "id": "a50ff1bf-e704-46d3-b1ac-2153fc49de6b"
    },
    "slideshow": {
     "slide_type": "slide"
    }
   },
   "source": [
    "# <center>数据科学——21世纪最性感的工作</center>    \n",
    "<center>   </center>\n",
    "<center>刘博</center>\n",
    "<center>研发部数据组</center>\n",
    "<center>2019-06-03</center>"
   ]
  },
  {
   "cell_type": "markdown",
   "metadata": {
    "nbpresent": {
     "id": "1f51d1cd-90fc-4b68-a753-2bcd51658423"
    },
    "slideshow": {
     "slide_type": "slide"
    }
   },
   "source": [
    "## 什么是数据科学?"
   ]
  },
  {
   "cell_type": "markdown",
   "metadata": {
    "slideshow": {
     "slide_type": "slide"
    }
   },
   "source": [
    "### 主要挑战"
   ]
  },
  {
   "cell_type": "markdown",
   "metadata": {
    "nbpresent": {
     "id": "bd7c79f8-5b8b-42d4-9dc8-20084df89fe6"
    },
    "slideshow": {
     "slide_type": "fragment"
    }
   },
   "source": [
    ">Ask yourselves, what problem have you solved, ever, that was worth solving, where you knew all of the given information in advance? Where you didn't have a surplus of information and have to filter it out, or you didn't have insufficient information and have to go find some?    \n",
    "—— Dan Myer"
   ]
  },
  {
   "cell_type": "markdown",
   "metadata": {
    "nbpresent": {
     "id": "73a4c6e6-ab1c-4da1-a520-8f0b2fdfa73b"
    },
    "slideshow": {
     "slide_type": "fragment"
    }
   },
   "source": [
    "我们感兴趣的是用数据回答问题，先考虑问题，后考虑数据。"
   ]
  },
  {
   "cell_type": "markdown",
   "metadata": {
    "nbpresent": {
     "id": "574d2a52-8a7c-44fb-84d6-a7bc9ed79180"
    },
    "slideshow": {
     "slide_type": "fragment"
    }
   },
   "source": [
    "The keyword in data science is not data, it is science. \n",
    "\n",
    "数据科学中的关键词不是数据，而是科学。"
   ]
  },
  {
   "cell_type": "markdown",
   "metadata": {
    "nbpresent": {
     "id": "22b1666c-152f-4b9d-a00c-7ffe367b27d3"
    },
    "slideshow": {
     "slide_type": "slide"
    }
   },
   "source": [
    "### 韦恩图（Veen Diagram）\n",
    "\n",
    "![veen diagram](veen.png)\n",
    "\n",
    "[Posted by Drew Conway in 2010](http://drewconway.com/zia/2013/3/26/the-data-science-venn-diagram)"
   ]
  },
  {
   "cell_type": "markdown",
   "metadata": {
    "nbpresent": {
     "id": "06abe20d-8d87-492d-85d1-61f1c7e8af0f"
    },
    "slideshow": {
     "slide_type": "slide"
    }
   },
   "source": [
    "### 第四范式（The Fourth Paradigm）"
   ]
  },
  {
   "cell_type": "markdown",
   "metadata": {
    "nbpresent": {
     "id": "36456c45-bc2e-44d1-8f00-2593733cb571"
    },
    "slideshow": {
     "slide_type": "fragment"
    }
   },
   "source": [
    ">Data science is a multi-disciplinary field that uses scientific methods, processes, algorithms and systems to extract knowledge and insights from structured and unstructured data. —— WIKI\n",
    "\n",
    "数据科学是一个多学科领域，它使用科学方法、过程、算法和系统从结构化和非结构化数据中获取知识和洞见。"
   ]
  },
  {
   "cell_type": "markdown",
   "metadata": {
    "nbpresent": {
     "id": "0ca51d2d-f32b-4bd2-9ae0-8e3a4584f9a8"
    },
    "slideshow": {
     "slide_type": "fragment"
    }
   },
   "source": [
    "图灵奖得主Jim Gray将认为数据科学是科学的“第四范式”（经验、理论、计算和现在的数据驱动），并断言“科学的一切都因信息技术的影响“和数据洪流”而改变”。\n",
    "\n",
    "[Stewart Tansley; Kristin Michele Tolle (2009). The Fourth Paradigm: Data-intensive Scientific Discovery. Microsoft Research. ISBN 978-0-9825442-0-4.](https://books.google.co.kr/books?id=oGs_AQAAIAAJ&redir_esc=y)\n",
    "\n",
    "![The Fourth Paradigm- Data-intensive Scientific Discovery](Paradigm.jpg)"
   ]
  },
  {
   "cell_type": "markdown",
   "metadata": {
    "slideshow": {
     "slide_type": "slide"
    }
   },
   "source": [
    "### 21世纪最性感的工作"
   ]
  },
  {
   "cell_type": "markdown",
   "metadata": {
    "slideshow": {
     "slide_type": "fragment"
    }
   },
   "source": [
    "<img src=\"TheSexist.jpg\" width=\"40%\" align = \"center\">\n",
    "\n",
    "\n",
    "2012年哈佛商业评论的一篇文章称数据科学是21世纪最性感的工作。\n",
    "\n",
    "[Davenport, Thomas H.; Patil, DJ (October 2012), Data Scientist: The Sexiest Job of the 21st Century, Harvard Business Review]()"
   ]
  },
  {
   "cell_type": "markdown",
   "metadata": {
    "nbpresent": {
     "id": "f3daca8c-e29b-4ffd-b417-d319e594a2ff"
    },
    "slideshow": {
     "slide_type": "slide"
    }
   },
   "source": [
    "## 数据科学家的工具箱"
   ]
  },
  {
   "cell_type": "markdown",
   "metadata": {
    "slideshow": {
     "slide_type": "slide"
    }
   },
   "source": [
    "### 数据科学的5个步骤\n",
    "\n",
    "- 提出问题\n",
    "- 整理和获取数据\n",
    "- 探索数据\n",
    "- 数据建模\n",
    "- 可视化和分享结果"
   ]
  },
  {
   "cell_type": "markdown",
   "metadata": {
    "nbpresent": {
     "id": "2590208f-3f37-4ec2-9345-24240403ddc0"
    },
    "slideshow": {
     "slide_type": "slide"
    }
   },
   "source": [
    "### Python"
   ]
  },
  {
   "cell_type": "markdown",
   "metadata": {
    "slideshow": {
     "slide_type": "fragment"
    }
   },
   "source": [
    "![](Python.png)\n",
    "\n",
    "- Python是近年来最火爆的编程语言之一。优点是优雅、易上手。\n",
    "- 环境：Sublime Text3、PyCharm\n",
    "- 笔记本：Jupyter Notebook\n",
    "- 至少一种：Python、R、SQL、Java、Scala\n",
    "- [深度学习中的Python语言1：Python基础数据类型、容器、函数和类的介绍](https://zhuanlan.zhihu.com/p/29028670)"
   ]
  },
  {
   "cell_type": "code",
   "execution_count": 1,
   "metadata": {
    "slideshow": {
     "slide_type": "fragment"
    }
   },
   "outputs": [
    {
     "data": {
      "text/plain": [
       "[1, 2, 3, 4]"
      ]
     },
     "execution_count": 1,
     "metadata": {},
     "output_type": "execute_result"
    }
   ],
   "source": [
    "List = [1, 2, 3, 4]\n",
    "List"
   ]
  },
  {
   "cell_type": "markdown",
   "metadata": {
    "slideshow": {
     "slide_type": "slide"
    }
   },
   "source": [
    "### 数据科学基础库"
   ]
  },
  {
   "cell_type": "markdown",
   "metadata": {
    "slideshow": {
     "slide_type": "fragment"
    }
   },
   "source": [
    "<img src=\"numpy.png\" width=\"40%\" align = \"center\">\n",
    "\n",
    "NumPy是使用Python进行科学计算的基础库，它包括:\n",
    "\n",
    "- 一个强大的N维数组对象\n",
    "- 复杂巧妙的函数\n",
    "- 整合C/C++和Fortran代码的工具\n",
    "- 实用的线性代数、傅立叶变换和随机数功能"
   ]
  },
  {
   "cell_type": "code",
   "execution_count": 5,
   "metadata": {
    "slideshow": {
     "slide_type": "fragment"
    }
   },
   "outputs": [
    {
     "data": {
      "text/plain": [
       "array([[1, 2, 3],\n",
       "       [4, 5, 6]])"
      ]
     },
     "execution_count": 5,
     "metadata": {},
     "output_type": "execute_result"
    }
   ],
   "source": [
    "# 使用numpy创建多维数组\n",
    "import numpy as np\n",
    "b = np.array([[1,2,3],[4,5,6]])\n",
    "b"
   ]
  },
  {
   "cell_type": "code",
   "execution_count": 6,
   "metadata": {
    "slideshow": {
     "slide_type": "fragment"
    }
   },
   "outputs": [
    {
     "data": {
      "text/plain": [
       "array([[13, 38],\n",
       "       [31, 89]])"
      ]
     },
     "execution_count": 6,
     "metadata": {},
     "output_type": "execute_result"
    }
   ],
   "source": [
    "# 矩阵乘法\n",
    "a = np.array([[2,4],[1,5],[3,8]])\n",
    "np.dot(b,a)"
   ]
  },
  {
   "cell_type": "markdown",
   "metadata": {
    "slideshow": {
     "slide_type": "subslide"
    }
   },
   "source": [
    "<img src=\"pandas.png\" width=\"40%\">\n",
    "\n",
    "Pandas提供了高性能、易于使用的数据结构和数据分析工具，是基于Python的开源数据分析库。"
   ]
  },
  {
   "cell_type": "code",
   "execution_count": 7,
   "metadata": {
    "slideshow": {
     "slide_type": "fragment"
    }
   },
   "outputs": [
    {
     "data": {
      "text/html": [
       "<div>\n",
       "<style scoped>\n",
       "    .dataframe tbody tr th:only-of-type {\n",
       "        vertical-align: middle;\n",
       "    }\n",
       "\n",
       "    .dataframe tbody tr th {\n",
       "        vertical-align: top;\n",
       "    }\n",
       "\n",
       "    .dataframe thead th {\n",
       "        text-align: right;\n",
       "    }\n",
       "</style>\n",
       "<table border=\"1\" class=\"dataframe\">\n",
       "  <thead>\n",
       "    <tr style=\"text-align: right;\">\n",
       "      <th></th>\n",
       "      <th>foo</th>\n",
       "      <th>bar</th>\n",
       "    </tr>\n",
       "  </thead>\n",
       "  <tbody>\n",
       "    <tr>\n",
       "      <th>0</th>\n",
       "      <td>2</td>\n",
       "      <td>4</td>\n",
       "    </tr>\n",
       "    <tr>\n",
       "      <th>1</th>\n",
       "      <td>1</td>\n",
       "      <td>5</td>\n",
       "    </tr>\n",
       "    <tr>\n",
       "      <th>2</th>\n",
       "      <td>3</td>\n",
       "      <td>8</td>\n",
       "    </tr>\n",
       "  </tbody>\n",
       "</table>\n",
       "</div>"
      ],
      "text/plain": [
       "   foo  bar\n",
       "0    2    4\n",
       "1    1    5\n",
       "2    3    8"
      ]
     },
     "execution_count": 7,
     "metadata": {},
     "output_type": "execute_result"
    }
   ],
   "source": [
    "# 使用pandas创建数据集\n",
    "import pandas as pd\n",
    "df_a = pd.DataFrame(a, columns = ['foo','bar'])\n",
    "df_a"
   ]
  },
  {
   "cell_type": "code",
   "execution_count": 21,
   "metadata": {
    "slideshow": {
     "slide_type": "fragment"
    }
   },
   "outputs": [
    {
     "data": {
      "text/html": [
       "<div>\n",
       "<style scoped>\n",
       "    .dataframe tbody tr th:only-of-type {\n",
       "        vertical-align: middle;\n",
       "    }\n",
       "\n",
       "    .dataframe tbody tr th {\n",
       "        vertical-align: top;\n",
       "    }\n",
       "\n",
       "    .dataframe thead th {\n",
       "        text-align: right;\n",
       "    }\n",
       "</style>\n",
       "<table border=\"1\" class=\"dataframe\">\n",
       "  <thead>\n",
       "    <tr style=\"text-align: right;\">\n",
       "      <th></th>\n",
       "      <th>foo</th>\n",
       "      <th>bar</th>\n",
       "      <th>col</th>\n",
       "    </tr>\n",
       "  </thead>\n",
       "  <tbody>\n",
       "    <tr>\n",
       "      <th>0</th>\n",
       "      <td>2</td>\n",
       "      <td>4</td>\n",
       "      <td>NaN</td>\n",
       "    </tr>\n",
       "    <tr>\n",
       "      <th>1</th>\n",
       "      <td>1</td>\n",
       "      <td>5</td>\n",
       "      <td>NaN</td>\n",
       "    </tr>\n",
       "    <tr>\n",
       "      <th>2</th>\n",
       "      <td>3</td>\n",
       "      <td>8</td>\n",
       "      <td>NaN</td>\n",
       "    </tr>\n",
       "    <tr>\n",
       "      <th>0</th>\n",
       "      <td>1</td>\n",
       "      <td>2</td>\n",
       "      <td>3.0</td>\n",
       "    </tr>\n",
       "    <tr>\n",
       "      <th>1</th>\n",
       "      <td>4</td>\n",
       "      <td>5</td>\n",
       "      <td>6.0</td>\n",
       "    </tr>\n",
       "  </tbody>\n",
       "</table>\n",
       "</div>"
      ],
      "text/plain": [
       "   foo  bar  col\n",
       "0    2    4  NaN\n",
       "1    1    5  NaN\n",
       "2    3    8  NaN\n",
       "0    1    2  3.0\n",
       "1    4    5  6.0"
      ]
     },
     "execution_count": 21,
     "metadata": {},
     "output_type": "execute_result"
    }
   ],
   "source": [
    "# 数据集连接操作\n",
    "df_b = pd.DataFrame(b, columns = ['foo','bar','col'])\n",
    "concat_df = pd.concat([df_a,df_b], sort=False)\n",
    "concat_df"
   ]
  },
  {
   "cell_type": "markdown",
   "metadata": {
    "slideshow": {
     "slide_type": "subslide"
    }
   },
   "source": [
    "<img src=\"Matplotlib.png\" width=\"40%\">\n",
    "\n",
    "Matplotlib是一个基于Python的2D作图库，能生成各种格式的出版质量的图形和跨平台的交互环境。"
   ]
  },
  {
   "cell_type": "code",
   "execution_count": 43,
   "metadata": {
    "slideshow": {
     "slide_type": "fragment"
    }
   },
   "outputs": [
    {
     "data": {
      "image/png": "[encoded data removed]",
      "text/plain": [
       "<Figure size 288x288 with 1 Axes>"
      ]
     },
     "metadata": {
      "needs_background": "light"
     },
     "output_type": "display_data"
    }
   ],
   "source": [
    "# Matplotlib画散点图\n",
    "import matplotlib.pyplot as plt\n",
    "plt.figure(figsize = (4,4))\n",
    "plt.scatter(concat_df['foo'], concat_df['bar']);"
   ]
  },
  {
   "cell_type": "markdown",
   "metadata": {
    "slideshow": {
     "slide_type": "subslide"
    }
   },
   "source": [
    "<img src=\"MatplotlibExample.png\" width=\"60%\">"
   ]
  },
  {
   "cell_type": "markdown",
   "metadata": {
    "nbpresent": {
     "id": "a9dc604d-a509-44b2-a999-4821fbceadb0"
    },
    "slideshow": {
     "slide_type": "slide"
    }
   },
   "source": [
    "### Jupyter Notebook\n",
    "\n",
    "<img src=\"JupyterNotebook.svg\" width=\"30%\">\n",
    "\n",
    "Jupyter这个名字由它支持的三个核心编程语言的缩写词Julia、Python和R组合而成，启发自木星这个词：Jupiter。"
   ]
  },
  {
   "cell_type": "markdown",
   "metadata": {
    "slideshow": {
     "slide_type": "fragment"
    }
   },
   "source": [
    "\n",
    "<img src=\"notebook.png\" width=\"50%\">\n",
    "\n",
    "Jupyter Notebook是一个开源的Web应用程序，允许您创建和共享包含实时代码、公式、可视化和叙述性文本的文档。"
   ]
  },
  {
   "cell_type": "markdown",
   "metadata": {
    "slideshow": {
     "slide_type": "subslide"
    }
   },
   "source": [
    "线性回归公式:\n",
    "\n",
    "$Y = \\alpha X + \\beta$"
   ]
  },
  {
   "cell_type": "code",
   "execution_count": 32,
   "metadata": {
    "slideshow": {
     "slide_type": "fragment"
    }
   },
   "outputs": [
    {
     "data": {
      "text/plain": [
       "array([[1.5, 3. , 4.5],\n",
       "       [6. , 7.5, 9. ]])"
      ]
     },
     "execution_count": 32,
     "metadata": {},
     "output_type": "execute_result"
    }
   ],
   "source": [
    "# 线性回归示例\n",
    "X = np.array([[1,2,3],[4,5,6]])\n",
    "alpha = 0.5\n",
    "beta = 0.7\n",
    "Y = alpha * X + b\n",
    "Y"
   ]
  },
  {
   "cell_type": "markdown",
   "metadata": {
    "nbpresent": {
     "id": "33dd60c3-491d-47ca-85b1-aa9bd0ad0fde"
    },
    "slideshow": {
     "slide_type": "slide"
    }
   },
   "source": [
    "### Anoconda\n",
    "\n",
    "<img src=\"Anaconda.png\" width=\"60%\">\n",
    "\n",
    "开源的Anaconda提供了在Linux、Windows、Mac OS X上应用Python/R数据科学和机器学习的最简单的方式。在全世界有1100万用户。它是在一台机器上开发、测试和培训的行业标准，使每个数据科学家能够：\n",
    "\n",
    "- 快速下载 1,500+ Python/R 数据科学库\n",
    "- 使用Conda管理库、依赖项和环境\n",
    "- 利用Scikit Learn、TensorFlow和Theano开发和培训机器学习和深度学习模型\n",
    "- 使用Dask、Numpy、Pandas和Numba可扩展的、高性能的分析数据\n",
    "- 使用matplotlib、bokeh、datashader和holoview可视化结果"
   ]
  },
  {
   "cell_type": "markdown",
   "metadata": {
    "slideshow": {
     "slide_type": "fragment"
    }
   },
   "source": [
    "`$ conda create -n env_name python=3`"
   ]
  },
  {
   "cell_type": "markdown",
   "metadata": {
    "slideshow": {
     "slide_type": "fragment"
    }
   },
   "source": [
    "`$ conda install numpy pandas matplotlib jupyter notebook`"
   ]
  },
  {
   "cell_type": "markdown",
   "metadata": {
    "nbpresent": {
     "id": "77fc349b-4083-48ca-bd56-823dded12ee9"
    },
    "slideshow": {
     "slide_type": "slide"
    }
   },
   "source": [
    "## 整理和获取数据"
   ]
  },
  {
   "cell_type": "markdown",
   "metadata": {
    "slideshow": {
     "slide_type": "slide"
    }
   },
   "source": [
    "### 数据的定义"
   ]
  },
  {
   "cell_type": "markdown",
   "metadata": {
    "slideshow": {
     "slide_type": "fragment"
    }
   },
   "source": [
    "> 数据是关于某一主题的定性或定量变量的一组值。   \n",
    "> Data is a set of values of subjects with respect to qualitative or quantitative variables.\n",
    "\n",
    "https://en.wikipedia.org/wiki/Data\n",
    "\n",
    "某一主题（subjects）：用户群体\n",
    "\n",
    "定性的（qualitative）变量：国家、性别、教育程度...\n",
    "\n",
    "定量的（quantitative）变量：收入、身高、体重...\n",
    "\n",
    "一组值（a set of values）：样本数据"
   ]
  },
  {
   "cell_type": "markdown",
   "metadata": {
    "slideshow": {
     "slide_type": "subslide"
    }
   },
   "source": [
    "原始数据(Raw Data) \n",
    "- 数据的来源\n",
    "- 通常很难用于数据分析\n",
    "- 数据分析包括数据处理\n",
    "- 原始数据可能只需要处理一次\n",
    "\n",
    "处理后的数据(Processed Data)\n",
    "- 准备好用于分析的数据\n",
    "- 数据处理包括合并、构造子集、转换等\n",
    "- 特定领域有数据处理的标准流程\n",
    "- 应该记录所有的数据处理的步骤\n",
    "\n",
    "原始数据经过数据处理得到处理后的数据。"
   ]
  },
  {
   "cell_type": "markdown",
   "metadata": {
    "slideshow": {
     "slide_type": "slide"
    }
   },
   "source": [
    "### 数据清洗的元素"
   ]
  },
  {
   "cell_type": "markdown",
   "metadata": {
    "slideshow": {
     "slide_type": "fragment"
    }
   },
   "source": [
    "1. 原始数据（Raw Data）\n",
    "2. 整洁数据集（Tidy Data Set）\n",
    "3. 描述整洁数据集中每一个变量和值的数据字典（Code Book）\n",
    "4. 一个明确且准确的从1到2,3的脚本（Script）。"
   ]
  },
  {
   "cell_type": "markdown",
   "metadata": {
    "slideshow": {
     "slide_type": "slide"
    }
   },
   "source": [
    "### 数据获取"
   ]
  },
  {
   "cell_type": "code",
   "execution_count": 65,
   "metadata": {
    "slideshow": {
     "slide_type": "fragment"
    }
   },
   "outputs": [
    {
     "data": {
      "text/html": [
       "<div>\n",
       "<style scoped>\n",
       "    .dataframe tbody tr th:only-of-type {\n",
       "        vertical-align: middle;\n",
       "    }\n",
       "\n",
       "    .dataframe tbody tr th {\n",
       "        vertical-align: top;\n",
       "    }\n",
       "\n",
       "    .dataframe thead th {\n",
       "        text-align: right;\n",
       "    }\n",
       "</style>\n",
       "<table border=\"1\" class=\"dataframe\">\n",
       "  <thead>\n",
       "    <tr style=\"text-align: right;\">\n",
       "      <th></th>\n",
       "      <th>sepal.length</th>\n",
       "      <th>sepal.width</th>\n",
       "      <th>petal.length</th>\n",
       "      <th>petal.width</th>\n",
       "      <th>variety</th>\n",
       "    </tr>\n",
       "  </thead>\n",
       "  <tbody>\n",
       "    <tr>\n",
       "      <th>0</th>\n",
       "      <td>5.1</td>\n",
       "      <td>3.5</td>\n",
       "      <td>1.4</td>\n",
       "      <td>0.2</td>\n",
       "      <td>Setosa</td>\n",
       "    </tr>\n",
       "    <tr>\n",
       "      <th>1</th>\n",
       "      <td>4.9</td>\n",
       "      <td>3.0</td>\n",
       "      <td>1.4</td>\n",
       "      <td>0.2</td>\n",
       "      <td>Setosa</td>\n",
       "    </tr>\n",
       "    <tr>\n",
       "      <th>2</th>\n",
       "      <td>4.7</td>\n",
       "      <td>3.2</td>\n",
       "      <td>1.3</td>\n",
       "      <td>0.2</td>\n",
       "      <td>Setosa</td>\n",
       "    </tr>\n",
       "  </tbody>\n",
       "</table>\n",
       "</div>"
      ],
      "text/plain": [
       "   sepal.length  sepal.width  petal.length  petal.width variety\n",
       "0           5.1          3.5           1.4          0.2  Setosa\n",
       "1           4.9          3.0           1.4          0.2  Setosa\n",
       "2           4.7          3.2           1.3          0.2  Setosa"
      ]
     },
     "execution_count": 65,
     "metadata": {},
     "output_type": "execute_result"
    }
   ],
   "source": [
    "# 从本地获取文件\n",
    "df_iris = pd.read_csv('iris.csv')\n",
    "df_iris.head(3)"
   ]
  },
  {
   "cell_type": "code",
   "execution_count": 29,
   "metadata": {
    "slideshow": {
     "slide_type": "skip"
    }
   },
   "outputs": [],
   "source": [
    "Password = 'sino123'"
   ]
  },
  {
   "cell_type": "code",
   "execution_count": 47,
   "metadata": {
    "slideshow": {
     "slide_type": "subslide"
    }
   },
   "outputs": [
    {
     "data": {
      "text/html": [
       "<div>\n",
       "<style scoped>\n",
       "    .dataframe tbody tr th:only-of-type {\n",
       "        vertical-align: middle;\n",
       "    }\n",
       "\n",
       "    .dataframe tbody tr th {\n",
       "        vertical-align: top;\n",
       "    }\n",
       "\n",
       "    .dataframe thead th {\n",
       "        text-align: right;\n",
       "    }\n",
       "</style>\n",
       "<table border=\"1\" class=\"dataframe\">\n",
       "  <thead>\n",
       "    <tr style=\"text-align: right;\">\n",
       "      <th></th>\n",
       "      <th>ID</th>\n",
       "      <th>NAME</th>\n",
       "      <th>BASE_TABLE</th>\n",
       "      <th>END_TS</th>\n",
       "      <th>BEGIN_TS</th>\n",
       "      <th>TYPE</th>\n",
       "    </tr>\n",
       "  </thead>\n",
       "  <tbody>\n",
       "    <tr>\n",
       "      <th>0</th>\n",
       "      <td>2980</td>\n",
       "      <td>CMON_ATTEMPT_2019_05_23</td>\n",
       "      <td>CMON_ATTEMPT</td>\n",
       "      <td>1558656000000</td>\n",
       "      <td>None</td>\n",
       "      <td>0</td>\n",
       "    </tr>\n",
       "    <tr>\n",
       "      <th>1</th>\n",
       "      <td>2981</td>\n",
       "      <td>CMON_ATT_LMV_2019_05_23</td>\n",
       "      <td>CMON_ATT_LMV</td>\n",
       "      <td>1558656000000</td>\n",
       "      <td>None</td>\n",
       "      <td>0</td>\n",
       "    </tr>\n",
       "    <tr>\n",
       "      <th>2</th>\n",
       "      <td>2982</td>\n",
       "      <td>CMON_ACT_LMV_2019_05_23</td>\n",
       "      <td>CMON_ACT_LMV</td>\n",
       "      <td>1558656000000</td>\n",
       "      <td>None</td>\n",
       "      <td>0</td>\n",
       "    </tr>\n",
       "  </tbody>\n",
       "</table>\n",
       "</div>"
      ],
      "text/plain": [
       "     ID                     NAME    BASE_TABLE         END_TS BEGIN_TS  TYPE\n",
       "0  2980  CMON_ATTEMPT_2019_05_23  CMON_ATTEMPT  1558656000000     None     0\n",
       "1  2981  CMON_ATT_LMV_2019_05_23  CMON_ATT_LMV  1558656000000     None     0\n",
       "2  2982  CMON_ACT_LMV_2019_05_23  CMON_ACT_LMV  1558656000000     None     0"
      ]
     },
     "execution_count": 47,
     "metadata": {},
     "output_type": "execute_result"
    }
   ],
   "source": [
    "# 从MySql获取数据\n",
    "import pymysql\n",
    "conn = pymysql.connect(host = '10.144.128.10', user = 'root', password = Password, db = 'amon', charset = 'utf8')\n",
    "sql = 'select * from partition_info limit 10'\n",
    "df = pd.read_sql(sql, con = conn) \n",
    "conn.close()\n",
    "df.head(3)"
   ]
  },
  {
   "cell_type": "code",
   "execution_count": 50,
   "metadata": {
    "slideshow": {
     "slide_type": "skip"
    }
   },
   "outputs": [],
   "source": [
    "df_tl = pd.DataFrame({'A': list(range(5)), 'B': list(range(5))})\n",
    "df_tl.to_hdf('store_tl.h5', 'table')"
   ]
  },
  {
   "cell_type": "markdown",
   "metadata": {
    "slideshow": {
     "slide_type": "subslide"
    }
   },
   "source": [
    "HDF（Hierarchical Data Format）是一种设计用于存储和组织大量数据的文件格式。经常用来保存模型生成过程中的大量参数。"
   ]
  },
  {
   "cell_type": "code",
   "execution_count": 51,
   "metadata": {
    "slideshow": {
     "slide_type": "fragment"
    }
   },
   "outputs": [
    {
     "data": {
      "text/html": [
       "<div>\n",
       "<style scoped>\n",
       "    .dataframe tbody tr th:only-of-type {\n",
       "        vertical-align: middle;\n",
       "    }\n",
       "\n",
       "    .dataframe tbody tr th {\n",
       "        vertical-align: top;\n",
       "    }\n",
       "\n",
       "    .dataframe thead th {\n",
       "        text-align: right;\n",
       "    }\n",
       "</style>\n",
       "<table border=\"1\" class=\"dataframe\">\n",
       "  <thead>\n",
       "    <tr style=\"text-align: right;\">\n",
       "      <th></th>\n",
       "      <th>A</th>\n",
       "      <th>B</th>\n",
       "    </tr>\n",
       "  </thead>\n",
       "  <tbody>\n",
       "    <tr>\n",
       "      <th>0</th>\n",
       "      <td>0</td>\n",
       "      <td>0</td>\n",
       "    </tr>\n",
       "    <tr>\n",
       "      <th>1</th>\n",
       "      <td>1</td>\n",
       "      <td>1</td>\n",
       "    </tr>\n",
       "    <tr>\n",
       "      <th>2</th>\n",
       "      <td>2</td>\n",
       "      <td>2</td>\n",
       "    </tr>\n",
       "    <tr>\n",
       "      <th>3</th>\n",
       "      <td>3</td>\n",
       "      <td>3</td>\n",
       "    </tr>\n",
       "    <tr>\n",
       "      <th>4</th>\n",
       "      <td>4</td>\n",
       "      <td>4</td>\n",
       "    </tr>\n",
       "  </tbody>\n",
       "</table>\n",
       "</div>"
      ],
      "text/plain": [
       "   A  B\n",
       "0  0  0\n",
       "1  1  1\n",
       "2  2  2\n",
       "3  3  3\n",
       "4  4  4"
      ]
     },
     "execution_count": 51,
     "metadata": {},
     "output_type": "execute_result"
    }
   ],
   "source": [
    "# 从HDF5获取数据\n",
    "pd.read_hdf('store_tl.h5', 'table')"
   ]
  },
  {
   "cell_type": "markdown",
   "metadata": {
    "slideshow": {
     "slide_type": "subslide"
    }
   },
   "source": [
    "<img src=\"fdic.png\" width=\"30%\">"
   ]
  },
  {
   "cell_type": "code",
   "execution_count": 59,
   "metadata": {
    "scrolled": true,
    "slideshow": {
     "slide_type": "fragment"
    }
   },
   "outputs": [
    {
     "data": {
      "text/plain": [
       "[                                             Bank Name                City  \\\n",
       " 0                                 The Enloe State Bank              Cooper   \n",
       " 1                  Washington Federal Bank for Savings             Chicago   \n",
       " 2      The Farmers and Merchants State Bank of Argonia             Argonia   \n",
       " 3                                  Fayette County Bank          Saint Elmo   \n",
       " 4    Guaranty Bank, (d/b/a BestBank in Georgia & Mi...           Milwaukee   \n",
       " 5                                       First NBC Bank         New Orleans   \n",
       " 6                                        Proficio Bank  Cottonwood Heights   \n",
       " 7                        Seaway Bank and Trust Company             Chicago   \n",
       " 8                               Harvest Community Bank          Pennsville   \n",
       " 9                                          Allied Bank            Mulberry   \n",
       " 10                        The Woodbury Banking Company            Woodbury   \n",
       " 11                              First CornerStone Bank     King of Prussia   \n",
       " 12                                  Trust Company Bank             Memphis   \n",
       " 13                          North Milwaukee State Bank           Milwaukee   \n",
       " 14                              Hometown National Bank            Longview   \n",
       " 15                                 The Bank of Georgia      Peachtree City   \n",
       " 16                                        Premier Bank              Denver   \n",
       " 17                                      Edgebrook Bank             Chicago   \n",
       " 18                              Doral Bank  En Español            San Juan   \n",
       " 19                   Capitol City Bank & Trust Company             Atlanta   \n",
       " 20                             Highland Community Bank             Chicago   \n",
       " 21                    First National Bank of Crestview           Crestview   \n",
       " 22                                  Northern Star Bank             Mankato   \n",
       " 23              Frontier Bank, FSB D/B/A El Paseo Bank         Palm Desert   \n",
       " 24               The National Republic Bank of Chicago             Chicago   \n",
       " 25                                      NBRS Financial          Rising Sun   \n",
       " 26                               GreenChoice Bank, fsb             Chicago   \n",
       " 27                            Eastside Commercial Bank             Conyers   \n",
       " 28                              The Freedom State Bank             Freedom   \n",
       " 29                                         Valley Bank     Fort Lauderdale   \n",
       " ..                                                 ...                 ...   \n",
       " 526                                  ANB Financial, NA         Bentonville   \n",
       " 527                                          Hume Bank                Hume   \n",
       " 528                             Douglass National Bank         Kansas City   \n",
       " 529                                  Miami Valley Bank            Lakeview   \n",
       " 530                                            NetBank          Alpharetta   \n",
       " 531                          Metropolitan Savings Bank          Pittsburgh   \n",
       " 532                                    Bank of Ephraim             Ephraim   \n",
       " 533                                      Reliance Bank        White Plains   \n",
       " 534              Guaranty National Bank of Tallahassee         Tallahassee   \n",
       " 535                                Dollar Savings Bank              Newark   \n",
       " 536                               Pulaski Savings Bank        Philadelphia   \n",
       " 537              First National Bank of Blanchardville      Blanchardville   \n",
       " 538                              Southern Pacific Bank            Torrance   \n",
       " 539                        Farmers Bank of Cheneyville         Cheneyville   \n",
       " 540                                      Bank of Alamo               Alamo   \n",
       " 541             AmTrade International Bank  En Español             Atlanta   \n",
       " 542                     Universal Federal Savings Bank             Chicago   \n",
       " 543                       Connecticut Bank of Commerce            Stamford   \n",
       " 544                                   New Century Bank     Shelby Township   \n",
       " 545                              Net 1st National Bank          Boca Raton   \n",
       " 546                                       NextBank, NA             Phoenix   \n",
       " 547                           Oakwood Deposit Bank Co.             Oakwood   \n",
       " 548                              Bank of Sierra Blanca       Sierra Blanca   \n",
       " 549                      Hamilton Bank, NA  En Español               Miami   \n",
       " 550                             Sinclair National Bank            Gravette   \n",
       " 551                                 Superior Bank, FSB            Hinsdale   \n",
       " 552                                Malta National Bank               Malta   \n",
       " 553                    First Alliance Bank & Trust Co.          Manchester   \n",
       " 554                  National State Bank of Metropolis          Metropolis   \n",
       " 555                                   Bank of Honolulu            Honolulu   \n",
       " \n",
       "      ST   CERT                Acquiring Institution        Closing Date  \\\n",
       " 0    TX  10716                   Legend Bank, N. A.        May 31, 2019   \n",
       " 1    IL  30570                   Royal Savings Bank   December 15, 2017   \n",
       " 2    KS  17719                          Conway Bank    October 13, 2017   \n",
       " 3    IL   1802            United Fidelity Bank, fsb        May 26, 2017   \n",
       " 4    WI  30003  First-Citizens Bank & Trust Company         May 5, 2017   \n",
       " 5    LA  58302                         Whitney Bank      April 28, 2017   \n",
       " 6    UT  35495                    Cache Valley Bank       March 3, 2017   \n",
       " 7    IL  19328                  State Bank of Texas    January 27, 2017   \n",
       " 8    NJ  34951  First-Citizens Bank & Trust Company    January 13, 2017   \n",
       " 9    AR     91                         Today's Bank  September 23, 2016   \n",
       " 10   GA  11297                          United Bank     August 19, 2016   \n",
       " 11   PA  35312  First-Citizens Bank & Trust Company         May 6, 2016   \n",
       " 12   TN   9956           The Bank of Fayette County      April 29, 2016   \n",
       " 13   WI  20364  First-Citizens Bank & Trust Company      March 11, 2016   \n",
       " 14   WA  35156                       Twin City Bank     October 2, 2015   \n",
       " 15   GA  35259                        Fidelity Bank     October 2, 2015   \n",
       " 16   CO  34112            United Fidelity Bank, fsb       July 10, 2015   \n",
       " 17   IL  57772             Republic Bank of Chicago         May 8, 2015   \n",
       " 18   PR  32102         Banco Popular de Puerto Rico   February 27, 2015   \n",
       " 19   GA  33938  First-Citizens Bank & Trust Company   February 13, 2015   \n",
       " 20   IL  20290            United Fidelity Bank, fsb    January 23, 2015   \n",
       " 21   FL  17557                       First NBC Bank    January 16, 2015   \n",
       " 22   MN  34983                            BankVista   December 19, 2014   \n",
       " 23   CA  34738    Bank of Southern California, N.A.    November 7, 2014   \n",
       " 24   IL    916                  State Bank of Texas    October 24, 2014   \n",
       " 25   MD   4862                          Howard Bank    October 17, 2014   \n",
       " 26   IL  28462                 Providence Bank, LLC       July 25, 2014   \n",
       " 27   GA  58125            Community & Southern Bank       July 18, 2014   \n",
       " 28   OK  12483      Alva State Bank & Trust Company       June 27, 2014   \n",
       " 29   FL  21793  Landmark Bank, National Association       June 20, 2014   \n",
       " ..   ..    ...                                  ...                 ...   \n",
       " 526  AR  33901       Pulaski Bank and Trust Company         May 9, 2008   \n",
       " 527  MO   1971                        Security Bank       March 7, 2008   \n",
       " 528  MO  24660       Liberty Bank and Trust Company    January 25, 2008   \n",
       " 529  OH  16848         The Citizens Banking Company     October 4, 2007   \n",
       " 530  GA  32575                           ING DIRECT  September 28, 2007   \n",
       " 531  PA  35353  Allegheny Valley Bank of Pittsburgh    February 2, 2007   \n",
       " 532  UT   1249                        Far West Bank       June 25, 2004   \n",
       " 533  NY  26778                     Union State Bank      March 19, 2004   \n",
       " 534  FL  26838              Hancock Bank of Florida      March 12, 2004   \n",
       " 535  NJ  31330                          No Acquirer   February 14, 2004   \n",
       " 536  PA  27203                       Earthstar Bank   November 14, 2003   \n",
       " 537  WI  11639                        The Park Bank         May 9, 2003   \n",
       " 538  CA  27094                            Beal Bank    February 7, 2003   \n",
       " 539  LA  16445            Sabine State Bank & Trust   December 17, 2002   \n",
       " 540  TN   9961                          No Acquirer    November 8, 2002   \n",
       " 541  GA  33784                          No Acquirer  September 30, 2002   \n",
       " 542  IL  29355               Chicago Community Bank       June 27, 2002   \n",
       " 543  CT  19183                   Hudson United Bank       June 26, 2002   \n",
       " 544  MI  34979                          No Acquirer      March 28, 2002   \n",
       " 545  FL  26652                       Bank Leumi USA       March 1, 2002   \n",
       " 546  AZ  22314                          No Acquirer    February 7, 2002   \n",
       " 547  OH   8966       The State Bank & Trust Company    February 1, 2002   \n",
       " 548  TX  22002     The Security State Bank of Pecos    January 18, 2002   \n",
       " 549  FL  24382     Israel Discount Bank of New York    January 11, 2002   \n",
       " 550  AR  34248                   Delta Trust & Bank   September 7, 2001   \n",
       " 551  IL  32646                Superior Federal, FSB       July 27, 2001   \n",
       " 552  OH   6629                    North Valley Bank         May 3, 2001   \n",
       " 553  NH  34264  Southern New Hampshire Bank & Trust    February 2, 2001   \n",
       " 554  IL   3815              Banterra Bank of Marion   December 14, 2000   \n",
       " 555  HI  21029                   Bank of the Orient    October 13, 2000   \n",
       " \n",
       "            Updated Date  \n",
       " 0          May 31, 2019  \n",
       " 1      February 1, 2019  \n",
       " 2     February 21, 2018  \n",
       " 3      January 29, 2019  \n",
       " 4        March 22, 2018  \n",
       " 5      January 29, 2019  \n",
       " 6      January 29, 2019  \n",
       " 7      January 29, 2019  \n",
       " 8          May 18, 2017  \n",
       " 9          May 13, 2019  \n",
       " 10    December 13, 2018  \n",
       " 11    November 13, 2018  \n",
       " 12   September 14, 2018  \n",
       " 13     January 29, 2019  \n",
       " 14    February 19, 2018  \n",
       " 15         July 9, 2018  \n",
       " 16    February 20, 2018  \n",
       " 17     January 29, 2019  \n",
       " 18     January 29, 2019  \n",
       " 19     January 29, 2019  \n",
       " 20    November 15, 2017  \n",
       " 21    November 15, 2017  \n",
       " 22      January 3, 2018  \n",
       " 23    November 10, 2016  \n",
       " 24      January 6, 2016  \n",
       " 25     January 29, 2019  \n",
       " 26    December 12, 2016  \n",
       " 27      October 6, 2017  \n",
       " 28    February 21, 2018  \n",
       " 29     January 29, 2019  \n",
       " ..                  ...  \n",
       " 526    February 1, 2019  \n",
       " 527    January 31, 2019  \n",
       " 528    October 26, 2012  \n",
       " 529  September 12, 2016  \n",
       " 530    January 31, 2019  \n",
       " 531    October 27, 2010  \n",
       " 532       April 9, 2008  \n",
       " 533       April 9, 2008  \n",
       " 534      April 17, 2018  \n",
       " 535       April 9, 2008  \n",
       " 536     October 6, 2017  \n",
       " 537        June 5, 2012  \n",
       " 538    October 20, 2008  \n",
       " 539    October 20, 2004  \n",
       " 540      March 18, 2005  \n",
       " 541  September 11, 2006  \n",
       " 542     October 6, 2017  \n",
       " 543   February 14, 2012  \n",
       " 544      March 18, 2005  \n",
       " 545       April 9, 2008  \n",
       " 546    February 5, 2015  \n",
       " 547    October 25, 2012  \n",
       " 548    November 6, 2003  \n",
       " 549  September 21, 2015  \n",
       " 550     October 6, 2017  \n",
       " 551     August 19, 2014  \n",
       " 552   November 18, 2002  \n",
       " 553   February 18, 2003  \n",
       " 554      March 17, 2005  \n",
       " 555      March 17, 2005  \n",
       " \n",
       " [556 rows x 7 columns]]"
      ]
     },
     "execution_count": 59,
     "metadata": {},
     "output_type": "execute_result"
    }
   ],
   "source": [
    "#从网页Web获取数据\n",
    "url = 'https://www.fdic.gov/bank/individual/failed/banklist.html'\n",
    "dfs = pd.read_html(url)\n",
    "dfs"
   ]
  },
  {
   "cell_type": "code",
   "execution_count": 64,
   "metadata": {
    "slideshow": {
     "slide_type": "subslide"
    }
   },
   "outputs": [
    {
     "name": "stdout",
     "output_type": "stream",
     "text": [
      "<html>\n",
      " <head>\n",
      "  <title>\n",
      "   This is a python demo page\n",
      "  </title>\n",
      " </head>\n",
      " <body>\n",
      "  <p class=\"title\">\n",
      "   <b>\n",
      "    The demo python introduces several python courses.\n",
      "   </b>\n",
      "  </p>\n",
      "  <p class=\"course\">\n",
      "   Python is a wonderful general-purpose programming language. You can learn Python from novice to professional by tracking the following courses:\n",
      "   <a class=\"py1\" href=\"http://www.icourse163.org/course/BIT-268001\" id=\"link1\">\n",
      "    Basic Python\n",
      "   </a>\n",
      "   and\n",
      "   <a class=\"py2\" href=\"http://www.icourse163.org/course/BIT-1001870001\" id=\"link2\">\n",
      "    Advanced Python\n",
      "   </a>\n",
      "   .\n",
      "  </p>\n",
      " </body>\n",
      "</html>\n"
     ]
    }
   ],
   "source": [
    "#抓取网页数据\n",
    "from bs4 import BeautifulSoup\n",
    "import requests\n",
    "\n",
    "url = 'http://python123.io/ws/demo.html'\n",
    "r = requests.get(url).text\n",
    "\n",
    "soup = BeautifulSoup(r, \"html.parser\") # r是待解析内容，html.parser是解析器\n",
    "\n",
    "print(soup.prettify())  # 使用prettify()格式化显示输出"
   ]
  },
  {
   "cell_type": "markdown",
   "metadata": {
    "slideshow": {
     "slide_type": "slide"
    }
   },
   "source": [
    "### 数据清洗"
   ]
  },
  {
   "cell_type": "code",
   "execution_count": 70,
   "metadata": {
    "slideshow": {
     "slide_type": "fragment"
    }
   },
   "outputs": [
    {
     "data": {
      "text/html": [
       "<div>\n",
       "<style scoped>\n",
       "    .dataframe tbody tr th:only-of-type {\n",
       "        vertical-align: middle;\n",
       "    }\n",
       "\n",
       "    .dataframe tbody tr th {\n",
       "        vertical-align: top;\n",
       "    }\n",
       "\n",
       "    .dataframe thead th {\n",
       "        text-align: right;\n",
       "    }\n",
       "</style>\n",
       "<table border=\"1\" class=\"dataframe\">\n",
       "  <thead>\n",
       "    <tr style=\"text-align: right;\">\n",
       "      <th></th>\n",
       "      <th>sepal.length</th>\n",
       "      <th>sepal.width</th>\n",
       "      <th>petal.length</th>\n",
       "      <th>petal.width</th>\n",
       "      <th>variety</th>\n",
       "    </tr>\n",
       "  </thead>\n",
       "  <tbody>\n",
       "    <tr>\n",
       "      <th>0</th>\n",
       "      <td>5.1</td>\n",
       "      <td>3.5</td>\n",
       "      <td>1.4</td>\n",
       "      <td>0.2</td>\n",
       "      <td>Setosa</td>\n",
       "    </tr>\n",
       "    <tr>\n",
       "      <th>1</th>\n",
       "      <td>4.9</td>\n",
       "      <td>3.0</td>\n",
       "      <td>1.4</td>\n",
       "      <td>0.2</td>\n",
       "      <td>Setosa</td>\n",
       "    </tr>\n",
       "    <tr>\n",
       "      <th>2</th>\n",
       "      <td>4.7</td>\n",
       "      <td>3.2</td>\n",
       "      <td>1.3</td>\n",
       "      <td>0.2</td>\n",
       "      <td>Setosa</td>\n",
       "    </tr>\n",
       "  </tbody>\n",
       "</table>\n",
       "</div>"
      ],
      "text/plain": [
       "   sepal.length  sepal.width  petal.length  petal.width variety\n",
       "0           5.1          3.5           1.4          0.2  Setosa\n",
       "1           4.9          3.0           1.4          0.2  Setosa\n",
       "2           4.7          3.2           1.3          0.2  Setosa"
      ]
     },
     "execution_count": 70,
     "metadata": {},
     "output_type": "execute_result"
    }
   ],
   "source": [
    "df_iris.head(3)"
   ]
  },
  {
   "cell_type": "code",
   "execution_count": 69,
   "metadata": {
    "slideshow": {
     "slide_type": "fragment"
    }
   },
   "outputs": [
    {
     "data": {
      "text/html": [
       "<div>\n",
       "<style scoped>\n",
       "    .dataframe tbody tr th:only-of-type {\n",
       "        vertical-align: middle;\n",
       "    }\n",
       "\n",
       "    .dataframe tbody tr th {\n",
       "        vertical-align: top;\n",
       "    }\n",
       "\n",
       "    .dataframe thead th {\n",
       "        text-align: right;\n",
       "    }\n",
       "</style>\n",
       "<table border=\"1\" class=\"dataframe\">\n",
       "  <thead>\n",
       "    <tr style=\"text-align: right;\">\n",
       "      <th></th>\n",
       "      <th>petal.length</th>\n",
       "      <th>petal.width</th>\n",
       "      <th>variety</th>\n",
       "    </tr>\n",
       "  </thead>\n",
       "  <tbody>\n",
       "    <tr>\n",
       "      <th>0</th>\n",
       "      <td>1.4</td>\n",
       "      <td>0.2</td>\n",
       "      <td>Setosa</td>\n",
       "    </tr>\n",
       "    <tr>\n",
       "      <th>1</th>\n",
       "      <td>1.4</td>\n",
       "      <td>0.2</td>\n",
       "      <td>Setosa</td>\n",
       "    </tr>\n",
       "    <tr>\n",
       "      <th>2</th>\n",
       "      <td>1.3</td>\n",
       "      <td>0.2</td>\n",
       "      <td>Setosa</td>\n",
       "    </tr>\n",
       "    <tr>\n",
       "      <th>3</th>\n",
       "      <td>1.5</td>\n",
       "      <td>0.2</td>\n",
       "      <td>Setosa</td>\n",
       "    </tr>\n",
       "    <tr>\n",
       "      <th>4</th>\n",
       "      <td>1.4</td>\n",
       "      <td>0.2</td>\n",
       "      <td>Setosa</td>\n",
       "    </tr>\n",
       "  </tbody>\n",
       "</table>\n",
       "</div>"
      ],
      "text/plain": [
       "   petal.length  petal.width variety\n",
       "0           1.4          0.2  Setosa\n",
       "1           1.4          0.2  Setosa\n",
       "2           1.3          0.2  Setosa\n",
       "3           1.5          0.2  Setosa\n",
       "4           1.4          0.2  Setosa"
      ]
     },
     "execution_count": 69,
     "metadata": {},
     "output_type": "execute_result"
    }
   ],
   "source": [
    "#数据选择\n",
    "df_iris.loc[0:4,['petal.length','petal.width','variety']]"
   ]
  },
  {
   "cell_type": "code",
   "execution_count": 74,
   "metadata": {
    "slideshow": {
     "slide_type": "subslide"
    }
   },
   "outputs": [
    {
     "data": {
      "text/html": [
       "<div>\n",
       "<style scoped>\n",
       "    .dataframe tbody tr th:only-of-type {\n",
       "        vertical-align: middle;\n",
       "    }\n",
       "\n",
       "    .dataframe tbody tr th {\n",
       "        vertical-align: top;\n",
       "    }\n",
       "\n",
       "    .dataframe thead th {\n",
       "        text-align: right;\n",
       "    }\n",
       "</style>\n",
       "<table border=\"1\" class=\"dataframe\">\n",
       "  <thead>\n",
       "    <tr style=\"text-align: right;\">\n",
       "      <th></th>\n",
       "      <th>sepal.length</th>\n",
       "      <th>sepal.width</th>\n",
       "      <th>petal.length</th>\n",
       "      <th>petal.width</th>\n",
       "    </tr>\n",
       "  </thead>\n",
       "  <tbody>\n",
       "    <tr>\n",
       "      <th>count</th>\n",
       "      <td>150.000000</td>\n",
       "      <td>150.000000</td>\n",
       "      <td>150.000000</td>\n",
       "      <td>150.000000</td>\n",
       "    </tr>\n",
       "    <tr>\n",
       "      <th>mean</th>\n",
       "      <td>5.843333</td>\n",
       "      <td>3.057333</td>\n",
       "      <td>3.758000</td>\n",
       "      <td>1.199333</td>\n",
       "    </tr>\n",
       "    <tr>\n",
       "      <th>std</th>\n",
       "      <td>0.828066</td>\n",
       "      <td>0.435866</td>\n",
       "      <td>1.765298</td>\n",
       "      <td>0.762238</td>\n",
       "    </tr>\n",
       "    <tr>\n",
       "      <th>min</th>\n",
       "      <td>4.300000</td>\n",
       "      <td>2.000000</td>\n",
       "      <td>1.000000</td>\n",
       "      <td>0.100000</td>\n",
       "    </tr>\n",
       "    <tr>\n",
       "      <th>25%</th>\n",
       "      <td>5.100000</td>\n",
       "      <td>2.800000</td>\n",
       "      <td>1.600000</td>\n",
       "      <td>0.300000</td>\n",
       "    </tr>\n",
       "    <tr>\n",
       "      <th>50%</th>\n",
       "      <td>5.800000</td>\n",
       "      <td>3.000000</td>\n",
       "      <td>4.350000</td>\n",
       "      <td>1.300000</td>\n",
       "    </tr>\n",
       "    <tr>\n",
       "      <th>75%</th>\n",
       "      <td>6.400000</td>\n",
       "      <td>3.300000</td>\n",
       "      <td>5.100000</td>\n",
       "      <td>1.800000</td>\n",
       "    </tr>\n",
       "    <tr>\n",
       "      <th>max</th>\n",
       "      <td>7.900000</td>\n",
       "      <td>4.400000</td>\n",
       "      <td>6.900000</td>\n",
       "      <td>2.500000</td>\n",
       "    </tr>\n",
       "  </tbody>\n",
       "</table>\n",
       "</div>"
      ],
      "text/plain": [
       "       sepal.length  sepal.width  petal.length  petal.width\n",
       "count    150.000000   150.000000    150.000000   150.000000\n",
       "mean       5.843333     3.057333      3.758000     1.199333\n",
       "std        0.828066     0.435866      1.765298     0.762238\n",
       "min        4.300000     2.000000      1.000000     0.100000\n",
       "25%        5.100000     2.800000      1.600000     0.300000\n",
       "50%        5.800000     3.000000      4.350000     1.300000\n",
       "75%        6.400000     3.300000      5.100000     1.800000\n",
       "max        7.900000     4.400000      6.900000     2.500000"
      ]
     },
     "execution_count": 74,
     "metadata": {},
     "output_type": "execute_result"
    }
   ],
   "source": [
    "# 数据汇总\n",
    "df_iris.describe()"
   ]
  },
  {
   "cell_type": "code",
   "execution_count": 78,
   "metadata": {
    "slideshow": {
     "slide_type": "skip"
    }
   },
   "outputs": [],
   "source": [
    "df1 = pd.DataFrame({'A': ['A0', 'A1', 'A2', 'A3'],\n",
    "                     'B': ['B0', 'B1', 'B2', 'B3'],\n",
    "                     'C': ['C0', 'C1', 'C2', 'C3'],\n",
    "                     'D': ['D0', 'D1', 'D2', 'D3']},\n",
    "                     index=[0, 1, 2, 3])\n",
    "    \n",
    "\n",
    "df2 = pd.DataFrame({'A': ['A4', 'A5', 'A6', 'A7'],\n",
    "                    'B': ['B4', 'B5', 'B6', 'B7'],\n",
    "                    'C': ['C4', 'C5', 'C6', 'C7'],\n",
    "                    'D': ['D4', 'D5', 'D6', 'D7']},\n",
    "                    index=[4, 5, 6, 7])\n",
    "\n",
    "\n",
    "df3 = pd.DataFrame({'A': ['A8', 'A9', 'A10', 'A11'],\n",
    "                    'B': ['B8', 'B9', 'B10', 'B11'],\n",
    "                    'C': ['C8', 'C9', 'C10', 'C11'],\n",
    "                    'D': ['D8', 'D9', 'D10', 'D11']},\n",
    "                    index=[8, 9, 10, 11])"
   ]
  },
  {
   "cell_type": "code",
   "execution_count": 80,
   "metadata": {
    "slideshow": {
     "slide_type": "subslide"
    }
   },
   "outputs": [],
   "source": [
    "# 数据合并\n",
    "frames = [df1, df2, df3]\n",
    "result = pd.concat(frames)"
   ]
  },
  {
   "cell_type": "markdown",
   "metadata": {
    "slideshow": {
     "slide_type": "fragment"
    }
   },
   "source": [
    "<img src = 'join.png' width = 30%>"
   ]
  },
  {
   "cell_type": "code",
   "execution_count": 81,
   "metadata": {},
   "outputs": [],
   "source": [
    "df = pd.DataFrame(np.random.randn(5, 3), index=['a', 'c', 'e', 'f', 'h'], columns=['one', 'two', 'three'])\n",
    "df['four'] = 'bar'\n",
    "df['five'] = df['one'] > 0\n",
    "df2 = df.reindex(['a', 'b', 'c', 'd', 'e', 'f', 'g', 'h'])"
   ]
  },
  {
   "cell_type": "code",
   "execution_count": 84,
   "metadata": {
    "slideshow": {
     "slide_type": "subslide"
    }
   },
   "outputs": [
    {
     "data": {
      "text/html": [
       "<div>\n",
       "<style scoped>\n",
       "    .dataframe tbody tr th:only-of-type {\n",
       "        vertical-align: middle;\n",
       "    }\n",
       "\n",
       "    .dataframe tbody tr th {\n",
       "        vertical-align: top;\n",
       "    }\n",
       "\n",
       "    .dataframe thead th {\n",
       "        text-align: right;\n",
       "    }\n",
       "</style>\n",
       "<table border=\"1\" class=\"dataframe\">\n",
       "  <thead>\n",
       "    <tr style=\"text-align: right;\">\n",
       "      <th></th>\n",
       "      <th>one</th>\n",
       "      <th>two</th>\n",
       "      <th>three</th>\n",
       "      <th>four</th>\n",
       "      <th>five</th>\n",
       "    </tr>\n",
       "  </thead>\n",
       "  <tbody>\n",
       "    <tr>\n",
       "      <th>a</th>\n",
       "      <td>-0.401110</td>\n",
       "      <td>-2.441605</td>\n",
       "      <td>1.131252</td>\n",
       "      <td>bar</td>\n",
       "      <td>False</td>\n",
       "    </tr>\n",
       "    <tr>\n",
       "      <th>b</th>\n",
       "      <td>NaN</td>\n",
       "      <td>NaN</td>\n",
       "      <td>NaN</td>\n",
       "      <td>NaN</td>\n",
       "      <td>NaN</td>\n",
       "    </tr>\n",
       "    <tr>\n",
       "      <th>c</th>\n",
       "      <td>1.591758</td>\n",
       "      <td>0.545495</td>\n",
       "      <td>-0.116857</td>\n",
       "      <td>bar</td>\n",
       "      <td>True</td>\n",
       "    </tr>\n",
       "    <tr>\n",
       "      <th>d</th>\n",
       "      <td>NaN</td>\n",
       "      <td>NaN</td>\n",
       "      <td>NaN</td>\n",
       "      <td>NaN</td>\n",
       "      <td>NaN</td>\n",
       "    </tr>\n",
       "    <tr>\n",
       "      <th>e</th>\n",
       "      <td>-1.053657</td>\n",
       "      <td>0.573876</td>\n",
       "      <td>-0.461941</td>\n",
       "      <td>bar</td>\n",
       "      <td>False</td>\n",
       "    </tr>\n",
       "    <tr>\n",
       "      <th>f</th>\n",
       "      <td>-0.411169</td>\n",
       "      <td>-1.437102</td>\n",
       "      <td>1.059465</td>\n",
       "      <td>bar</td>\n",
       "      <td>False</td>\n",
       "    </tr>\n",
       "    <tr>\n",
       "      <th>g</th>\n",
       "      <td>NaN</td>\n",
       "      <td>NaN</td>\n",
       "      <td>NaN</td>\n",
       "      <td>NaN</td>\n",
       "      <td>NaN</td>\n",
       "    </tr>\n",
       "    <tr>\n",
       "      <th>h</th>\n",
       "      <td>0.587264</td>\n",
       "      <td>1.783930</td>\n",
       "      <td>-0.199802</td>\n",
       "      <td>bar</td>\n",
       "      <td>True</td>\n",
       "    </tr>\n",
       "  </tbody>\n",
       "</table>\n",
       "</div>"
      ],
      "text/plain": [
       "        one       two     three four   five\n",
       "a -0.401110 -2.441605  1.131252  bar  False\n",
       "b       NaN       NaN       NaN  NaN    NaN\n",
       "c  1.591758  0.545495 -0.116857  bar   True\n",
       "d       NaN       NaN       NaN  NaN    NaN\n",
       "e -1.053657  0.573876 -0.461941  bar  False\n",
       "f -0.411169 -1.437102  1.059465  bar  False\n",
       "g       NaN       NaN       NaN  NaN    NaN\n",
       "h  0.587264  1.783930 -0.199802  bar   True"
      ]
     },
     "execution_count": 84,
     "metadata": {},
     "output_type": "execute_result"
    }
   ],
   "source": [
    "df2"
   ]
  },
  {
   "cell_type": "code",
   "execution_count": 85,
   "metadata": {
    "slideshow": {
     "slide_type": "fragment"
    }
   },
   "outputs": [
    {
     "data": {
      "text/html": [
       "<div>\n",
       "<style scoped>\n",
       "    .dataframe tbody tr th:only-of-type {\n",
       "        vertical-align: middle;\n",
       "    }\n",
       "\n",
       "    .dataframe tbody tr th {\n",
       "        vertical-align: top;\n",
       "    }\n",
       "\n",
       "    .dataframe thead th {\n",
       "        text-align: right;\n",
       "    }\n",
       "</style>\n",
       "<table border=\"1\" class=\"dataframe\">\n",
       "  <thead>\n",
       "    <tr style=\"text-align: right;\">\n",
       "      <th></th>\n",
       "      <th>one</th>\n",
       "      <th>two</th>\n",
       "      <th>three</th>\n",
       "      <th>four</th>\n",
       "      <th>five</th>\n",
       "    </tr>\n",
       "  </thead>\n",
       "  <tbody>\n",
       "    <tr>\n",
       "      <th>a</th>\n",
       "      <td>False</td>\n",
       "      <td>False</td>\n",
       "      <td>False</td>\n",
       "      <td>False</td>\n",
       "      <td>False</td>\n",
       "    </tr>\n",
       "    <tr>\n",
       "      <th>b</th>\n",
       "      <td>True</td>\n",
       "      <td>True</td>\n",
       "      <td>True</td>\n",
       "      <td>True</td>\n",
       "      <td>True</td>\n",
       "    </tr>\n",
       "    <tr>\n",
       "      <th>c</th>\n",
       "      <td>False</td>\n",
       "      <td>False</td>\n",
       "      <td>False</td>\n",
       "      <td>False</td>\n",
       "      <td>False</td>\n",
       "    </tr>\n",
       "    <tr>\n",
       "      <th>d</th>\n",
       "      <td>True</td>\n",
       "      <td>True</td>\n",
       "      <td>True</td>\n",
       "      <td>True</td>\n",
       "      <td>True</td>\n",
       "    </tr>\n",
       "    <tr>\n",
       "      <th>e</th>\n",
       "      <td>False</td>\n",
       "      <td>False</td>\n",
       "      <td>False</td>\n",
       "      <td>False</td>\n",
       "      <td>False</td>\n",
       "    </tr>\n",
       "    <tr>\n",
       "      <th>f</th>\n",
       "      <td>False</td>\n",
       "      <td>False</td>\n",
       "      <td>False</td>\n",
       "      <td>False</td>\n",
       "      <td>False</td>\n",
       "    </tr>\n",
       "    <tr>\n",
       "      <th>g</th>\n",
       "      <td>True</td>\n",
       "      <td>True</td>\n",
       "      <td>True</td>\n",
       "      <td>True</td>\n",
       "      <td>True</td>\n",
       "    </tr>\n",
       "    <tr>\n",
       "      <th>h</th>\n",
       "      <td>False</td>\n",
       "      <td>False</td>\n",
       "      <td>False</td>\n",
       "      <td>False</td>\n",
       "      <td>False</td>\n",
       "    </tr>\n",
       "  </tbody>\n",
       "</table>\n",
       "</div>"
      ],
      "text/plain": [
       "     one    two  three   four   five\n",
       "a  False  False  False  False  False\n",
       "b   True   True   True   True   True\n",
       "c  False  False  False  False  False\n",
       "d   True   True   True   True   True\n",
       "e  False  False  False  False  False\n",
       "f  False  False  False  False  False\n",
       "g   True   True   True   True   True\n",
       "h  False  False  False  False  False"
      ]
     },
     "execution_count": 85,
     "metadata": {},
     "output_type": "execute_result"
    }
   ],
   "source": [
    "# 检查缺失值\n",
    "pd.isna(df2)"
   ]
  },
  {
   "cell_type": "code",
   "execution_count": 86,
   "metadata": {
    "slideshow": {
     "slide_type": "subslide"
    }
   },
   "outputs": [
    {
     "data": {
      "text/html": [
       "<div>\n",
       "<style scoped>\n",
       "    .dataframe tbody tr th:only-of-type {\n",
       "        vertical-align: middle;\n",
       "    }\n",
       "\n",
       "    .dataframe tbody tr th {\n",
       "        vertical-align: top;\n",
       "    }\n",
       "\n",
       "    .dataframe thead th {\n",
       "        text-align: right;\n",
       "    }\n",
       "</style>\n",
       "<table border=\"1\" class=\"dataframe\">\n",
       "  <thead>\n",
       "    <tr style=\"text-align: right;\">\n",
       "      <th></th>\n",
       "      <th>one</th>\n",
       "      <th>two</th>\n",
       "      <th>three</th>\n",
       "      <th>four</th>\n",
       "      <th>five</th>\n",
       "    </tr>\n",
       "  </thead>\n",
       "  <tbody>\n",
       "    <tr>\n",
       "      <th>a</th>\n",
       "      <td>-0.401110</td>\n",
       "      <td>-2.441605</td>\n",
       "      <td>1.131252</td>\n",
       "      <td>bar</td>\n",
       "      <td>False</td>\n",
       "    </tr>\n",
       "    <tr>\n",
       "      <th>b</th>\n",
       "      <td>0.000000</td>\n",
       "      <td>0.000000</td>\n",
       "      <td>0.000000</td>\n",
       "      <td>0</td>\n",
       "      <td>0</td>\n",
       "    </tr>\n",
       "    <tr>\n",
       "      <th>c</th>\n",
       "      <td>1.591758</td>\n",
       "      <td>0.545495</td>\n",
       "      <td>-0.116857</td>\n",
       "      <td>bar</td>\n",
       "      <td>True</td>\n",
       "    </tr>\n",
       "    <tr>\n",
       "      <th>d</th>\n",
       "      <td>0.000000</td>\n",
       "      <td>0.000000</td>\n",
       "      <td>0.000000</td>\n",
       "      <td>0</td>\n",
       "      <td>0</td>\n",
       "    </tr>\n",
       "    <tr>\n",
       "      <th>e</th>\n",
       "      <td>-1.053657</td>\n",
       "      <td>0.573876</td>\n",
       "      <td>-0.461941</td>\n",
       "      <td>bar</td>\n",
       "      <td>False</td>\n",
       "    </tr>\n",
       "    <tr>\n",
       "      <th>f</th>\n",
       "      <td>-0.411169</td>\n",
       "      <td>-1.437102</td>\n",
       "      <td>1.059465</td>\n",
       "      <td>bar</td>\n",
       "      <td>False</td>\n",
       "    </tr>\n",
       "    <tr>\n",
       "      <th>g</th>\n",
       "      <td>0.000000</td>\n",
       "      <td>0.000000</td>\n",
       "      <td>0.000000</td>\n",
       "      <td>0</td>\n",
       "      <td>0</td>\n",
       "    </tr>\n",
       "    <tr>\n",
       "      <th>h</th>\n",
       "      <td>0.587264</td>\n",
       "      <td>1.783930</td>\n",
       "      <td>-0.199802</td>\n",
       "      <td>bar</td>\n",
       "      <td>True</td>\n",
       "    </tr>\n",
       "  </tbody>\n",
       "</table>\n",
       "</div>"
      ],
      "text/plain": [
       "        one       two     three four   five\n",
       "a -0.401110 -2.441605  1.131252  bar  False\n",
       "b  0.000000  0.000000  0.000000    0      0\n",
       "c  1.591758  0.545495 -0.116857  bar   True\n",
       "d  0.000000  0.000000  0.000000    0      0\n",
       "e -1.053657  0.573876 -0.461941  bar  False\n",
       "f -0.411169 -1.437102  1.059465  bar  False\n",
       "g  0.000000  0.000000  0.000000    0      0\n",
       "h  0.587264  1.783930 -0.199802  bar   True"
      ]
     },
     "execution_count": 86,
     "metadata": {},
     "output_type": "execute_result"
    }
   ],
   "source": [
    "# 处理缺失值\n",
    "df2.fillna(0)"
   ]
  },
  {
   "cell_type": "code",
   "execution_count": 100,
   "metadata": {
    "slideshow": {
     "slide_type": "subslide"
    }
   },
   "outputs": [
    {
     "data": {
      "text/html": [
       "<div>\n",
       "<style scoped>\n",
       "    .dataframe tbody tr th:only-of-type {\n",
       "        vertical-align: middle;\n",
       "    }\n",
       "\n",
       "    .dataframe tbody tr th {\n",
       "        vertical-align: top;\n",
       "    }\n",
       "\n",
       "    .dataframe thead th {\n",
       "        text-align: right;\n",
       "    }\n",
       "</style>\n",
       "<table border=\"1\" class=\"dataframe\">\n",
       "  <thead>\n",
       "    <tr style=\"text-align: right;\">\n",
       "      <th></th>\n",
       "      <th>one</th>\n",
       "      <th>two</th>\n",
       "      <th>three</th>\n",
       "      <th>four</th>\n",
       "      <th>five</th>\n",
       "    </tr>\n",
       "  </thead>\n",
       "  <tbody>\n",
       "    <tr>\n",
       "      <th>a</th>\n",
       "      <td>-0.401110</td>\n",
       "      <td>-2.441605</td>\n",
       "      <td>1.131252</td>\n",
       "      <td>bar</td>\n",
       "      <td>False</td>\n",
       "    </tr>\n",
       "    <tr>\n",
       "      <th>b</th>\n",
       "      <td>NaN</td>\n",
       "      <td>NaN</td>\n",
       "      <td>NaN</td>\n",
       "      <td>NaN</td>\n",
       "      <td>NaN</td>\n",
       "    </tr>\n",
       "    <tr>\n",
       "      <th>c</th>\n",
       "      <td>1.000000</td>\n",
       "      <td>0.545495</td>\n",
       "      <td>-0.116857</td>\n",
       "      <td>bar</td>\n",
       "      <td>True</td>\n",
       "    </tr>\n",
       "    <tr>\n",
       "      <th>d</th>\n",
       "      <td>NaN</td>\n",
       "      <td>NaN</td>\n",
       "      <td>NaN</td>\n",
       "      <td>NaN</td>\n",
       "      <td>NaN</td>\n",
       "    </tr>\n",
       "    <tr>\n",
       "      <th>e</th>\n",
       "      <td>-1.053657</td>\n",
       "      <td>0.573876</td>\n",
       "      <td>-0.461941</td>\n",
       "      <td>bar</td>\n",
       "      <td>False</td>\n",
       "    </tr>\n",
       "    <tr>\n",
       "      <th>f</th>\n",
       "      <td>-0.411169</td>\n",
       "      <td>-1.437102</td>\n",
       "      <td>1.059465</td>\n",
       "      <td>bar</td>\n",
       "      <td>False</td>\n",
       "    </tr>\n",
       "    <tr>\n",
       "      <th>g</th>\n",
       "      <td>NaN</td>\n",
       "      <td>NaN</td>\n",
       "      <td>NaN</td>\n",
       "      <td>NaN</td>\n",
       "      <td>NaN</td>\n",
       "    </tr>\n",
       "    <tr>\n",
       "      <th>h</th>\n",
       "      <td>0.587264</td>\n",
       "      <td>1.783930</td>\n",
       "      <td>-0.199802</td>\n",
       "      <td>bar</td>\n",
       "      <td>True</td>\n",
       "    </tr>\n",
       "  </tbody>\n",
       "</table>\n",
       "</div>"
      ],
      "text/plain": [
       "        one       two     three four   five\n",
       "a -0.401110 -2.441605  1.131252  bar  False\n",
       "b       NaN       NaN       NaN  NaN    NaN\n",
       "c  1.000000  0.545495 -0.116857  bar   True\n",
       "d       NaN       NaN       NaN  NaN    NaN\n",
       "e -1.053657  0.573876 -0.461941  bar  False\n",
       "f -0.411169 -1.437102  1.059465  bar  False\n",
       "g       NaN       NaN       NaN  NaN    NaN\n",
       "h  0.587264  1.783930 -0.199802  bar   True"
      ]
     },
     "execution_count": 100,
     "metadata": {},
     "output_type": "execute_result"
    }
   ],
   "source": [
    "# 处理异常值\n",
    "df2.loc[df2['one'] > 1]['one'] = 1\n",
    "df2"
   ]
  },
  {
   "cell_type": "code",
   "execution_count": 107,
   "metadata": {
    "slideshow": {
     "slide_type": "subslide"
    }
   },
   "outputs": [
    {
     "data": {
      "text/html": [
       "<div>\n",
       "<style scoped>\n",
       "    .dataframe tbody tr th:only-of-type {\n",
       "        vertical-align: middle;\n",
       "    }\n",
       "\n",
       "    .dataframe tbody tr th {\n",
       "        vertical-align: top;\n",
       "    }\n",
       "\n",
       "    .dataframe thead th {\n",
       "        text-align: right;\n",
       "    }\n",
       "</style>\n",
       "<table border=\"1\" class=\"dataframe\">\n",
       "  <thead>\n",
       "    <tr style=\"text-align: right;\">\n",
       "      <th></th>\n",
       "      <th>sepal.length</th>\n",
       "      <th>sepal.width</th>\n",
       "      <th>petal.length</th>\n",
       "      <th>petal.width</th>\n",
       "      <th>variety</th>\n",
       "    </tr>\n",
       "  </thead>\n",
       "  <tbody>\n",
       "    <tr>\n",
       "      <th>0</th>\n",
       "      <td>5</td>\n",
       "      <td>3.5</td>\n",
       "      <td>1.4</td>\n",
       "      <td>0.2</td>\n",
       "      <td>Setosa</td>\n",
       "    </tr>\n",
       "    <tr>\n",
       "      <th>1</th>\n",
       "      <td>4</td>\n",
       "      <td>3.0</td>\n",
       "      <td>1.4</td>\n",
       "      <td>0.2</td>\n",
       "      <td>Setosa</td>\n",
       "    </tr>\n",
       "    <tr>\n",
       "      <th>2</th>\n",
       "      <td>4</td>\n",
       "      <td>3.2</td>\n",
       "      <td>1.3</td>\n",
       "      <td>0.2</td>\n",
       "      <td>Setosa</td>\n",
       "    </tr>\n",
       "    <tr>\n",
       "      <th>3</th>\n",
       "      <td>4</td>\n",
       "      <td>3.1</td>\n",
       "      <td>1.5</td>\n",
       "      <td>0.2</td>\n",
       "      <td>Setosa</td>\n",
       "    </tr>\n",
       "    <tr>\n",
       "      <th>4</th>\n",
       "      <td>5</td>\n",
       "      <td>3.6</td>\n",
       "      <td>1.4</td>\n",
       "      <td>0.2</td>\n",
       "      <td>Setosa</td>\n",
       "    </tr>\n",
       "  </tbody>\n",
       "</table>\n",
       "</div>"
      ],
      "text/plain": [
       "   sepal.length  sepal.width  petal.length  petal.width variety\n",
       "0             5          3.5           1.4          0.2  Setosa\n",
       "1             4          3.0           1.4          0.2  Setosa\n",
       "2             4          3.2           1.3          0.2  Setosa\n",
       "3             4          3.1           1.5          0.2  Setosa\n",
       "4             5          3.6           1.4          0.2  Setosa"
      ]
     },
     "execution_count": 107,
     "metadata": {},
     "output_type": "execute_result"
    }
   ],
   "source": [
    "# 数据类型\n",
    "df_iris['sepal.length'] = df_iris['sepal.length'].astype(int)\n",
    "df_iris.head()"
   ]
  },
  {
   "cell_type": "markdown",
   "metadata": {
    "nbpresent": {
     "id": "3fd22509-7ccc-452c-8e22-7d9589165c27"
    },
    "slideshow": {
     "slide_type": "slide"
    }
   },
   "source": [
    "## 探索性数据分析"
   ]
  },
  {
   "cell_type": "code",
   "execution_count": null,
   "metadata": {},
   "outputs": [],
   "source": []
  },
  {
   "cell_type": "markdown",
   "metadata": {
    "nbpresent": {
     "id": "71c2c84d-b359-40e0-bc75-db740c441a48"
    },
    "slideshow": {
     "slide_type": "slide"
    }
   },
   "source": [
    "## 推断性数据分析"
   ]
  },
  {
   "cell_type": "markdown",
   "metadata": {
    "nbpresent": {
     "id": "fee2f9b7-618b-4404-80a1-312a8ad6eeff"
    },
    "slideshow": {
     "slide_type": "slide"
    }
   },
   "source": [
    "## 机器学习"
   ]
  },
  {
   "cell_type": "markdown",
   "metadata": {
    "nbpresent": {
     "id": "ab69b760-a839-4de2-b620-f7949c761f94"
    },
    "slideshow": {
     "slide_type": "slide"
    }
   },
   "source": [
    "## 数据产品"
   ]
  },
  {
   "cell_type": "markdown",
   "metadata": {
    "nbpresent": {
     "id": "f71605ec-3ea0-4fc2-9f4b-f0cd91312845"
    },
    "slideshow": {
     "slide_type": "slide"
    }
   },
   "source": [
    "## Kaggle竞赛"
   ]
  },
  {
   "cell_type": "markdown",
   "metadata": {
    "nbpresent": {
     "id": "9deadf6a-4725-4f77-96ab-a89a6a65e71d"
    },
    "slideshow": {
     "slide_type": "slide"
    }
   },
   "source": [
    "## 大数据"
   ]
  },
  {
   "cell_type": "markdown",
   "metadata": {
    "nbpresent": {
     "id": "5865c699-d31f-4b9f-ac17-b60fc411196e"
    },
    "slideshow": {
     "slide_type": "slide"
    }
   },
   "source": [
    "## 深度学习"
   ]
  },
  {
   "cell_type": "markdown",
   "metadata": {
    "slideshow": {
     "slide_type": "slide"
    }
   },
   "source": [
    "## 结语"
   ]
  }
 ],
 "metadata": {
  "celltoolbar": "幻灯片",
  "kernelspec": {
   "display_name": "Python 3",
   "language": "python",
   "name": "python3"
  },
  "language_info": {
   "codemirror_mode": {
    "name": "ipython",
    "version": 3
   },
   "file_extension": ".py",
   "mimetype": "text/x-python",
   "name": "python",
   "nbconvert_exporter": "python",
   "pygments_lexer": "ipython3",
   "version": "3.7.3"
  },
  "toc": {
   "base_numbering": 1,
   "nav_menu": {},
   "number_sections": true,
   "sideBar": true,
   "skip_h1_title": true,
   "title_cell": "Table of Contents",
   "title_sidebar": "Contents",
   "toc_cell": true,
   "toc_position": {
    "height": "calc(100% - 180px)",
    "left": "10px",
    "top": "150px",
    "width": "313.594px"
   },
   "toc_section_display": true,
   "toc_window_display": true
  }
 },
 "nbformat": 4,
 "nbformat_minor": 2
}
