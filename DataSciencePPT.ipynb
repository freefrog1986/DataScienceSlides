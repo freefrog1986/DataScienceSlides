{
 "cells": [
  {
   "cell_type": "markdown",
   "metadata": {
    "slideshow": {
     "slide_type": "slide"
    },
    "toc": true
   },
   "source": [
    "<h1>Table of Contents<span class=\"tocSkip\"></span></h1>\n",
    "<div class=\"toc\"><ul class=\"toc-item\"><li><span><a href=\"#什么是数据科学?\" data-toc-modified-id=\"什么是数据科学?-1\"><span class=\"toc-item-num\">1&nbsp;&nbsp;</span>什么是数据科学?</a></span><ul class=\"toc-item\"><li><span><a href=\"#主要挑战\" data-toc-modified-id=\"主要挑战-1.1\"><span class=\"toc-item-num\">1.1&nbsp;&nbsp;</span>主要挑战</a></span></li><li><span><a href=\"#韦恩图（Veen-Diagram）\" data-toc-modified-id=\"韦恩图（Veen-Diagram）-1.2\"><span class=\"toc-item-num\">1.2&nbsp;&nbsp;</span>韦恩图（Veen Diagram）</a></span></li><li><span><a href=\"#第四范式（The-Fourth-Paradigm）\" data-toc-modified-id=\"第四范式（The-Fourth-Paradigm）-1.3\"><span class=\"toc-item-num\">1.3&nbsp;&nbsp;</span>第四范式（The Fourth Paradigm）</a></span></li><li><span><a href=\"#21世纪最性感的工作\" data-toc-modified-id=\"21世纪最性感的工作-1.4\"><span class=\"toc-item-num\">1.4&nbsp;&nbsp;</span>21世纪最性感的工作</a></span></li></ul></li><li><span><a href=\"#数据科学家的工具箱\" data-toc-modified-id=\"数据科学家的工具箱-2\"><span class=\"toc-item-num\">2&nbsp;&nbsp;</span>数据科学家的工具箱</a></span><ul class=\"toc-item\"><li><span><a href=\"#数据科学的5个步骤\" data-toc-modified-id=\"数据科学的5个步骤-2.1\"><span class=\"toc-item-num\">2.1&nbsp;&nbsp;</span>数据科学的5个步骤</a></span></li><li><span><a href=\"#Python\" data-toc-modified-id=\"Python-2.2\"><span class=\"toc-item-num\">2.2&nbsp;&nbsp;</span>Python</a></span></li><li><span><a href=\"#数据科学基础库\" data-toc-modified-id=\"数据科学基础库-2.3\"><span class=\"toc-item-num\">2.3&nbsp;&nbsp;</span>数据科学基础库</a></span></li><li><span><a href=\"#Jupyter-Notebook\" data-toc-modified-id=\"Jupyter-Notebook-2.4\"><span class=\"toc-item-num\">2.4&nbsp;&nbsp;</span>Jupyter Notebook</a></span></li><li><span><a href=\"#Anoconda\" data-toc-modified-id=\"Anoconda-2.5\"><span class=\"toc-item-num\">2.5&nbsp;&nbsp;</span>Anoconda</a></span></li></ul></li><li><span><a href=\"#整理和获取数据\" data-toc-modified-id=\"整理和获取数据-3\"><span class=\"toc-item-num\">3&nbsp;&nbsp;</span>整理和获取数据</a></span><ul class=\"toc-item\"><li><span><a href=\"#数据的定义\" data-toc-modified-id=\"数据的定义-3.1\"><span class=\"toc-item-num\">3.1&nbsp;&nbsp;</span>数据的定义</a></span></li><li><span><a href=\"#数据清洗的元素\" data-toc-modified-id=\"数据清洗的元素-3.2\"><span class=\"toc-item-num\">3.2&nbsp;&nbsp;</span>数据清洗的元素</a></span></li><li><span><a href=\"#数据获取\" data-toc-modified-id=\"数据获取-3.3\"><span class=\"toc-item-num\">3.3&nbsp;&nbsp;</span>数据获取</a></span></li><li><span><a href=\"#数据清洗\" data-toc-modified-id=\"数据清洗-3.4\"><span class=\"toc-item-num\">3.4&nbsp;&nbsp;</span>数据清洗</a></span></li></ul></li><li><span><a href=\"#探索性数据分析\" data-toc-modified-id=\"探索性数据分析-4\"><span class=\"toc-item-num\">4&nbsp;&nbsp;</span>探索性数据分析</a></span><ul class=\"toc-item\"><li><span><a href=\"#中心倾向\" data-toc-modified-id=\"中心倾向-4.1\"><span class=\"toc-item-num\">4.1&nbsp;&nbsp;</span>中心倾向</a></span></li><li><span><a href=\"#离散度\" data-toc-modified-id=\"离散度-4.2\"><span class=\"toc-item-num\">4.2&nbsp;&nbsp;</span>离散度</a></span></li><li><span><a href=\"#概率分布\" data-toc-modified-id=\"概率分布-4.3\"><span class=\"toc-item-num\">4.3&nbsp;&nbsp;</span>概率分布</a></span></li><li><span><a href=\"#联合分布\" data-toc-modified-id=\"联合分布-4.4\"><span class=\"toc-item-num\">4.4&nbsp;&nbsp;</span>联合分布</a></span></li><li><span><a href=\"#相关矩阵\" data-toc-modified-id=\"相关矩阵-4.5\"><span class=\"toc-item-num\">4.5&nbsp;&nbsp;</span>相关矩阵</a></span></li></ul></li><li><span><a href=\"#推断性数据分析\" data-toc-modified-id=\"推断性数据分析-5\"><span class=\"toc-item-num\">5&nbsp;&nbsp;</span>推断性数据分析</a></span><ul class=\"toc-item\"><li><span><a href=\"#置信区间\" data-toc-modified-id=\"置信区间-5.1\"><span class=\"toc-item-num\">5.1&nbsp;&nbsp;</span>置信区间</a></span></li><li><span><a href=\"#假设检验\" data-toc-modified-id=\"假设检验-5.2\"><span class=\"toc-item-num\">5.2&nbsp;&nbsp;</span>假设检验</a></span></li><li><span><a href=\"#A/B测试\" data-toc-modified-id=\"A/B测试-5.3\"><span class=\"toc-item-num\">5.3&nbsp;&nbsp;</span>A/B测试</a></span></li><li><span><a href=\"#卡方相关性检验\" data-toc-modified-id=\"卡方相关性检验-5.4\"><span class=\"toc-item-num\">5.4&nbsp;&nbsp;</span>卡方相关性检验</a></span></li><li><span><a href=\"#贝叶斯推断\" data-toc-modified-id=\"贝叶斯推断-5.5\"><span class=\"toc-item-num\">5.5&nbsp;&nbsp;</span>贝叶斯推断</a></span></li></ul></li><li><span><a href=\"#机器学习\" data-toc-modified-id=\"机器学习-6\"><span class=\"toc-item-num\">6&nbsp;&nbsp;</span>机器学习</a></span><ul class=\"toc-item\"><li><span><a href=\"#什么是机器学习\" data-toc-modified-id=\"什么是机器学习-6.1\"><span class=\"toc-item-num\">6.1&nbsp;&nbsp;</span>什么是机器学习</a></span></li><li><span><a href=\"#机器学习分类\" data-toc-modified-id=\"机器学习分类-6.2\"><span class=\"toc-item-num\">6.2&nbsp;&nbsp;</span>机器学习分类</a></span></li><li><span><a href=\"#Scikit-learn\" data-toc-modified-id=\"Scikit-learn-6.3\"><span class=\"toc-item-num\">6.3&nbsp;&nbsp;</span>Scikit-learn</a></span></li><li><span><a href=\"#线性回归\" data-toc-modified-id=\"线性回归-6.4\"><span class=\"toc-item-num\">6.4&nbsp;&nbsp;</span>线性回归</a></span></li><li><span><a href=\"#训练与测试\" data-toc-modified-id=\"训练与测试-6.5\"><span class=\"toc-item-num\">6.5&nbsp;&nbsp;</span>训练与测试</a></span></li><li><span><a href=\"#决策树\" data-toc-modified-id=\"决策树-6.6\"><span class=\"toc-item-num\">6.6&nbsp;&nbsp;</span>决策树</a></span></li></ul></li><li><span><a href=\"#Kaggle竞赛\" data-toc-modified-id=\"Kaggle竞赛-7\"><span class=\"toc-item-num\">7&nbsp;&nbsp;</span>Kaggle竞赛</a></span></li><li><span><a href=\"#大数据\" data-toc-modified-id=\"大数据-8\"><span class=\"toc-item-num\">8&nbsp;&nbsp;</span>大数据</a></span></li><li><span><a href=\"#深度学习\" data-toc-modified-id=\"深度学习-9\"><span class=\"toc-item-num\">9&nbsp;&nbsp;</span>深度学习</a></span></li><li><span><a href=\"#结语\" data-toc-modified-id=\"结语-10\"><span class=\"toc-item-num\">10&nbsp;&nbsp;</span>结语</a></span></li></ul></div>"
   ]
  },
  {
   "cell_type": "markdown",
   "metadata": {
    "nbpresent": {
     "id": "a50ff1bf-e704-46d3-b1ac-2153fc49de6b"
    },
    "slideshow": {
     "slide_type": "slide"
    }
   },
   "source": [
    "# <center>数据科学——21世纪最性感的工作</center>    \n",
    "<center>   </center>\n",
    "<center>刘博</center>\n",
    "<center>研发部数据组</center>\n",
    "<center>2019-06-03</center>"
   ]
  },
  {
   "cell_type": "markdown",
   "metadata": {
    "nbpresent": {
     "id": "1f51d1cd-90fc-4b68-a753-2bcd51658423"
    },
    "slideshow": {
     "slide_type": "slide"
    }
   },
   "source": [
    "## 什么是数据科学?"
   ]
  },
  {
   "cell_type": "markdown",
   "metadata": {
    "slideshow": {
     "slide_type": "slide"
    }
   },
   "source": [
    "### 主要挑战"
   ]
  },
  {
   "cell_type": "markdown",
   "metadata": {
    "nbpresent": {
     "id": "bd7c79f8-5b8b-42d4-9dc8-20084df89fe6"
    },
    "slideshow": {
     "slide_type": "fragment"
    }
   },
   "source": [
    ">Ask yourselves, what problem have you solved, ever, that was worth solving, where you knew all of the given information in advance? Where you didn't have a surplus of information and have to filter it out, or you didn't have insufficient information and have to go find some?    \n",
    "—— Dan Myer"
   ]
  },
  {
   "cell_type": "markdown",
   "metadata": {
    "nbpresent": {
     "id": "73a4c6e6-ab1c-4da1-a520-8f0b2fdfa73b"
    },
    "slideshow": {
     "slide_type": "fragment"
    }
   },
   "source": [
    "我们感兴趣的是用数据回答问题，先考虑问题，后考虑数据。"
   ]
  },
  {
   "cell_type": "markdown",
   "metadata": {
    "nbpresent": {
     "id": "574d2a52-8a7c-44fb-84d6-a7bc9ed79180"
    },
    "slideshow": {
     "slide_type": "fragment"
    }
   },
   "source": [
    "The keyword in data science is not data, it is science. \n",
    "\n",
    "数据科学中的关键词不是数据，而是科学。"
   ]
  },
  {
   "cell_type": "markdown",
   "metadata": {
    "nbpresent": {
     "id": "22b1666c-152f-4b9d-a00c-7ffe367b27d3"
    },
    "slideshow": {
     "slide_type": "slide"
    }
   },
   "source": [
    "### 韦恩图（Veen Diagram）\n",
    "\n",
    "![veen diagram](veen.png)\n",
    "\n",
    "[Posted by Drew Conway in 2010](http://drewconway.com/zia/2013/3/26/the-data-science-venn-diagram)"
   ]
  },
  {
   "cell_type": "markdown",
   "metadata": {
    "nbpresent": {
     "id": "06abe20d-8d87-492d-85d1-61f1c7e8af0f"
    },
    "slideshow": {
     "slide_type": "slide"
    }
   },
   "source": [
    "### 第四范式（The Fourth Paradigm）"
   ]
  },
  {
   "cell_type": "markdown",
   "metadata": {
    "nbpresent": {
     "id": "36456c45-bc2e-44d1-8f00-2593733cb571"
    },
    "slideshow": {
     "slide_type": "fragment"
    }
   },
   "source": [
    ">Data science is a multi-disciplinary field that uses scientific methods, processes, algorithms and systems to extract knowledge and insights from structured and unstructured data. —— WIKI\n",
    "\n",
    "数据科学是一个多学科领域，它使用科学方法、过程、算法和系统从结构化和非结构化数据中获取知识和洞见。"
   ]
  },
  {
   "cell_type": "markdown",
   "metadata": {
    "nbpresent": {
     "id": "0ca51d2d-f32b-4bd2-9ae0-8e3a4584f9a8"
    },
    "slideshow": {
     "slide_type": "fragment"
    }
   },
   "source": [
    "图灵奖得主Jim Gray将认为数据科学是科学的“第四范式”（经验、理论、计算和现在的数据驱动），并断言“科学的一切都因信息技术的影响“和数据洪流”而改变”。\n",
    "\n",
    "[Stewart Tansley; Kristin Michele Tolle (2009). The Fourth Paradigm: Data-intensive Scientific Discovery. Microsoft Research. ISBN 978-0-9825442-0-4.](https://books.google.co.kr/books?id=oGs_AQAAIAAJ&redir_esc=y)\n",
    "\n",
    "![The Fourth Paradigm- Data-intensive Scientific Discovery](Paradigm.jpg)"
   ]
  },
  {
   "cell_type": "markdown",
   "metadata": {
    "slideshow": {
     "slide_type": "slide"
    }
   },
   "source": [
    "### 21世纪最性感的工作"
   ]
  },
  {
   "cell_type": "markdown",
   "metadata": {
    "slideshow": {
     "slide_type": "fragment"
    }
   },
   "source": [
    "<img src=\"TheSexist.jpg\" width=\"40%\" align = \"center\">\n",
    "\n",
    "\n",
    "2012年哈佛商业评论的一篇文章称数据科学是21世纪最性感的工作。\n",
    "\n",
    "[Davenport, Thomas H.; Patil, DJ (October 2012), Data Scientist: The Sexiest Job of the 21st Century, Harvard Business Review]()"
   ]
  },
  {
   "cell_type": "markdown",
   "metadata": {
    "nbpresent": {
     "id": "f3daca8c-e29b-4ffd-b417-d319e594a2ff"
    },
    "slideshow": {
     "slide_type": "slide"
    }
   },
   "source": [
    "## 数据科学家的工具箱"
   ]
  },
  {
   "cell_type": "markdown",
   "metadata": {
    "slideshow": {
     "slide_type": "slide"
    }
   },
   "source": [
    "### 数据科学的5个步骤\n",
    "\n",
    "- 提出问题\n",
    "- 整理和获取数据\n",
    "- 探索数据\n",
    "- 数据建模\n",
    "- 可视化和分享结果"
   ]
  },
  {
   "cell_type": "markdown",
   "metadata": {
    "nbpresent": {
     "id": "2590208f-3f37-4ec2-9345-24240403ddc0"
    },
    "slideshow": {
     "slide_type": "slide"
    }
   },
   "source": [
    "### Python"
   ]
  },
  {
   "cell_type": "markdown",
   "metadata": {
    "slideshow": {
     "slide_type": "fragment"
    }
   },
   "source": [
    "![](Python.png)\n",
    "\n",
    "- Python是近年来最火爆的编程语言之一。优点是优雅、易上手。\n",
    "- 环境：Sublime Text3、PyCharm\n",
    "- 笔记本：Jupyter Notebook\n",
    "- 至少一种：Python、R、SQL、Java、Scala\n",
    "- [深度学习中的Python语言1：Python基础数据类型、容器、函数和类的介绍](https://zhuanlan.zhihu.com/p/29028670)"
   ]
  },
  {
   "cell_type": "code",
   "execution_count": 6,
   "metadata": {
    "slideshow": {
     "slide_type": "fragment"
    }
   },
   "outputs": [
    {
     "data": {
      "text/plain": [
       "[1, 2, 3, 4]"
      ]
     },
     "execution_count": 6,
     "metadata": {},
     "output_type": "execute_result"
    }
   ],
   "source": [
    "List = [1, 2, 3, 4]\n",
    "List"
   ]
  },
  {
   "cell_type": "markdown",
   "metadata": {
    "slideshow": {
     "slide_type": "slide"
    }
   },
   "source": [
    "### 数据科学基础库"
   ]
  },
  {
   "cell_type": "markdown",
   "metadata": {
    "slideshow": {
     "slide_type": "fragment"
    }
   },
   "source": [
    "<img src=\"numpy.png\" width=\"40%\" align = \"center\">\n",
    "\n",
    "NumPy是使用Python进行科学计算的基础库，它包括:\n",
    "\n",
    "- 一个强大的N维数组对象\n",
    "- 复杂巧妙的函数\n",
    "- 整合C/C++和Fortran代码的工具\n",
    "- 实用的线性代数、傅立叶变换和随机数功能"
   ]
  },
  {
   "cell_type": "code",
   "execution_count": 91,
   "metadata": {
    "slideshow": {
     "slide_type": "fragment"
    }
   },
   "outputs": [
    {
     "data": {
      "text/plain": [
       "array([[1, 2, 3],\n",
       "       [4, 5, 6]])"
      ]
     },
     "execution_count": 91,
     "metadata": {},
     "output_type": "execute_result"
    }
   ],
   "source": [
    "# 使用numpy创建多维数组\n",
    "import numpy as np\n",
    "b = np.array([[1,2,3],[4,5,6]])\n",
    "b"
   ]
  },
  {
   "cell_type": "code",
   "execution_count": 92,
   "metadata": {
    "slideshow": {
     "slide_type": "fragment"
    }
   },
   "outputs": [
    {
     "data": {
      "text/plain": [
       "array([[13, 38],\n",
       "       [31, 89]])"
      ]
     },
     "execution_count": 92,
     "metadata": {},
     "output_type": "execute_result"
    }
   ],
   "source": [
    "# 矩阵乘法\n",
    "a = np.array([[2,4],[1,5],[3,8]])\n",
    "np.dot(b,a)"
   ]
  },
  {
   "cell_type": "markdown",
   "metadata": {
    "slideshow": {
     "slide_type": "subslide"
    }
   },
   "source": [
    "<img src=\"pandas.png\" width=\"40%\">\n",
    "\n",
    "Pandas提供了高性能、易于使用的数据结构和数据分析工具，是基于Python的开源数据分析库。"
   ]
  },
  {
   "cell_type": "code",
   "execution_count": 93,
   "metadata": {
    "slideshow": {
     "slide_type": "fragment"
    }
   },
   "outputs": [
    {
     "data": {
      "text/html": [
       "<div>\n",
       "<style scoped>\n",
       "    .dataframe tbody tr th:only-of-type {\n",
       "        vertical-align: middle;\n",
       "    }\n",
       "\n",
       "    .dataframe tbody tr th {\n",
       "        vertical-align: top;\n",
       "    }\n",
       "\n",
       "    .dataframe thead th {\n",
       "        text-align: right;\n",
       "    }\n",
       "</style>\n",
       "<table border=\"1\" class=\"dataframe\">\n",
       "  <thead>\n",
       "    <tr style=\"text-align: right;\">\n",
       "      <th></th>\n",
       "      <th>foo</th>\n",
       "      <th>bar</th>\n",
       "    </tr>\n",
       "  </thead>\n",
       "  <tbody>\n",
       "    <tr>\n",
       "      <th>0</th>\n",
       "      <td>2</td>\n",
       "      <td>4</td>\n",
       "    </tr>\n",
       "    <tr>\n",
       "      <th>1</th>\n",
       "      <td>1</td>\n",
       "      <td>5</td>\n",
       "    </tr>\n",
       "    <tr>\n",
       "      <th>2</th>\n",
       "      <td>3</td>\n",
       "      <td>8</td>\n",
       "    </tr>\n",
       "  </tbody>\n",
       "</table>\n",
       "</div>"
      ],
      "text/plain": [
       "   foo  bar\n",
       "0    2    4\n",
       "1    1    5\n",
       "2    3    8"
      ]
     },
     "execution_count": 93,
     "metadata": {},
     "output_type": "execute_result"
    }
   ],
   "source": [
    "# 使用pandas创建数据集\n",
    "import pandas as pd\n",
    "df_a = pd.DataFrame(a, columns = ['foo','bar'])\n",
    "df_a"
   ]
  },
  {
   "cell_type": "code",
   "execution_count": 7,
   "metadata": {
    "slideshow": {
     "slide_type": "fragment"
    }
   },
   "outputs": [
    {
     "data": {
      "text/html": [
       "<div>\n",
       "<style scoped>\n",
       "    .dataframe tbody tr th:only-of-type {\n",
       "        vertical-align: middle;\n",
       "    }\n",
       "\n",
       "    .dataframe tbody tr th {\n",
       "        vertical-align: top;\n",
       "    }\n",
       "\n",
       "    .dataframe thead th {\n",
       "        text-align: right;\n",
       "    }\n",
       "</style>\n",
       "<table border=\"1\" class=\"dataframe\">\n",
       "  <thead>\n",
       "    <tr style=\"text-align: right;\">\n",
       "      <th></th>\n",
       "      <th>foo</th>\n",
       "      <th>bar</th>\n",
       "      <th>col</th>\n",
       "    </tr>\n",
       "  </thead>\n",
       "  <tbody>\n",
       "    <tr>\n",
       "      <th>0</th>\n",
       "      <td>2</td>\n",
       "      <td>4</td>\n",
       "      <td>NaN</td>\n",
       "    </tr>\n",
       "    <tr>\n",
       "      <th>1</th>\n",
       "      <td>1</td>\n",
       "      <td>5</td>\n",
       "      <td>NaN</td>\n",
       "    </tr>\n",
       "    <tr>\n",
       "      <th>2</th>\n",
       "      <td>3</td>\n",
       "      <td>8</td>\n",
       "      <td>NaN</td>\n",
       "    </tr>\n",
       "    <tr>\n",
       "      <th>0</th>\n",
       "      <td>1</td>\n",
       "      <td>2</td>\n",
       "      <td>3.0</td>\n",
       "    </tr>\n",
       "    <tr>\n",
       "      <th>1</th>\n",
       "      <td>4</td>\n",
       "      <td>5</td>\n",
       "      <td>6.0</td>\n",
       "    </tr>\n",
       "  </tbody>\n",
       "</table>\n",
       "</div>"
      ],
      "text/plain": [
       "   foo  bar  col\n",
       "0    2    4  NaN\n",
       "1    1    5  NaN\n",
       "2    3    8  NaN\n",
       "0    1    2  3.0\n",
       "1    4    5  6.0"
      ]
     },
     "execution_count": 7,
     "metadata": {},
     "output_type": "execute_result"
    }
   ],
   "source": [
    "# 数据集连接操作\n",
    "df_b = pd.DataFrame(b, columns = ['foo','bar','col'])\n",
    "concat_df = pd.concat([df_a,df_b], sort=False)\n",
    "concat_df"
   ]
  },
  {
   "cell_type": "markdown",
   "metadata": {
    "slideshow": {
     "slide_type": "subslide"
    }
   },
   "source": [
    "<img src=\"Matplotlib.png\" width=\"40%\">\n",
    "\n",
    "Matplotlib是一个基于Python的2D作图库，能生成各种格式的出版质量的图形和跨平台的交互环境。"
   ]
  },
  {
   "cell_type": "code",
   "execution_count": 8,
   "metadata": {
    "slideshow": {
     "slide_type": "fragment"
    }
   },
   "outputs": [],
   "source": [
    "# Matplotlib画散点图\n",
    "import matplotlib.pyplot as plt\n",
    "plt.figure(figsize = (4,4))\n",
    "plt.scatter(concat_df['foo'], concat_df['bar']);"
   ]
  },
  {
   "cell_type": "markdown",
   "metadata": {
    "slideshow": {
     "slide_type": "subslide"
    }
   },
   "source": [
    "<img src=\"MatplotlibExample.png\" width=\"60%\">"
   ]
  },
  {
   "cell_type": "markdown",
   "metadata": {
    "nbpresent": {
     "id": "a9dc604d-a509-44b2-a999-4821fbceadb0"
    },
    "slideshow": {
     "slide_type": "slide"
    }
   },
   "source": [
    "### Jupyter Notebook\n",
    "\n",
    "<img src=\"JupyterNotebook.svg\" width=\"30%\">\n",
    "\n",
    "Jupyter这个名字由它支持的三个核心编程语言的缩写词Julia、Python和R组合而成，启发自木星这个词：Jupiter。"
   ]
  },
  {
   "cell_type": "markdown",
   "metadata": {
    "slideshow": {
     "slide_type": "fragment"
    }
   },
   "source": [
    "\n",
    "<img src=\"notebook.png\" width=\"50%\">\n",
    "\n",
    "Jupyter Notebook是一个开源的Web应用程序，允许您创建和共享包含实时代码、公式、可视化和叙述性文本的文档。"
   ]
  },
  {
   "cell_type": "markdown",
   "metadata": {
    "slideshow": {
     "slide_type": "subslide"
    }
   },
   "source": [
    "线性回归公式:\n",
    "\n",
    "$Y = \\alpha X + \\beta$"
   ]
  },
  {
   "cell_type": "code",
   "execution_count": 9,
   "metadata": {
    "slideshow": {
     "slide_type": "fragment"
    }
   },
   "outputs": [
    {
     "data": {
      "text/plain": [
       "array([[1.5, 3. , 4.5],\n",
       "       [6. , 7.5, 9. ]])"
      ]
     },
     "execution_count": 9,
     "metadata": {},
     "output_type": "execute_result"
    }
   ],
   "source": [
    "# 线性回归示例\n",
    "X = np.array([[1,2,3],[4,5,6]])\n",
    "alpha = 0.5\n",
    "beta = 0.7\n",
    "Y = alpha * X + b\n",
    "Y"
   ]
  },
  {
   "cell_type": "markdown",
   "metadata": {
    "nbpresent": {
     "id": "33dd60c3-491d-47ca-85b1-aa9bd0ad0fde"
    },
    "slideshow": {
     "slide_type": "slide"
    }
   },
   "source": [
    "### Anoconda\n",
    "\n",
    "<img src=\"Anaconda.png\" width=\"60%\">\n",
    "\n",
    "开源的Anaconda提供了在Linux、Windows、Mac OS X上应用Python/R数据科学和机器学习的最简单的方式。在全世界有1100万用户。它是在一台机器上开发、测试和培训的行业标准，使每个数据科学家能够：\n",
    "\n",
    "- 快速下载 1,500+ Python/R 数据科学库\n",
    "- 使用Conda管理库、依赖项和环境\n",
    "- 利用Scikit Learn、TensorFlow和Theano开发和培训机器学习和深度学习模型\n",
    "- 使用Dask、Numpy、Pandas和Numba可扩展的、高性能的分析数据\n",
    "- 使用matplotlib、bokeh、datashader和holoview可视化结果"
   ]
  },
  {
   "cell_type": "markdown",
   "metadata": {
    "slideshow": {
     "slide_type": "fragment"
    }
   },
   "source": [
    "`$ conda create -n env_name python=3`"
   ]
  },
  {
   "cell_type": "markdown",
   "metadata": {
    "slideshow": {
     "slide_type": "fragment"
    }
   },
   "source": [
    "`$ conda install numpy pandas matplotlib jupyter notebook`"
   ]
  },
  {
   "cell_type": "markdown",
   "metadata": {
    "nbpresent": {
     "id": "77fc349b-4083-48ca-bd56-823dded12ee9"
    },
    "slideshow": {
     "slide_type": "slide"
    }
   },
   "source": [
    "## 整理和获取数据"
   ]
  },
  {
   "cell_type": "markdown",
   "metadata": {
    "slideshow": {
     "slide_type": "slide"
    }
   },
   "source": [
    "### 数据的定义"
   ]
  },
  {
   "cell_type": "markdown",
   "metadata": {
    "slideshow": {
     "slide_type": "fragment"
    }
   },
   "source": [
    "> 数据是关于某一主题的定性或定量变量的一组值。   \n",
    "> Data is a set of values of subjects with respect to qualitative or quantitative variables.\n",
    "\n",
    "https://en.wikipedia.org/wiki/Data\n",
    "\n",
    "某一主题（subjects）：用户群体\n",
    "\n",
    "定性的（qualitative）变量：国家、性别、教育程度...\n",
    "\n",
    "定量的（quantitative）变量：收入、身高、体重...\n",
    "\n",
    "一组值（a set of values）：样本数据"
   ]
  },
  {
   "cell_type": "markdown",
   "metadata": {
    "slideshow": {
     "slide_type": "subslide"
    }
   },
   "source": [
    "原始数据(Raw Data) \n",
    "- 数据的来源\n",
    "- 通常很难用于数据分析\n",
    "- 数据分析包括数据处理\n",
    "- 原始数据可能只需要处理一次\n",
    "\n",
    "处理后的数据(Processed Data)\n",
    "- 准备好用于分析的数据\n",
    "- 数据处理包括合并、构造子集、转换等\n",
    "- 特定领域有数据处理的标准流程\n",
    "- 应该记录所有的数据处理的步骤\n",
    "\n",
    "原始数据经过数据处理得到处理后的数据。"
   ]
  },
  {
   "cell_type": "markdown",
   "metadata": {
    "slideshow": {
     "slide_type": "slide"
    }
   },
   "source": [
    "### 数据清洗的元素"
   ]
  },
  {
   "cell_type": "markdown",
   "metadata": {
    "slideshow": {
     "slide_type": "fragment"
    }
   },
   "source": [
    "1. 原始数据（Raw Data）\n",
    "2. 整洁数据集（Tidy Data Set）\n",
    "3. 描述整洁数据集中每一个变量和值的数据字典（Code Book）\n",
    "4. 一个明确且准确的从1到2,3的脚本（Script）。"
   ]
  },
  {
   "cell_type": "markdown",
   "metadata": {
    "slideshow": {
     "slide_type": "slide"
    }
   },
   "source": [
    "### 数据获取"
   ]
  },
  {
   "cell_type": "code",
   "execution_count": 10,
   "metadata": {
    "slideshow": {
     "slide_type": "fragment"
    }
   },
   "outputs": [
    {
     "data": {
      "text/html": [
       "<div>\n",
       "<style scoped>\n",
       "    .dataframe tbody tr th:only-of-type {\n",
       "        vertical-align: middle;\n",
       "    }\n",
       "\n",
       "    .dataframe tbody tr th {\n",
       "        vertical-align: top;\n",
       "    }\n",
       "\n",
       "    .dataframe thead th {\n",
       "        text-align: right;\n",
       "    }\n",
       "</style>\n",
       "<table border=\"1\" class=\"dataframe\">\n",
       "  <thead>\n",
       "    <tr style=\"text-align: right;\">\n",
       "      <th></th>\n",
       "      <th>sepal.length</th>\n",
       "      <th>sepal.width</th>\n",
       "      <th>petal.length</th>\n",
       "      <th>petal.width</th>\n",
       "      <th>variety</th>\n",
       "    </tr>\n",
       "  </thead>\n",
       "  <tbody>\n",
       "    <tr>\n",
       "      <th>0</th>\n",
       "      <td>5.1</td>\n",
       "      <td>3.5</td>\n",
       "      <td>1.4</td>\n",
       "      <td>0.2</td>\n",
       "      <td>Setosa</td>\n",
       "    </tr>\n",
       "    <tr>\n",
       "      <th>1</th>\n",
       "      <td>4.9</td>\n",
       "      <td>3.0</td>\n",
       "      <td>1.4</td>\n",
       "      <td>0.2</td>\n",
       "      <td>Setosa</td>\n",
       "    </tr>\n",
       "    <tr>\n",
       "      <th>2</th>\n",
       "      <td>4.7</td>\n",
       "      <td>3.2</td>\n",
       "      <td>1.3</td>\n",
       "      <td>0.2</td>\n",
       "      <td>Setosa</td>\n",
       "    </tr>\n",
       "  </tbody>\n",
       "</table>\n",
       "</div>"
      ],
      "text/plain": [
       "   sepal.length  sepal.width  petal.length  petal.width variety\n",
       "0           5.1          3.5           1.4          0.2  Setosa\n",
       "1           4.9          3.0           1.4          0.2  Setosa\n",
       "2           4.7          3.2           1.3          0.2  Setosa"
      ]
     },
     "execution_count": 10,
     "metadata": {},
     "output_type": "execute_result"
    }
   ],
   "source": [
    "# 从本地获取文件\n",
    "df_iris = pd.read_csv('iris.csv')\n",
    "df_iris.head(3)"
   ]
  },
  {
   "cell_type": "code",
   "execution_count": 11,
   "metadata": {
    "slideshow": {
     "slide_type": "skip"
    }
   },
   "outputs": [],
   "source": [
    "Password = 'sino123'"
   ]
  },
  {
   "cell_type": "code",
   "execution_count": 12,
   "metadata": {
    "slideshow": {
     "slide_type": "subslide"
    }
   },
   "outputs": [
    {
     "data": {
      "text/html": [
       "<div>\n",
       "<style scoped>\n",
       "    .dataframe tbody tr th:only-of-type {\n",
       "        vertical-align: middle;\n",
       "    }\n",
       "\n",
       "    .dataframe tbody tr th {\n",
       "        vertical-align: top;\n",
       "    }\n",
       "\n",
       "    .dataframe thead th {\n",
       "        text-align: right;\n",
       "    }\n",
       "</style>\n",
       "<table border=\"1\" class=\"dataframe\">\n",
       "  <thead>\n",
       "    <tr style=\"text-align: right;\">\n",
       "      <th></th>\n",
       "      <th>ID</th>\n",
       "      <th>NAME</th>\n",
       "      <th>BASE_TABLE</th>\n",
       "      <th>END_TS</th>\n",
       "      <th>BEGIN_TS</th>\n",
       "      <th>TYPE</th>\n",
       "    </tr>\n",
       "  </thead>\n",
       "  <tbody>\n",
       "    <tr>\n",
       "      <th>0</th>\n",
       "      <td>3016</td>\n",
       "      <td>CMON_ATTEMPT_2019_05_29</td>\n",
       "      <td>CMON_ATTEMPT</td>\n",
       "      <td>1559174400000</td>\n",
       "      <td>None</td>\n",
       "      <td>0</td>\n",
       "    </tr>\n",
       "    <tr>\n",
       "      <th>1</th>\n",
       "      <td>3017</td>\n",
       "      <td>CMON_ATT_LMV_2019_05_29</td>\n",
       "      <td>CMON_ATT_LMV</td>\n",
       "      <td>1559174400000</td>\n",
       "      <td>None</td>\n",
       "      <td>0</td>\n",
       "    </tr>\n",
       "    <tr>\n",
       "      <th>2</th>\n",
       "      <td>3018</td>\n",
       "      <td>CMON_ACT_LMV_2019_05_29</td>\n",
       "      <td>CMON_ACT_LMV</td>\n",
       "      <td>1559174400000</td>\n",
       "      <td>None</td>\n",
       "      <td>0</td>\n",
       "    </tr>\n",
       "  </tbody>\n",
       "</table>\n",
       "</div>"
      ],
      "text/plain": [
       "     ID                     NAME    BASE_TABLE         END_TS BEGIN_TS  TYPE\n",
       "0  3016  CMON_ATTEMPT_2019_05_29  CMON_ATTEMPT  1559174400000     None     0\n",
       "1  3017  CMON_ATT_LMV_2019_05_29  CMON_ATT_LMV  1559174400000     None     0\n",
       "2  3018  CMON_ACT_LMV_2019_05_29  CMON_ACT_LMV  1559174400000     None     0"
      ]
     },
     "execution_count": 12,
     "metadata": {},
     "output_type": "execute_result"
    }
   ],
   "source": [
    "# 从MySql获取数据\n",
    "import pymysql\n",
    "conn = pymysql.connect(host = '10.144.128.10', user = 'root', password = Password, db = 'amon', charset = 'utf8')\n",
    "sql = 'select * from partition_info limit 10'\n",
    "df = pd.read_sql(sql, con = conn) \n",
    "conn.close()\n",
    "df.head(3)"
   ]
  },
  {
   "cell_type": "code",
   "execution_count": 13,
   "metadata": {
    "slideshow": {
     "slide_type": "skip"
    }
   },
   "outputs": [],
   "source": [
    "df_tl = pd.DataFrame({'A': list(range(5)), 'B': list(range(5))})\n",
    "df_tl.to_hdf('store_tl.h5', 'table')"
   ]
  },
  {
   "cell_type": "markdown",
   "metadata": {
    "slideshow": {
     "slide_type": "subslide"
    }
   },
   "source": [
    "HDF（Hierarchical Data Format）是一种设计用于存储和组织大量数据的文件格式。经常用来保存模型生成过程中的大量参数。"
   ]
  },
  {
   "cell_type": "code",
   "execution_count": 14,
   "metadata": {
    "slideshow": {
     "slide_type": "fragment"
    }
   },
   "outputs": [
    {
     "data": {
      "text/html": [
       "<div>\n",
       "<style scoped>\n",
       "    .dataframe tbody tr th:only-of-type {\n",
       "        vertical-align: middle;\n",
       "    }\n",
       "\n",
       "    .dataframe tbody tr th {\n",
       "        vertical-align: top;\n",
       "    }\n",
       "\n",
       "    .dataframe thead th {\n",
       "        text-align: right;\n",
       "    }\n",
       "</style>\n",
       "<table border=\"1\" class=\"dataframe\">\n",
       "  <thead>\n",
       "    <tr style=\"text-align: right;\">\n",
       "      <th></th>\n",
       "      <th>A</th>\n",
       "      <th>B</th>\n",
       "    </tr>\n",
       "  </thead>\n",
       "  <tbody>\n",
       "    <tr>\n",
       "      <th>0</th>\n",
       "      <td>0</td>\n",
       "      <td>0</td>\n",
       "    </tr>\n",
       "    <tr>\n",
       "      <th>1</th>\n",
       "      <td>1</td>\n",
       "      <td>1</td>\n",
       "    </tr>\n",
       "    <tr>\n",
       "      <th>2</th>\n",
       "      <td>2</td>\n",
       "      <td>2</td>\n",
       "    </tr>\n",
       "    <tr>\n",
       "      <th>3</th>\n",
       "      <td>3</td>\n",
       "      <td>3</td>\n",
       "    </tr>\n",
       "    <tr>\n",
       "      <th>4</th>\n",
       "      <td>4</td>\n",
       "      <td>4</td>\n",
       "    </tr>\n",
       "  </tbody>\n",
       "</table>\n",
       "</div>"
      ],
      "text/plain": [
       "   A  B\n",
       "0  0  0\n",
       "1  1  1\n",
       "2  2  2\n",
       "3  3  3\n",
       "4  4  4"
      ]
     },
     "execution_count": 14,
     "metadata": {},
     "output_type": "execute_result"
    }
   ],
   "source": [
    "# 从HDF5获取数据\n",
    "pd.read_hdf('store_tl.h5', 'table')"
   ]
  },
  {
   "cell_type": "markdown",
   "metadata": {
    "slideshow": {
     "slide_type": "subslide"
    }
   },
   "source": [
    "<img src=\"fdic.png\" width=\"30%\">"
   ]
  },
  {
   "cell_type": "code",
   "execution_count": 15,
   "metadata": {
    "scrolled": true,
    "slideshow": {
     "slide_type": "fragment"
    }
   },
   "outputs": [
    {
     "data": {
      "text/plain": [
       "[                                             Bank Name                City  \\\n",
       " 0                                 The Enloe State Bank              Cooper   \n",
       " 1                  Washington Federal Bank for Savings             Chicago   \n",
       " 2      The Farmers and Merchants State Bank of Argonia             Argonia   \n",
       " 3                                  Fayette County Bank          Saint Elmo   \n",
       " 4    Guaranty Bank, (d/b/a BestBank in Georgia & Mi...           Milwaukee   \n",
       " 5                                       First NBC Bank         New Orleans   \n",
       " 6                                        Proficio Bank  Cottonwood Heights   \n",
       " 7                        Seaway Bank and Trust Company             Chicago   \n",
       " 8                               Harvest Community Bank          Pennsville   \n",
       " 9                                          Allied Bank            Mulberry   \n",
       " 10                        The Woodbury Banking Company            Woodbury   \n",
       " 11                              First CornerStone Bank     King of Prussia   \n",
       " 12                                  Trust Company Bank             Memphis   \n",
       " 13                          North Milwaukee State Bank           Milwaukee   \n",
       " 14                              Hometown National Bank            Longview   \n",
       " 15                                 The Bank of Georgia      Peachtree City   \n",
       " 16                                        Premier Bank              Denver   \n",
       " 17                                      Edgebrook Bank             Chicago   \n",
       " 18                              Doral Bank  En Español            San Juan   \n",
       " 19                   Capitol City Bank & Trust Company             Atlanta   \n",
       " 20                             Highland Community Bank             Chicago   \n",
       " 21                    First National Bank of Crestview           Crestview   \n",
       " 22                                  Northern Star Bank             Mankato   \n",
       " 23              Frontier Bank, FSB D/B/A El Paseo Bank         Palm Desert   \n",
       " 24               The National Republic Bank of Chicago             Chicago   \n",
       " 25                                      NBRS Financial          Rising Sun   \n",
       " 26                               GreenChoice Bank, fsb             Chicago   \n",
       " 27                            Eastside Commercial Bank             Conyers   \n",
       " 28                              The Freedom State Bank             Freedom   \n",
       " 29                                         Valley Bank     Fort Lauderdale   \n",
       " ..                                                 ...                 ...   \n",
       " 526                                  ANB Financial, NA         Bentonville   \n",
       " 527                                          Hume Bank                Hume   \n",
       " 528                             Douglass National Bank         Kansas City   \n",
       " 529                                  Miami Valley Bank            Lakeview   \n",
       " 530                                            NetBank          Alpharetta   \n",
       " 531                          Metropolitan Savings Bank          Pittsburgh   \n",
       " 532                                    Bank of Ephraim             Ephraim   \n",
       " 533                                      Reliance Bank        White Plains   \n",
       " 534              Guaranty National Bank of Tallahassee         Tallahassee   \n",
       " 535                                Dollar Savings Bank              Newark   \n",
       " 536                               Pulaski Savings Bank        Philadelphia   \n",
       " 537              First National Bank of Blanchardville      Blanchardville   \n",
       " 538                              Southern Pacific Bank            Torrance   \n",
       " 539                        Farmers Bank of Cheneyville         Cheneyville   \n",
       " 540                                      Bank of Alamo               Alamo   \n",
       " 541             AmTrade International Bank  En Español             Atlanta   \n",
       " 542                     Universal Federal Savings Bank             Chicago   \n",
       " 543                       Connecticut Bank of Commerce            Stamford   \n",
       " 544                                   New Century Bank     Shelby Township   \n",
       " 545                              Net 1st National Bank          Boca Raton   \n",
       " 546                                       NextBank, NA             Phoenix   \n",
       " 547                           Oakwood Deposit Bank Co.             Oakwood   \n",
       " 548                              Bank of Sierra Blanca       Sierra Blanca   \n",
       " 549                      Hamilton Bank, NA  En Español               Miami   \n",
       " 550                             Sinclair National Bank            Gravette   \n",
       " 551                                 Superior Bank, FSB            Hinsdale   \n",
       " 552                                Malta National Bank               Malta   \n",
       " 553                    First Alliance Bank & Trust Co.          Manchester   \n",
       " 554                  National State Bank of Metropolis          Metropolis   \n",
       " 555                                   Bank of Honolulu            Honolulu   \n",
       " \n",
       "      ST   CERT                Acquiring Institution        Closing Date  \\\n",
       " 0    TX  10716                   Legend Bank, N. A.        May 31, 2019   \n",
       " 1    IL  30570                   Royal Savings Bank   December 15, 2017   \n",
       " 2    KS  17719                          Conway Bank    October 13, 2017   \n",
       " 3    IL   1802            United Fidelity Bank, fsb        May 26, 2017   \n",
       " 4    WI  30003  First-Citizens Bank & Trust Company         May 5, 2017   \n",
       " 5    LA  58302                         Whitney Bank      April 28, 2017   \n",
       " 6    UT  35495                    Cache Valley Bank       March 3, 2017   \n",
       " 7    IL  19328                  State Bank of Texas    January 27, 2017   \n",
       " 8    NJ  34951  First-Citizens Bank & Trust Company    January 13, 2017   \n",
       " 9    AR     91                         Today's Bank  September 23, 2016   \n",
       " 10   GA  11297                          United Bank     August 19, 2016   \n",
       " 11   PA  35312  First-Citizens Bank & Trust Company         May 6, 2016   \n",
       " 12   TN   9956           The Bank of Fayette County      April 29, 2016   \n",
       " 13   WI  20364  First-Citizens Bank & Trust Company      March 11, 2016   \n",
       " 14   WA  35156                       Twin City Bank     October 2, 2015   \n",
       " 15   GA  35259                        Fidelity Bank     October 2, 2015   \n",
       " 16   CO  34112            United Fidelity Bank, fsb       July 10, 2015   \n",
       " 17   IL  57772             Republic Bank of Chicago         May 8, 2015   \n",
       " 18   PR  32102         Banco Popular de Puerto Rico   February 27, 2015   \n",
       " 19   GA  33938  First-Citizens Bank & Trust Company   February 13, 2015   \n",
       " 20   IL  20290            United Fidelity Bank, fsb    January 23, 2015   \n",
       " 21   FL  17557                       First NBC Bank    January 16, 2015   \n",
       " 22   MN  34983                            BankVista   December 19, 2014   \n",
       " 23   CA  34738    Bank of Southern California, N.A.    November 7, 2014   \n",
       " 24   IL    916                  State Bank of Texas    October 24, 2014   \n",
       " 25   MD   4862                          Howard Bank    October 17, 2014   \n",
       " 26   IL  28462                 Providence Bank, LLC       July 25, 2014   \n",
       " 27   GA  58125            Community & Southern Bank       July 18, 2014   \n",
       " 28   OK  12483      Alva State Bank & Trust Company       June 27, 2014   \n",
       " 29   FL  21793  Landmark Bank, National Association       June 20, 2014   \n",
       " ..   ..    ...                                  ...                 ...   \n",
       " 526  AR  33901       Pulaski Bank and Trust Company         May 9, 2008   \n",
       " 527  MO   1971                        Security Bank       March 7, 2008   \n",
       " 528  MO  24660       Liberty Bank and Trust Company    January 25, 2008   \n",
       " 529  OH  16848         The Citizens Banking Company     October 4, 2007   \n",
       " 530  GA  32575                           ING DIRECT  September 28, 2007   \n",
       " 531  PA  35353  Allegheny Valley Bank of Pittsburgh    February 2, 2007   \n",
       " 532  UT   1249                        Far West Bank       June 25, 2004   \n",
       " 533  NY  26778                     Union State Bank      March 19, 2004   \n",
       " 534  FL  26838              Hancock Bank of Florida      March 12, 2004   \n",
       " 535  NJ  31330                          No Acquirer   February 14, 2004   \n",
       " 536  PA  27203                       Earthstar Bank   November 14, 2003   \n",
       " 537  WI  11639                        The Park Bank         May 9, 2003   \n",
       " 538  CA  27094                            Beal Bank    February 7, 2003   \n",
       " 539  LA  16445            Sabine State Bank & Trust   December 17, 2002   \n",
       " 540  TN   9961                          No Acquirer    November 8, 2002   \n",
       " 541  GA  33784                          No Acquirer  September 30, 2002   \n",
       " 542  IL  29355               Chicago Community Bank       June 27, 2002   \n",
       " 543  CT  19183                   Hudson United Bank       June 26, 2002   \n",
       " 544  MI  34979                          No Acquirer      March 28, 2002   \n",
       " 545  FL  26652                       Bank Leumi USA       March 1, 2002   \n",
       " 546  AZ  22314                          No Acquirer    February 7, 2002   \n",
       " 547  OH   8966       The State Bank & Trust Company    February 1, 2002   \n",
       " 548  TX  22002     The Security State Bank of Pecos    January 18, 2002   \n",
       " 549  FL  24382     Israel Discount Bank of New York    January 11, 2002   \n",
       " 550  AR  34248                   Delta Trust & Bank   September 7, 2001   \n",
       " 551  IL  32646                Superior Federal, FSB       July 27, 2001   \n",
       " 552  OH   6629                    North Valley Bank         May 3, 2001   \n",
       " 553  NH  34264  Southern New Hampshire Bank & Trust    February 2, 2001   \n",
       " 554  IL   3815              Banterra Bank of Marion   December 14, 2000   \n",
       " 555  HI  21029                   Bank of the Orient    October 13, 2000   \n",
       " \n",
       "            Updated Date  \n",
       " 0          June 5, 2019  \n",
       " 1      February 1, 2019  \n",
       " 2     February 21, 2018  \n",
       " 3      January 29, 2019  \n",
       " 4        March 22, 2018  \n",
       " 5      January 29, 2019  \n",
       " 6      January 29, 2019  \n",
       " 7      January 29, 2019  \n",
       " 8          May 18, 2017  \n",
       " 9          May 13, 2019  \n",
       " 10    December 13, 2018  \n",
       " 11    November 13, 2018  \n",
       " 12   September 14, 2018  \n",
       " 13     January 29, 2019  \n",
       " 14    February 19, 2018  \n",
       " 15         July 9, 2018  \n",
       " 16    February 20, 2018  \n",
       " 17     January 29, 2019  \n",
       " 18     January 29, 2019  \n",
       " 19     January 29, 2019  \n",
       " 20    November 15, 2017  \n",
       " 21    November 15, 2017  \n",
       " 22      January 3, 2018  \n",
       " 23    November 10, 2016  \n",
       " 24      January 6, 2016  \n",
       " 25     January 29, 2019  \n",
       " 26    December 12, 2016  \n",
       " 27      October 6, 2017  \n",
       " 28    February 21, 2018  \n",
       " 29     January 29, 2019  \n",
       " ..                  ...  \n",
       " 526    February 1, 2019  \n",
       " 527    January 31, 2019  \n",
       " 528    October 26, 2012  \n",
       " 529  September 12, 2016  \n",
       " 530    January 31, 2019  \n",
       " 531    October 27, 2010  \n",
       " 532       April 9, 2008  \n",
       " 533       April 9, 2008  \n",
       " 534      April 17, 2018  \n",
       " 535       April 9, 2008  \n",
       " 536     October 6, 2017  \n",
       " 537        June 5, 2012  \n",
       " 538    October 20, 2008  \n",
       " 539    October 20, 2004  \n",
       " 540      March 18, 2005  \n",
       " 541  September 11, 2006  \n",
       " 542     October 6, 2017  \n",
       " 543   February 14, 2012  \n",
       " 544      March 18, 2005  \n",
       " 545       April 9, 2008  \n",
       " 546    February 5, 2015  \n",
       " 547    October 25, 2012  \n",
       " 548    November 6, 2003  \n",
       " 549  September 21, 2015  \n",
       " 550     October 6, 2017  \n",
       " 551     August 19, 2014  \n",
       " 552   November 18, 2002  \n",
       " 553   February 18, 2003  \n",
       " 554      March 17, 2005  \n",
       " 555      March 17, 2005  \n",
       " \n",
       " [556 rows x 7 columns]]"
      ]
     },
     "execution_count": 15,
     "metadata": {},
     "output_type": "execute_result"
    }
   ],
   "source": [
    "#从网页Web获取数据\n",
    "url = 'https://www.fdic.gov/bank/individual/failed/banklist.html'\n",
    "dfs = pd.read_html(url)\n",
    "dfs"
   ]
  },
  {
   "cell_type": "code",
   "execution_count": 16,
   "metadata": {
    "slideshow": {
     "slide_type": "subslide"
    }
   },
   "outputs": [
    {
     "name": "stdout",
     "output_type": "stream",
     "text": [
      "<html>\n",
      " <head>\n",
      "  <title>\n",
      "   This is a python demo page\n",
      "  </title>\n",
      " </head>\n",
      " <body>\n",
      "  <p class=\"title\">\n",
      "   <b>\n",
      "    The demo python introduces several python courses.\n",
      "   </b>\n",
      "  </p>\n",
      "  <p class=\"course\">\n",
      "   Python is a wonderful general-purpose programming language. You can learn Python from novice to professional by tracking the following courses:\n",
      "   <a class=\"py1\" href=\"http://www.icourse163.org/course/BIT-268001\" id=\"link1\">\n",
      "    Basic Python\n",
      "   </a>\n",
      "   and\n",
      "   <a class=\"py2\" href=\"http://www.icourse163.org/course/BIT-1001870001\" id=\"link2\">\n",
      "    Advanced Python\n",
      "   </a>\n",
      "   .\n",
      "  </p>\n",
      " </body>\n",
      "</html>\n"
     ]
    }
   ],
   "source": [
    "#抓取网页数据\n",
    "from bs4 import BeautifulSoup\n",
    "import requests\n",
    "\n",
    "url = 'http://python123.io/ws/demo.html'\n",
    "r = requests.get(url).text\n",
    "\n",
    "soup = BeautifulSoup(r, \"html.parser\") # r是待解析内容，html.parser是解析器\n",
    "\n",
    "print(soup.prettify())  # 使用prettify()格式化显示输出"
   ]
  },
  {
   "cell_type": "markdown",
   "metadata": {
    "slideshow": {
     "slide_type": "slide"
    }
   },
   "source": [
    "### 数据清洗"
   ]
  },
  {
   "cell_type": "code",
   "execution_count": 17,
   "metadata": {
    "slideshow": {
     "slide_type": "fragment"
    }
   },
   "outputs": [
    {
     "data": {
      "text/html": [
       "<div>\n",
       "<style scoped>\n",
       "    .dataframe tbody tr th:only-of-type {\n",
       "        vertical-align: middle;\n",
       "    }\n",
       "\n",
       "    .dataframe tbody tr th {\n",
       "        vertical-align: top;\n",
       "    }\n",
       "\n",
       "    .dataframe thead th {\n",
       "        text-align: right;\n",
       "    }\n",
       "</style>\n",
       "<table border=\"1\" class=\"dataframe\">\n",
       "  <thead>\n",
       "    <tr style=\"text-align: right;\">\n",
       "      <th></th>\n",
       "      <th>sepal.length</th>\n",
       "      <th>sepal.width</th>\n",
       "      <th>petal.length</th>\n",
       "      <th>petal.width</th>\n",
       "      <th>variety</th>\n",
       "    </tr>\n",
       "  </thead>\n",
       "  <tbody>\n",
       "    <tr>\n",
       "      <th>0</th>\n",
       "      <td>5.1</td>\n",
       "      <td>3.5</td>\n",
       "      <td>1.4</td>\n",
       "      <td>0.2</td>\n",
       "      <td>Setosa</td>\n",
       "    </tr>\n",
       "    <tr>\n",
       "      <th>1</th>\n",
       "      <td>4.9</td>\n",
       "      <td>3.0</td>\n",
       "      <td>1.4</td>\n",
       "      <td>0.2</td>\n",
       "      <td>Setosa</td>\n",
       "    </tr>\n",
       "    <tr>\n",
       "      <th>2</th>\n",
       "      <td>4.7</td>\n",
       "      <td>3.2</td>\n",
       "      <td>1.3</td>\n",
       "      <td>0.2</td>\n",
       "      <td>Setosa</td>\n",
       "    </tr>\n",
       "  </tbody>\n",
       "</table>\n",
       "</div>"
      ],
      "text/plain": [
       "   sepal.length  sepal.width  petal.length  petal.width variety\n",
       "0           5.1          3.5           1.4          0.2  Setosa\n",
       "1           4.9          3.0           1.4          0.2  Setosa\n",
       "2           4.7          3.2           1.3          0.2  Setosa"
      ]
     },
     "execution_count": 17,
     "metadata": {},
     "output_type": "execute_result"
    }
   ],
   "source": [
    "df_iris.head(3)"
   ]
  },
  {
   "cell_type": "code",
   "execution_count": 18,
   "metadata": {
    "slideshow": {
     "slide_type": "fragment"
    }
   },
   "outputs": [
    {
     "data": {
      "text/html": [
       "<div>\n",
       "<style scoped>\n",
       "    .dataframe tbody tr th:only-of-type {\n",
       "        vertical-align: middle;\n",
       "    }\n",
       "\n",
       "    .dataframe tbody tr th {\n",
       "        vertical-align: top;\n",
       "    }\n",
       "\n",
       "    .dataframe thead th {\n",
       "        text-align: right;\n",
       "    }\n",
       "</style>\n",
       "<table border=\"1\" class=\"dataframe\">\n",
       "  <thead>\n",
       "    <tr style=\"text-align: right;\">\n",
       "      <th></th>\n",
       "      <th>petal.length</th>\n",
       "      <th>petal.width</th>\n",
       "      <th>variety</th>\n",
       "    </tr>\n",
       "  </thead>\n",
       "  <tbody>\n",
       "    <tr>\n",
       "      <th>0</th>\n",
       "      <td>1.4</td>\n",
       "      <td>0.2</td>\n",
       "      <td>Setosa</td>\n",
       "    </tr>\n",
       "    <tr>\n",
       "      <th>1</th>\n",
       "      <td>1.4</td>\n",
       "      <td>0.2</td>\n",
       "      <td>Setosa</td>\n",
       "    </tr>\n",
       "    <tr>\n",
       "      <th>2</th>\n",
       "      <td>1.3</td>\n",
       "      <td>0.2</td>\n",
       "      <td>Setosa</td>\n",
       "    </tr>\n",
       "    <tr>\n",
       "      <th>3</th>\n",
       "      <td>1.5</td>\n",
       "      <td>0.2</td>\n",
       "      <td>Setosa</td>\n",
       "    </tr>\n",
       "    <tr>\n",
       "      <th>4</th>\n",
       "      <td>1.4</td>\n",
       "      <td>0.2</td>\n",
       "      <td>Setosa</td>\n",
       "    </tr>\n",
       "  </tbody>\n",
       "</table>\n",
       "</div>"
      ],
      "text/plain": [
       "   petal.length  petal.width variety\n",
       "0           1.4          0.2  Setosa\n",
       "1           1.4          0.2  Setosa\n",
       "2           1.3          0.2  Setosa\n",
       "3           1.5          0.2  Setosa\n",
       "4           1.4          0.2  Setosa"
      ]
     },
     "execution_count": 18,
     "metadata": {},
     "output_type": "execute_result"
    }
   ],
   "source": [
    "#数据选择\n",
    "df_iris.loc[0:4,['petal.length','petal.width','variety']]"
   ]
  },
  {
   "cell_type": "code",
   "execution_count": 19,
   "metadata": {
    "slideshow": {
     "slide_type": "subslide"
    }
   },
   "outputs": [
    {
     "data": {
      "text/html": [
       "<div>\n",
       "<style scoped>\n",
       "    .dataframe tbody tr th:only-of-type {\n",
       "        vertical-align: middle;\n",
       "    }\n",
       "\n",
       "    .dataframe tbody tr th {\n",
       "        vertical-align: top;\n",
       "    }\n",
       "\n",
       "    .dataframe thead th {\n",
       "        text-align: right;\n",
       "    }\n",
       "</style>\n",
       "<table border=\"1\" class=\"dataframe\">\n",
       "  <thead>\n",
       "    <tr style=\"text-align: right;\">\n",
       "      <th></th>\n",
       "      <th>sepal.length</th>\n",
       "      <th>sepal.width</th>\n",
       "      <th>petal.length</th>\n",
       "      <th>petal.width</th>\n",
       "    </tr>\n",
       "  </thead>\n",
       "  <tbody>\n",
       "    <tr>\n",
       "      <th>count</th>\n",
       "      <td>150.000000</td>\n",
       "      <td>150.000000</td>\n",
       "      <td>150.000000</td>\n",
       "      <td>150.000000</td>\n",
       "    </tr>\n",
       "    <tr>\n",
       "      <th>mean</th>\n",
       "      <td>5.843333</td>\n",
       "      <td>3.057333</td>\n",
       "      <td>3.758000</td>\n",
       "      <td>1.199333</td>\n",
       "    </tr>\n",
       "    <tr>\n",
       "      <th>std</th>\n",
       "      <td>0.828066</td>\n",
       "      <td>0.435866</td>\n",
       "      <td>1.765298</td>\n",
       "      <td>0.762238</td>\n",
       "    </tr>\n",
       "    <tr>\n",
       "      <th>min</th>\n",
       "      <td>4.300000</td>\n",
       "      <td>2.000000</td>\n",
       "      <td>1.000000</td>\n",
       "      <td>0.100000</td>\n",
       "    </tr>\n",
       "    <tr>\n",
       "      <th>25%</th>\n",
       "      <td>5.100000</td>\n",
       "      <td>2.800000</td>\n",
       "      <td>1.600000</td>\n",
       "      <td>0.300000</td>\n",
       "    </tr>\n",
       "    <tr>\n",
       "      <th>50%</th>\n",
       "      <td>5.800000</td>\n",
       "      <td>3.000000</td>\n",
       "      <td>4.350000</td>\n",
       "      <td>1.300000</td>\n",
       "    </tr>\n",
       "    <tr>\n",
       "      <th>75%</th>\n",
       "      <td>6.400000</td>\n",
       "      <td>3.300000</td>\n",
       "      <td>5.100000</td>\n",
       "      <td>1.800000</td>\n",
       "    </tr>\n",
       "    <tr>\n",
       "      <th>max</th>\n",
       "      <td>7.900000</td>\n",
       "      <td>4.400000</td>\n",
       "      <td>6.900000</td>\n",
       "      <td>2.500000</td>\n",
       "    </tr>\n",
       "  </tbody>\n",
       "</table>\n",
       "</div>"
      ],
      "text/plain": [
       "       sepal.length  sepal.width  petal.length  petal.width\n",
       "count    150.000000   150.000000    150.000000   150.000000\n",
       "mean       5.843333     3.057333      3.758000     1.199333\n",
       "std        0.828066     0.435866      1.765298     0.762238\n",
       "min        4.300000     2.000000      1.000000     0.100000\n",
       "25%        5.100000     2.800000      1.600000     0.300000\n",
       "50%        5.800000     3.000000      4.350000     1.300000\n",
       "75%        6.400000     3.300000      5.100000     1.800000\n",
       "max        7.900000     4.400000      6.900000     2.500000"
      ]
     },
     "execution_count": 19,
     "metadata": {},
     "output_type": "execute_result"
    }
   ],
   "source": [
    "# 数据汇总\n",
    "df_iris.describe()"
   ]
  },
  {
   "cell_type": "code",
   "execution_count": 20,
   "metadata": {
    "slideshow": {
     "slide_type": "skip"
    }
   },
   "outputs": [],
   "source": [
    "df1 = pd.DataFrame({'A': ['A0', 'A1', 'A2', 'A3'],\n",
    "                     'B': ['B0', 'B1', 'B2', 'B3'],\n",
    "                     'C': ['C0', 'C1', 'C2', 'C3'],\n",
    "                     'D': ['D0', 'D1', 'D2', 'D3']},\n",
    "                     index=[0, 1, 2, 3])\n",
    "    \n",
    "\n",
    "df2 = pd.DataFrame({'A': ['A4', 'A5', 'A6', 'A7'],\n",
    "                    'B': ['B4', 'B5', 'B6', 'B7'],\n",
    "                    'C': ['C4', 'C5', 'C6', 'C7'],\n",
    "                    'D': ['D4', 'D5', 'D6', 'D7']},\n",
    "                    index=[4, 5, 6, 7])\n",
    "\n",
    "\n",
    "df3 = pd.DataFrame({'A': ['A8', 'A9', 'A10', 'A11'],\n",
    "                    'B': ['B8', 'B9', 'B10', 'B11'],\n",
    "                    'C': ['C8', 'C9', 'C10', 'C11'],\n",
    "                    'D': ['D8', 'D9', 'D10', 'D11']},\n",
    "                    index=[8, 9, 10, 11])"
   ]
  },
  {
   "cell_type": "code",
   "execution_count": 21,
   "metadata": {
    "slideshow": {
     "slide_type": "subslide"
    }
   },
   "outputs": [],
   "source": [
    "# 数据合并\n",
    "frames = [df1, df2, df3]\n",
    "result = pd.concat(frames)"
   ]
  },
  {
   "cell_type": "markdown",
   "metadata": {
    "slideshow": {
     "slide_type": "fragment"
    }
   },
   "source": [
    "<img src = 'join.png' width = 30%>"
   ]
  },
  {
   "cell_type": "code",
   "execution_count": 22,
   "metadata": {},
   "outputs": [],
   "source": [
    "df = pd.DataFrame(np.random.randn(5, 3), index=['a', 'c', 'e', 'f', 'h'], columns=['one', 'two', 'three'])\n",
    "df['four'] = 'bar'\n",
    "df['five'] = df['one'] > 0\n",
    "df2 = df.reindex(['a', 'b', 'c', 'd', 'e', 'f', 'g', 'h'])"
   ]
  },
  {
   "cell_type": "code",
   "execution_count": 23,
   "metadata": {
    "slideshow": {
     "slide_type": "subslide"
    }
   },
   "outputs": [
    {
     "data": {
      "text/html": [
       "<div>\n",
       "<style scoped>\n",
       "    .dataframe tbody tr th:only-of-type {\n",
       "        vertical-align: middle;\n",
       "    }\n",
       "\n",
       "    .dataframe tbody tr th {\n",
       "        vertical-align: top;\n",
       "    }\n",
       "\n",
       "    .dataframe thead th {\n",
       "        text-align: right;\n",
       "    }\n",
       "</style>\n",
       "<table border=\"1\" class=\"dataframe\">\n",
       "  <thead>\n",
       "    <tr style=\"text-align: right;\">\n",
       "      <th></th>\n",
       "      <th>one</th>\n",
       "      <th>two</th>\n",
       "      <th>three</th>\n",
       "      <th>four</th>\n",
       "      <th>five</th>\n",
       "    </tr>\n",
       "  </thead>\n",
       "  <tbody>\n",
       "    <tr>\n",
       "      <th>a</th>\n",
       "      <td>-0.622461</td>\n",
       "      <td>-0.649359</td>\n",
       "      <td>-0.744341</td>\n",
       "      <td>bar</td>\n",
       "      <td>False</td>\n",
       "    </tr>\n",
       "    <tr>\n",
       "      <th>b</th>\n",
       "      <td>NaN</td>\n",
       "      <td>NaN</td>\n",
       "      <td>NaN</td>\n",
       "      <td>NaN</td>\n",
       "      <td>NaN</td>\n",
       "    </tr>\n",
       "    <tr>\n",
       "      <th>c</th>\n",
       "      <td>0.194120</td>\n",
       "      <td>-0.432540</td>\n",
       "      <td>1.232465</td>\n",
       "      <td>bar</td>\n",
       "      <td>True</td>\n",
       "    </tr>\n",
       "    <tr>\n",
       "      <th>d</th>\n",
       "      <td>NaN</td>\n",
       "      <td>NaN</td>\n",
       "      <td>NaN</td>\n",
       "      <td>NaN</td>\n",
       "      <td>NaN</td>\n",
       "    </tr>\n",
       "    <tr>\n",
       "      <th>e</th>\n",
       "      <td>-2.468261</td>\n",
       "      <td>-0.653169</td>\n",
       "      <td>-0.551863</td>\n",
       "      <td>bar</td>\n",
       "      <td>False</td>\n",
       "    </tr>\n",
       "    <tr>\n",
       "      <th>f</th>\n",
       "      <td>-0.897844</td>\n",
       "      <td>0.928858</td>\n",
       "      <td>-0.689947</td>\n",
       "      <td>bar</td>\n",
       "      <td>False</td>\n",
       "    </tr>\n",
       "    <tr>\n",
       "      <th>g</th>\n",
       "      <td>NaN</td>\n",
       "      <td>NaN</td>\n",
       "      <td>NaN</td>\n",
       "      <td>NaN</td>\n",
       "      <td>NaN</td>\n",
       "    </tr>\n",
       "    <tr>\n",
       "      <th>h</th>\n",
       "      <td>0.041773</td>\n",
       "      <td>0.357422</td>\n",
       "      <td>-0.570414</td>\n",
       "      <td>bar</td>\n",
       "      <td>True</td>\n",
       "    </tr>\n",
       "  </tbody>\n",
       "</table>\n",
       "</div>"
      ],
      "text/plain": [
       "        one       two     three four   five\n",
       "a -0.622461 -0.649359 -0.744341  bar  False\n",
       "b       NaN       NaN       NaN  NaN    NaN\n",
       "c  0.194120 -0.432540  1.232465  bar   True\n",
       "d       NaN       NaN       NaN  NaN    NaN\n",
       "e -2.468261 -0.653169 -0.551863  bar  False\n",
       "f -0.897844  0.928858 -0.689947  bar  False\n",
       "g       NaN       NaN       NaN  NaN    NaN\n",
       "h  0.041773  0.357422 -0.570414  bar   True"
      ]
     },
     "execution_count": 23,
     "metadata": {},
     "output_type": "execute_result"
    }
   ],
   "source": [
    "df2"
   ]
  },
  {
   "cell_type": "code",
   "execution_count": 24,
   "metadata": {
    "slideshow": {
     "slide_type": "fragment"
    }
   },
   "outputs": [
    {
     "data": {
      "text/html": [
       "<div>\n",
       "<style scoped>\n",
       "    .dataframe tbody tr th:only-of-type {\n",
       "        vertical-align: middle;\n",
       "    }\n",
       "\n",
       "    .dataframe tbody tr th {\n",
       "        vertical-align: top;\n",
       "    }\n",
       "\n",
       "    .dataframe thead th {\n",
       "        text-align: right;\n",
       "    }\n",
       "</style>\n",
       "<table border=\"1\" class=\"dataframe\">\n",
       "  <thead>\n",
       "    <tr style=\"text-align: right;\">\n",
       "      <th></th>\n",
       "      <th>one</th>\n",
       "      <th>two</th>\n",
       "      <th>three</th>\n",
       "      <th>four</th>\n",
       "      <th>five</th>\n",
       "    </tr>\n",
       "  </thead>\n",
       "  <tbody>\n",
       "    <tr>\n",
       "      <th>a</th>\n",
       "      <td>False</td>\n",
       "      <td>False</td>\n",
       "      <td>False</td>\n",
       "      <td>False</td>\n",
       "      <td>False</td>\n",
       "    </tr>\n",
       "    <tr>\n",
       "      <th>b</th>\n",
       "      <td>True</td>\n",
       "      <td>True</td>\n",
       "      <td>True</td>\n",
       "      <td>True</td>\n",
       "      <td>True</td>\n",
       "    </tr>\n",
       "    <tr>\n",
       "      <th>c</th>\n",
       "      <td>False</td>\n",
       "      <td>False</td>\n",
       "      <td>False</td>\n",
       "      <td>False</td>\n",
       "      <td>False</td>\n",
       "    </tr>\n",
       "    <tr>\n",
       "      <th>d</th>\n",
       "      <td>True</td>\n",
       "      <td>True</td>\n",
       "      <td>True</td>\n",
       "      <td>True</td>\n",
       "      <td>True</td>\n",
       "    </tr>\n",
       "    <tr>\n",
       "      <th>e</th>\n",
       "      <td>False</td>\n",
       "      <td>False</td>\n",
       "      <td>False</td>\n",
       "      <td>False</td>\n",
       "      <td>False</td>\n",
       "    </tr>\n",
       "    <tr>\n",
       "      <th>f</th>\n",
       "      <td>False</td>\n",
       "      <td>False</td>\n",
       "      <td>False</td>\n",
       "      <td>False</td>\n",
       "      <td>False</td>\n",
       "    </tr>\n",
       "    <tr>\n",
       "      <th>g</th>\n",
       "      <td>True</td>\n",
       "      <td>True</td>\n",
       "      <td>True</td>\n",
       "      <td>True</td>\n",
       "      <td>True</td>\n",
       "    </tr>\n",
       "    <tr>\n",
       "      <th>h</th>\n",
       "      <td>False</td>\n",
       "      <td>False</td>\n",
       "      <td>False</td>\n",
       "      <td>False</td>\n",
       "      <td>False</td>\n",
       "    </tr>\n",
       "  </tbody>\n",
       "</table>\n",
       "</div>"
      ],
      "text/plain": [
       "     one    two  three   four   five\n",
       "a  False  False  False  False  False\n",
       "b   True   True   True   True   True\n",
       "c  False  False  False  False  False\n",
       "d   True   True   True   True   True\n",
       "e  False  False  False  False  False\n",
       "f  False  False  False  False  False\n",
       "g   True   True   True   True   True\n",
       "h  False  False  False  False  False"
      ]
     },
     "execution_count": 24,
     "metadata": {},
     "output_type": "execute_result"
    }
   ],
   "source": [
    "# 检查缺失值\n",
    "pd.isna(df2)"
   ]
  },
  {
   "cell_type": "code",
   "execution_count": 25,
   "metadata": {
    "slideshow": {
     "slide_type": "subslide"
    }
   },
   "outputs": [
    {
     "data": {
      "text/html": [
       "<div>\n",
       "<style scoped>\n",
       "    .dataframe tbody tr th:only-of-type {\n",
       "        vertical-align: middle;\n",
       "    }\n",
       "\n",
       "    .dataframe tbody tr th {\n",
       "        vertical-align: top;\n",
       "    }\n",
       "\n",
       "    .dataframe thead th {\n",
       "        text-align: right;\n",
       "    }\n",
       "</style>\n",
       "<table border=\"1\" class=\"dataframe\">\n",
       "  <thead>\n",
       "    <tr style=\"text-align: right;\">\n",
       "      <th></th>\n",
       "      <th>one</th>\n",
       "      <th>two</th>\n",
       "      <th>three</th>\n",
       "      <th>four</th>\n",
       "      <th>five</th>\n",
       "    </tr>\n",
       "  </thead>\n",
       "  <tbody>\n",
       "    <tr>\n",
       "      <th>a</th>\n",
       "      <td>-0.622461</td>\n",
       "      <td>-0.649359</td>\n",
       "      <td>-0.744341</td>\n",
       "      <td>bar</td>\n",
       "      <td>False</td>\n",
       "    </tr>\n",
       "    <tr>\n",
       "      <th>b</th>\n",
       "      <td>0.000000</td>\n",
       "      <td>0.000000</td>\n",
       "      <td>0.000000</td>\n",
       "      <td>0</td>\n",
       "      <td>0</td>\n",
       "    </tr>\n",
       "    <tr>\n",
       "      <th>c</th>\n",
       "      <td>0.194120</td>\n",
       "      <td>-0.432540</td>\n",
       "      <td>1.232465</td>\n",
       "      <td>bar</td>\n",
       "      <td>True</td>\n",
       "    </tr>\n",
       "    <tr>\n",
       "      <th>d</th>\n",
       "      <td>0.000000</td>\n",
       "      <td>0.000000</td>\n",
       "      <td>0.000000</td>\n",
       "      <td>0</td>\n",
       "      <td>0</td>\n",
       "    </tr>\n",
       "    <tr>\n",
       "      <th>e</th>\n",
       "      <td>-2.468261</td>\n",
       "      <td>-0.653169</td>\n",
       "      <td>-0.551863</td>\n",
       "      <td>bar</td>\n",
       "      <td>False</td>\n",
       "    </tr>\n",
       "    <tr>\n",
       "      <th>f</th>\n",
       "      <td>-0.897844</td>\n",
       "      <td>0.928858</td>\n",
       "      <td>-0.689947</td>\n",
       "      <td>bar</td>\n",
       "      <td>False</td>\n",
       "    </tr>\n",
       "    <tr>\n",
       "      <th>g</th>\n",
       "      <td>0.000000</td>\n",
       "      <td>0.000000</td>\n",
       "      <td>0.000000</td>\n",
       "      <td>0</td>\n",
       "      <td>0</td>\n",
       "    </tr>\n",
       "    <tr>\n",
       "      <th>h</th>\n",
       "      <td>0.041773</td>\n",
       "      <td>0.357422</td>\n",
       "      <td>-0.570414</td>\n",
       "      <td>bar</td>\n",
       "      <td>True</td>\n",
       "    </tr>\n",
       "  </tbody>\n",
       "</table>\n",
       "</div>"
      ],
      "text/plain": [
       "        one       two     three four   five\n",
       "a -0.622461 -0.649359 -0.744341  bar  False\n",
       "b  0.000000  0.000000  0.000000    0      0\n",
       "c  0.194120 -0.432540  1.232465  bar   True\n",
       "d  0.000000  0.000000  0.000000    0      0\n",
       "e -2.468261 -0.653169 -0.551863  bar  False\n",
       "f -0.897844  0.928858 -0.689947  bar  False\n",
       "g  0.000000  0.000000  0.000000    0      0\n",
       "h  0.041773  0.357422 -0.570414  bar   True"
      ]
     },
     "execution_count": 25,
     "metadata": {},
     "output_type": "execute_result"
    }
   ],
   "source": [
    "# 处理缺失值\n",
    "df2.fillna(0)"
   ]
  },
  {
   "cell_type": "code",
   "execution_count": 26,
   "metadata": {
    "slideshow": {
     "slide_type": "subslide"
    }
   },
   "outputs": [
    {
     "data": {
      "text/html": [
       "<div>\n",
       "<style scoped>\n",
       "    .dataframe tbody tr th:only-of-type {\n",
       "        vertical-align: middle;\n",
       "    }\n",
       "\n",
       "    .dataframe tbody tr th {\n",
       "        vertical-align: top;\n",
       "    }\n",
       "\n",
       "    .dataframe thead th {\n",
       "        text-align: right;\n",
       "    }\n",
       "</style>\n",
       "<table border=\"1\" class=\"dataframe\">\n",
       "  <thead>\n",
       "    <tr style=\"text-align: right;\">\n",
       "      <th></th>\n",
       "      <th>one</th>\n",
       "      <th>two</th>\n",
       "      <th>three</th>\n",
       "      <th>four</th>\n",
       "      <th>five</th>\n",
       "    </tr>\n",
       "  </thead>\n",
       "  <tbody>\n",
       "    <tr>\n",
       "      <th>a</th>\n",
       "      <td>-0.622461</td>\n",
       "      <td>-0.649359</td>\n",
       "      <td>-0.744341</td>\n",
       "      <td>bar</td>\n",
       "      <td>False</td>\n",
       "    </tr>\n",
       "    <tr>\n",
       "      <th>b</th>\n",
       "      <td>NaN</td>\n",
       "      <td>NaN</td>\n",
       "      <td>NaN</td>\n",
       "      <td>NaN</td>\n",
       "      <td>NaN</td>\n",
       "    </tr>\n",
       "    <tr>\n",
       "      <th>c</th>\n",
       "      <td>0.194120</td>\n",
       "      <td>-0.432540</td>\n",
       "      <td>1.232465</td>\n",
       "      <td>bar</td>\n",
       "      <td>True</td>\n",
       "    </tr>\n",
       "    <tr>\n",
       "      <th>d</th>\n",
       "      <td>NaN</td>\n",
       "      <td>NaN</td>\n",
       "      <td>NaN</td>\n",
       "      <td>NaN</td>\n",
       "      <td>NaN</td>\n",
       "    </tr>\n",
       "    <tr>\n",
       "      <th>e</th>\n",
       "      <td>-2.468261</td>\n",
       "      <td>-0.653169</td>\n",
       "      <td>-0.551863</td>\n",
       "      <td>bar</td>\n",
       "      <td>False</td>\n",
       "    </tr>\n",
       "    <tr>\n",
       "      <th>f</th>\n",
       "      <td>-0.897844</td>\n",
       "      <td>0.928858</td>\n",
       "      <td>-0.689947</td>\n",
       "      <td>bar</td>\n",
       "      <td>False</td>\n",
       "    </tr>\n",
       "    <tr>\n",
       "      <th>g</th>\n",
       "      <td>NaN</td>\n",
       "      <td>NaN</td>\n",
       "      <td>NaN</td>\n",
       "      <td>NaN</td>\n",
       "      <td>NaN</td>\n",
       "    </tr>\n",
       "    <tr>\n",
       "      <th>h</th>\n",
       "      <td>0.041773</td>\n",
       "      <td>0.357422</td>\n",
       "      <td>-0.570414</td>\n",
       "      <td>bar</td>\n",
       "      <td>True</td>\n",
       "    </tr>\n",
       "  </tbody>\n",
       "</table>\n",
       "</div>"
      ],
      "text/plain": [
       "        one       two     three four   five\n",
       "a -0.622461 -0.649359 -0.744341  bar  False\n",
       "b       NaN       NaN       NaN  NaN    NaN\n",
       "c  0.194120 -0.432540  1.232465  bar   True\n",
       "d       NaN       NaN       NaN  NaN    NaN\n",
       "e -2.468261 -0.653169 -0.551863  bar  False\n",
       "f -0.897844  0.928858 -0.689947  bar  False\n",
       "g       NaN       NaN       NaN  NaN    NaN\n",
       "h  0.041773  0.357422 -0.570414  bar   True"
      ]
     },
     "execution_count": 26,
     "metadata": {},
     "output_type": "execute_result"
    }
   ],
   "source": [
    "# 处理异常值\n",
    "df2.loc[df2['one'] > 1]['one'] = 1\n",
    "df2"
   ]
  },
  {
   "cell_type": "code",
   "execution_count": 27,
   "metadata": {
    "slideshow": {
     "slide_type": "subslide"
    }
   },
   "outputs": [
    {
     "data": {
      "text/html": [
       "<div>\n",
       "<style scoped>\n",
       "    .dataframe tbody tr th:only-of-type {\n",
       "        vertical-align: middle;\n",
       "    }\n",
       "\n",
       "    .dataframe tbody tr th {\n",
       "        vertical-align: top;\n",
       "    }\n",
       "\n",
       "    .dataframe thead th {\n",
       "        text-align: right;\n",
       "    }\n",
       "</style>\n",
       "<table border=\"1\" class=\"dataframe\">\n",
       "  <thead>\n",
       "    <tr style=\"text-align: right;\">\n",
       "      <th></th>\n",
       "      <th>sepal.length</th>\n",
       "      <th>sepal.width</th>\n",
       "      <th>petal.length</th>\n",
       "      <th>petal.width</th>\n",
       "      <th>variety</th>\n",
       "    </tr>\n",
       "  </thead>\n",
       "  <tbody>\n",
       "    <tr>\n",
       "      <th>0</th>\n",
       "      <td>5</td>\n",
       "      <td>3.5</td>\n",
       "      <td>1.4</td>\n",
       "      <td>0.2</td>\n",
       "      <td>Setosa</td>\n",
       "    </tr>\n",
       "    <tr>\n",
       "      <th>1</th>\n",
       "      <td>4</td>\n",
       "      <td>3.0</td>\n",
       "      <td>1.4</td>\n",
       "      <td>0.2</td>\n",
       "      <td>Setosa</td>\n",
       "    </tr>\n",
       "    <tr>\n",
       "      <th>2</th>\n",
       "      <td>4</td>\n",
       "      <td>3.2</td>\n",
       "      <td>1.3</td>\n",
       "      <td>0.2</td>\n",
       "      <td>Setosa</td>\n",
       "    </tr>\n",
       "    <tr>\n",
       "      <th>3</th>\n",
       "      <td>4</td>\n",
       "      <td>3.1</td>\n",
       "      <td>1.5</td>\n",
       "      <td>0.2</td>\n",
       "      <td>Setosa</td>\n",
       "    </tr>\n",
       "    <tr>\n",
       "      <th>4</th>\n",
       "      <td>5</td>\n",
       "      <td>3.6</td>\n",
       "      <td>1.4</td>\n",
       "      <td>0.2</td>\n",
       "      <td>Setosa</td>\n",
       "    </tr>\n",
       "  </tbody>\n",
       "</table>\n",
       "</div>"
      ],
      "text/plain": [
       "   sepal.length  sepal.width  petal.length  petal.width variety\n",
       "0             5          3.5           1.4          0.2  Setosa\n",
       "1             4          3.0           1.4          0.2  Setosa\n",
       "2             4          3.2           1.3          0.2  Setosa\n",
       "3             4          3.1           1.5          0.2  Setosa\n",
       "4             5          3.6           1.4          0.2  Setosa"
      ]
     },
     "execution_count": 27,
     "metadata": {},
     "output_type": "execute_result"
    }
   ],
   "source": [
    "# 数据类型\n",
    "df_iris['sepal.length'] = df_iris['sepal.length'].astype(int)\n",
    "df_iris.head()"
   ]
  },
  {
   "cell_type": "markdown",
   "metadata": {
    "nbpresent": {
     "id": "3fd22509-7ccc-452c-8e22-7d9589165c27"
    },
    "slideshow": {
     "slide_type": "slide"
    }
   },
   "source": [
    "## 探索性数据分析\n",
    "Exploratory Data Analysis,EDA"
   ]
  },
  {
   "cell_type": "markdown",
   "metadata": {
    "slideshow": {
     "slide_type": "slide"
    }
   },
   "source": [
    "### 中心倾向 "
   ]
  },
  {
   "cell_type": "code",
   "execution_count": 28,
   "metadata": {
    "slideshow": {
     "slide_type": "fragment"
    }
   },
   "outputs": [
    {
     "name": "stdout",
     "output_type": "stream",
     "text": [
      "3.057333333333334\n",
      "3.0\n",
      "0    3.0\n",
      "dtype: float64\n"
     ]
    }
   ],
   "source": [
    "# 均值\n",
    "print(df_iris['sepal.width'].mean())\n",
    "\n",
    "# 中位数\n",
    "print(df_iris['sepal.width'].median())\n",
    "\n",
    "# 众数\n",
    "print(df_iris['sepal.width'].mode())"
   ]
  },
  {
   "cell_type": "code",
   "execution_count": 29,
   "metadata": {
    "slideshow": {
     "slide_type": "fragment"
    }
   },
   "outputs": [
    {
     "data": {
      "image/png": "[encoded data removed]",
      "text/plain": [
       "<Figure size 432x288 with 1 Axes>"
      ]
     },
     "metadata": {
      "needs_background": "light"
     },
     "output_type": "display_data"
    }
   ],
   "source": [
    "# 画箱图\n",
    "df_iris['sepal.width'].plot(kind = 'box', title = 'spepal width box plot');"
   ]
  },
  {
   "cell_type": "markdown",
   "metadata": {
    "slideshow": {
     "slide_type": "slide"
    }
   },
   "source": [
    "### 离散度"
   ]
  },
  {
   "cell_type": "code",
   "execution_count": 30,
   "metadata": {
    "slideshow": {
     "slide_type": "fragment"
    }
   },
   "outputs": [
    {
     "data": {
      "text/plain": [
       "0.1899794183445188"
      ]
     },
     "execution_count": 30,
     "metadata": {},
     "output_type": "execute_result"
    }
   ],
   "source": [
    "# 方差\n",
    "df_iris['sepal.width'].var()"
   ]
  },
  {
   "cell_type": "code",
   "execution_count": 31,
   "metadata": {
    "slideshow": {
     "slide_type": "fragment"
    }
   },
   "outputs": [
    {
     "data": {
      "text/plain": [
       "0.435866284936698"
      ]
     },
     "execution_count": 31,
     "metadata": {},
     "output_type": "execute_result"
    }
   ],
   "source": [
    "# 标准差\n",
    "df_iris['sepal.width'].std()"
   ]
  },
  {
   "cell_type": "code",
   "execution_count": 32,
   "metadata": {
    "slideshow": {
     "slide_type": "fragment"
    }
   },
   "outputs": [
    {
     "data": {
      "image/png": "[encoded data removed]",
      "text/plain": [
       "<Figure size 432x288 with 1 Axes>"
      ]
     },
     "metadata": {
      "needs_background": "light"
     },
     "output_type": "display_data"
    }
   ],
   "source": [
    "# 画柱形图\n",
    "means = df_iris.mean()\n",
    "errors = df_iris.std()\n",
    "\n",
    "plt.bar(means.index, means, yerr = errors);\n",
    "plt.xlabel('Iris features');\n",
    "plt.title('Mean and Standard Variance of Iris features');"
   ]
  },
  {
   "cell_type": "markdown",
   "metadata": {
    "slideshow": {
     "slide_type": "slide"
    }
   },
   "source": [
    "### 概率分布"
   ]
  },
  {
   "cell_type": "code",
   "execution_count": 33,
   "metadata": {
    "slideshow": {
     "slide_type": "fragment"
    }
   },
   "outputs": [
    {
     "data": {
      "image/png": "[encoded data removed]",
      "text/plain": [
       "<Figure size 432x288 with 1 Axes>"
      ]
     },
     "metadata": {
      "needs_background": "light"
     },
     "output_type": "display_data"
    }
   ],
   "source": [
    "# 核密度估计图\n",
    "df_iris.plot(kind = 'kde');"
   ]
  },
  {
   "cell_type": "markdown",
   "metadata": {
    "slideshow": {
     "slide_type": "slide"
    }
   },
   "source": [
    "### 联合分布"
   ]
  },
  {
   "cell_type": "code",
   "execution_count": 34,
   "metadata": {
    "slideshow": {
     "slide_type": "fragment"
    }
   },
   "outputs": [
    {
     "data": {
      "image/png": "[encoded data removed]",
      "text/plain": [
       "<Figure size 432x432 with 3 Axes>"
      ]
     },
     "metadata": {
      "needs_background": "light"
     },
     "output_type": "display_data"
    }
   ],
   "source": [
    "# 联合分布图\n",
    "import seaborn as sns\n",
    "sns.jointplot(df_iris['petal.length'],df_iris['petal.width'],kind=\"kde\", space=0);"
   ]
  },
  {
   "cell_type": "markdown",
   "metadata": {
    "slideshow": {
     "slide_type": "slide"
    }
   },
   "source": [
    "### 相关矩阵"
   ]
  },
  {
   "cell_type": "code",
   "execution_count": 35,
   "metadata": {
    "slideshow": {
     "slide_type": "fragment"
    }
   },
   "outputs": [
    {
     "data": {
      "image/png": "[encoded data removed]",
      "text/plain": [
       "<Figure size 720x720 with 20 Axes>"
      ]
     },
     "metadata": {
      "needs_background": "light"
     },
     "output_type": "display_data"
    }
   ],
   "source": [
    "# 散点图矩阵\n",
    "sns.pairplot(df_iris, kind=\"reg\");"
   ]
  },
  {
   "cell_type": "code",
   "execution_count": 36,
   "metadata": {
    "slideshow": {
     "slide_type": "subslide"
    }
   },
   "outputs": [
    {
     "data": {
      "text/html": [
       "<div>\n",
       "<style scoped>\n",
       "    .dataframe tbody tr th:only-of-type {\n",
       "        vertical-align: middle;\n",
       "    }\n",
       "\n",
       "    .dataframe tbody tr th {\n",
       "        vertical-align: top;\n",
       "    }\n",
       "\n",
       "    .dataframe thead th {\n",
       "        text-align: right;\n",
       "    }\n",
       "</style>\n",
       "<table border=\"1\" class=\"dataframe\">\n",
       "  <thead>\n",
       "    <tr style=\"text-align: right;\">\n",
       "      <th></th>\n",
       "      <th>sepal.length</th>\n",
       "      <th>sepal.width</th>\n",
       "      <th>petal.length</th>\n",
       "      <th>petal.width</th>\n",
       "    </tr>\n",
       "  </thead>\n",
       "  <tbody>\n",
       "    <tr>\n",
       "      <th>sepal.length</th>\n",
       "      <td>1.000000</td>\n",
       "      <td>-0.102902</td>\n",
       "      <td>0.807731</td>\n",
       "      <td>0.748308</td>\n",
       "    </tr>\n",
       "    <tr>\n",
       "      <th>sepal.width</th>\n",
       "      <td>-0.102902</td>\n",
       "      <td>1.000000</td>\n",
       "      <td>-0.428440</td>\n",
       "      <td>-0.366126</td>\n",
       "    </tr>\n",
       "    <tr>\n",
       "      <th>petal.length</th>\n",
       "      <td>0.807731</td>\n",
       "      <td>-0.428440</td>\n",
       "      <td>1.000000</td>\n",
       "      <td>0.962865</td>\n",
       "    </tr>\n",
       "    <tr>\n",
       "      <th>petal.width</th>\n",
       "      <td>0.748308</td>\n",
       "      <td>-0.366126</td>\n",
       "      <td>0.962865</td>\n",
       "      <td>1.000000</td>\n",
       "    </tr>\n",
       "  </tbody>\n",
       "</table>\n",
       "</div>"
      ],
      "text/plain": [
       "              sepal.length  sepal.width  petal.length  petal.width\n",
       "sepal.length      1.000000    -0.102902      0.807731     0.748308\n",
       "sepal.width      -0.102902     1.000000     -0.428440    -0.366126\n",
       "petal.length      0.807731    -0.428440      1.000000     0.962865\n",
       "petal.width       0.748308    -0.366126      0.962865     1.000000"
      ]
     },
     "execution_count": 36,
     "metadata": {},
     "output_type": "execute_result"
    }
   ],
   "source": [
    "# 相关矩阵\n",
    "df_iris.corr()"
   ]
  },
  {
   "cell_type": "code",
   "execution_count": 37,
   "metadata": {
    "slideshow": {
     "slide_type": "fragment"
    }
   },
   "outputs": [
    {
     "data": {
      "image/png": "[encoded data removed]",
      "text/plain": [
       "<Figure size 432x288 with 2 Axes>"
      ]
     },
     "metadata": {
      "needs_background": "light"
     },
     "output_type": "display_data"
    }
   ],
   "source": [
    "# 相关系数热力图\n",
    "sns.heatmap(df_iris.corr(), annot=True);"
   ]
  },
  {
   "cell_type": "markdown",
   "metadata": {
    "nbpresent": {
     "id": "71c2c84d-b359-40e0-bc75-db740c441a48"
    },
    "slideshow": {
     "slide_type": "slide"
    }
   },
   "source": [
    "## 推断性数据分析"
   ]
  },
  {
   "cell_type": "markdown",
   "metadata": {
    "slideshow": {
     "slide_type": "slide"
    }
   },
   "source": [
    "### 置信区间"
   ]
  },
  {
   "cell_type": "markdown",
   "metadata": {
    "slideshow": {
     "slide_type": "fragment"
    }
   },
   "source": [
    "探索性数据分析中样本的均值和方差实际上是一种**点估计**。是对**总体**均值、方差等统计量的估计值。点估计存在俩个重要问题：\n",
    " \n",
    "1. 单个点估计非常容易出错（由于样本偏差等原因）。\n",
    "2. 计算多个固定大小样本的抽样分布是不可行的，有时甚至比直接计算总体参数还难。（抽样分布利用中心极限定理）\n",
    "\n",
    "因此，我们引入统计学中一个非常重要的概念——**置信区间**。"
   ]
  },
  {
   "cell_type": "markdown",
   "metadata": {
    "slideshow": {
     "slide_type": "subslide"
    }
   },
   "source": [
    "置信区间是一个区间值，是指再给定置信水平下，该区间将包含总体参数。置信水平指一次点估计的置信区间包含总体参数的概率。\n",
    "\n",
    "举例：假设我们希望每一次点估计总体均值在区间[7.8,12.2]内的概率都是95%，那么置信水平就是95%，置信区间就是[7.8,12.2]。"
   ]
  },
  {
   "cell_type": "code",
   "execution_count": 43,
   "metadata": {
    "slideshow": {
     "slide_type": "fragment"
    }
   },
   "outputs": [],
   "source": [
    "# 准备数据\n",
    "sample_mean = df_iris['petal.length'].mean() # 样本均值\n",
    "sample_stdev = df_iris['petal.length'].std() # 样本标准差\n",
    "sample_size = df_iris['petal.length'].count()# 样本数量\n",
    "sigma = sample_stdev/np.sqrt(sample_size)    # 总体标准差的估计值"
   ]
  },
  {
   "cell_type": "code",
   "execution_count": 52,
   "metadata": {
    "slideshow": {
     "slide_type": "fragment"
    }
   },
   "outputs": [],
   "source": [
    "from scipy import stats                             # scipy.stats是一个统计学的科学计算库\n",
    "t_interval = stats.t.interval(alpha = 0.95,         # 置信水平\n",
    "                              df = sample_size - 1, # 自由度\n",
    "                              loc = sample_mean,    # 样本均值\n",
    "                              scale = sigma         # 总体标准差的估计值\n",
    "                             )"
   ]
  },
  {
   "cell_type": "code",
   "execution_count": 61,
   "metadata": {
    "slideshow": {
     "slide_type": "fragment"
    }
   },
   "outputs": [
    {
     "name": "stdout",
     "output_type": "stream",
     "text": [
      "样本均值为: 3.7580000000000027\n",
      "置信区间为: (3.4731853701995132, 4.0428146298004926)\n",
      "意义：总体均值在区间[3.473,4.043]内的概率为0.95\n"
     ]
    }
   ],
   "source": [
    "print('样本均值为:',sample_mean)\n",
    "print('置信区间为:',t_interval)\n",
    "print('意义：总体均值在区间[%.3f,%.3f]内的概率为0.95'%(t_interval[0],t_interval[1]))"
   ]
  },
  {
   "cell_type": "markdown",
   "metadata": {
    "slideshow": {
     "slide_type": "slide"
    }
   },
   "source": [
    "### 假设检验"
   ]
  },
  {
   "cell_type": "markdown",
   "metadata": {
    "slideshow": {
     "slide_type": "fragment"
    }
   },
   "source": [
    "作为数据科学家，经常需要验证某个假设是否成立。比如：\n",
    "- ”这枚硬币是均匀的“\n",
    "- ”数据科学家喜欢python胜过R“\n",
    "- ”如果人们点开某个突然弹出的小广告，广告的关闭按钮又小又难找，那么大家更倾向于离开这个页面，压根不会阅读“"
   ]
  },
  {
   "cell_type": "markdown",
   "metadata": {
    "slideshow": {
     "slide_type": "fragment"
    }
   },
   "source": [
    "假设检验的基本思想是小概率反证法思想，小概率思想认为小概率事件在一次试验中基本上不可能发生，在这个方法下，我们首先对总体作出一个假设，这个假设大概率会成立，如果在一次试验中，试验结果和原假设相背离，也就是小概率事件竟然发生了，那我们就有理由怀疑原假设的真实性，从而拒绝这一假设。"
   ]
  },
  {
   "cell_type": "markdown",
   "metadata": {
    "slideshow": {
     "slide_type": "subslide"
    }
   },
   "source": [
    "假设”女神喜欢我“，如果我向女神告白，最多只有5%的概率被拒绝。\n",
    "\n",
    "我向女神告白了：”女神，我爱你。“\n",
    "\n",
    "女神拒绝了：”NO!!!“\n",
    "\n",
    "这时候，我们有理由怀疑原假设的真实性，从而拒绝这一假设。"
   ]
  },
  {
   "cell_type": "markdown",
   "metadata": {
    "slideshow": {
     "slide_type": "subslide"
    }
   },
   "source": [
    "假设检验有很多种，这里我们介绍一种简单的t检验，其他检验与t检验的核心思路相同，根据样本情况的不同而不同。"
   ]
  },
  {
   "cell_type": "markdown",
   "metadata": {
    "slideshow": {
     "slide_type": "fragment"
    }
   },
   "source": [
    "步骤：\n",
    "1. 提出默认正确的原假设，用$H_0$表示；备选假设用$H_1$表示。\n",
    "2. 设定显著性水平$\\alpha$，即\"1-置信水平\"，一般为0.05。\n",
    "3. 计算t统计量和p值。\n",
    "4. 判断是否拒绝原假设。"
   ]
  },
  {
   "cell_type": "markdown",
   "metadata": {
    "slideshow": {
     "slide_type": "fragment"
    }
   },
   "source": [
    "t统计量:\n",
    "\n",
    "$t={\\frac {{\\overline {x}}-\\mu _{0}}{s/{\\sqrt {n}}}}$\n",
    "\n",
    "其中$i=1\\ldots n$， $\\overline {x}={\\frac  {\\sum _{{i=1}}^{{n}}x_{i}}{n}}$为样本平均数，$s={\\sqrt  {{\\frac  {\\sum _{{i=1}}^{{n}}(x_{i}-\\overline {x})^{2}}{n-1}}}}$为样本标准偏差，n为样本数。该统计量t在原假设：μ = μ0为真的条件下服从自由度为n − 1的t分布。\n",
    "\n",
    "p值：\n",
    "\n",
    "查表得到。"
   ]
  },
  {
   "cell_type": "markdown",
   "metadata": {
    "slideshow": {
     "slide_type": "fragment"
    }
   },
   "source": [
    "t统计量和p值都是用来推翻原假设的“证据”。当t统计量非常大（正负皆可），p值非常小（小于显著性水平$\\alpha$）时，拒绝原假设，否则接受原假设。"
   ]
  },
  {
   "cell_type": "markdown",
   "metadata": {
    "slideshow": {
     "slide_type": "subslide"
    }
   },
   "source": [
    "t统计量和p值都是用来推翻原假设的“证据”。当t统计量非常大（正负皆可），p值非常小（小于显著性水平 𝛼 ）时，拒绝原假设，否则接受原假设。"
   ]
  },
  {
   "cell_type": "code",
   "execution_count": 63,
   "metadata": {
    "slideshow": {
     "slide_type": "fragment"
    }
   },
   "outputs": [
    {
     "name": "stdout",
     "output_type": "stream",
     "text": [
      "t统计量 =  0.391 p值 = 0.6955\n"
     ]
    }
   ],
   "source": [
    "# 实战练习\n",
    "np.random.seed(282629734)\n",
    "x = stats.t.rvs(10, size=1000) # 生成t分布数据\n",
    "print('t统计量 = %6.3f p值 = %6.4f' %  stats.ttest_1samp(x, 0)) # 原假设：总体均值为0"
   ]
  },
  {
   "cell_type": "markdown",
   "metadata": {
    "slideshow": {
     "slide_type": "fragment"
    }
   },
   "source": [
    "是否拒绝原假设（$H_0：总体均值为0$）？"
   ]
  },
  {
   "cell_type": "markdown",
   "metadata": {
    "slideshow": {
     "slide_type": "slide"
    }
   },
   "source": [
    "### A/B测试"
   ]
  },
  {
   "cell_type": "markdown",
   "metadata": {
    "slideshow": {
     "slide_type": "fragment"
    }
   },
   "source": [
    "AB测试是为Web或App界面或流程制作两个（A/B）或多个（A/B/n）版本，在同一时间维度，分别让组成成分相同（相似）的访客群组（目标人群）随机的访问这些版本，收集各群组的用户体验数据和业务数据，最后分析、评估出最好版本，正式采用。"
   ]
  },
  {
   "cell_type": "markdown",
   "metadata": {
    "slideshow": {
     "slide_type": "fragment"
    }
   },
   "source": [
    "两个网页的注册数：\n",
    "\n",
    "-|未注册|注册\n",
    "---|---|---\n",
    "网页A|134|54\n",
    "网页B|110|48\n",
    "\n",
    "网页A比网页B好吗？\n"
   ]
  },
  {
   "cell_type": "markdown",
   "metadata": {
    "slideshow": {
     "slide_type": "slide"
    }
   },
   "source": [
    "### 卡方相关性检验"
   ]
  },
  {
   "cell_type": "markdown",
   "metadata": {
    "slideshow": {
     "slide_type": "fragment"
    }
   },
   "source": [
    "卡方相关性检验用于检验两个分类变量是否相互独立。"
   ]
  },
  {
   "cell_type": "markdown",
   "metadata": {
    "slideshow": {
     "slide_type": "fragment"
    }
   },
   "source": [
    "原假设$H_0$：两个网页类型与是否注册两个变量之间没有相关性。   \n",
    "显著水平$\\alpha$：0.05"
   ]
  },
  {
   "cell_type": "code",
   "execution_count": 66,
   "metadata": {
    "slideshow": {
     "slide_type": "fragment"
    }
   },
   "outputs": [
    {
     "name": "stdout",
     "output_type": "stream",
     "text": [
      "卡方统计量： 0.04762692369491045\n",
      "p值: 0.8272452870442226\n"
     ]
    }
   ],
   "source": [
    "observed = np.array([[134,54],[110,48]]) # 观察值\n",
    "chi_squared, p_value, degrees_of_freedom, matrix = stats.chi2_contingency(observed) # 卡方检验\n",
    "print('卡方统计量：',chi_squared)\n",
    "print('p值:',p_value)"
   ]
  },
  {
   "cell_type": "markdown",
   "metadata": {
    "slideshow": {
     "slide_type": "fragment"
    }
   },
   "source": [
    "p值非常大，因此我们无法拒绝原假设，也就是说，没有足够的证据证明网页类型对用户注册率有影响，两个变量之间没有相关性。"
   ]
  },
  {
   "cell_type": "markdown",
   "metadata": {
    "slideshow": {
     "slide_type": "slide"
    }
   },
   "source": [
    "### 贝叶斯推断"
   ]
  },
  {
   "cell_type": "markdown",
   "metadata": {
    "slideshow": {
     "slide_type": "fragment"
    }
   },
   "source": [
    "事件A和事件B发生的概率：\n",
    "\n",
    "$P(A)$ = 事件A发生的概率。\n",
    "\n",
    "$P(A|B)$ = 事件B发生的前提下，事件A发生的概率。\n",
    "\n",
    "$P(A,B)$ = 事件A和事件B同时发生的概率。\n",
    "\n",
    "$P(A,B) = P(A) \\times P(B|A)$ ，根据同时发生的定义。\n"
   ]
  },
  {
   "cell_type": "markdown",
   "metadata": {
    "slideshow": {
     "slide_type": "fragment"
    }
   },
   "source": [
    "贝叶斯定理推导：\n",
    "\n",
    "$P(A,B) = P(A) \\times P(B|A)$   \n",
    "$P(B,A) = P(B) \\times P(A|B)$\n",
    "\n",
    "$P(A,B) = P(B,A)$\n",
    "\n",
    "$P(A|B) = \\frac{P(A) \\times P(B|A)}{P(B)}$ "
   ]
  },
  {
   "cell_type": "markdown",
   "metadata": {
    "slideshow": {
     "slide_type": "subslide"
    }
   },
   "source": [
    "理解贝叶斯定理：\n",
    "\n",
    "A：你妈揍你   \n",
    "B：你考试没考好\n",
    "\n",
    "P(A) = 1% 你妈揍你的概率。\n",
    "P(B|A) = 30% 你妈揍你的情况下，30%的情况都是你没考好。\n",
    "P(B) = 50% 你是个学渣，你考试没考好的概率50%\n",
    "\n",
    "问：有一天，你没考好，你妈揍你的概率是多少？\n",
    "\n",
    "$P(A|B) = \\frac{P(A) \\times P(B|A)}{P(B)} = \\frac{1\\% \\times 30\\%}{50\\%} = 6\\%$ "
   ]
  },
  {
   "cell_type": "markdown",
   "metadata": {
    "slideshow": {
     "slide_type": "subslide"
    }
   },
   "source": [
    "基于贝叶斯的推荐系统\n",
    "\n",
    "-|大侦探皮卡丘|阿拉丁|爵迹|复仇者联盟4|逐梦演艺圈|银翼杀手\n",
    "---|---|---|---|---|---|---\n",
    "高薇|1|-1|1|-1|1|-1\n",
    "蔡猛|1|1|?|-1|-1|-1\n",
    "王筱(xiǎo)格|?|1|1|-1|-1|?\n",
    "李磊|-1|-1|-1|1|1|1\n",
    "黎阳|-1|?|-1|1|1|1\n",
    "\n",
    "给王筱(xiǎo)格同学推荐《大侦探皮卡丘》吗？她会喜欢吗？"
   ]
  },
  {
   "cell_type": "markdown",
   "metadata": {
    "slideshow": {
     "slide_type": "subslide"
    }
   },
   "source": [
    "$P(A|B) = \\frac{P(A) \\times P(B|A)}{P(B)}$ \n",
    "\n",
    "$A$: 用户给《大侦探皮卡丘》评分1\n",
    "\n",
    "$B$: 用户给阿拉丁，爵迹，复仇者联盟4，逐梦演艺圈打分分别为1，1，-1，-1\n",
    "\n",
    "$P(A|B)$：她给其他电影打分为1，1，-1，-1的情况下，给大侦探皮卡丘评分为1的概率。\n",
    "\n",
    "$P(A)$: 用户给《大侦探皮卡丘》评分1的概率，2/4 = 0.5\n",
    "\n",
    "$P(B|A)$: 用户给《大侦探皮卡丘》评分1的情况下，给其他电影打分分别为1，1，-1，-1的概率。$P(B_阿 = 1|A) * P(B_爵 = 1|A) * P(B_复 = -1|A) * P(B_逐 = -1|A) = 0.25$\n",
    "\n",
    "王筱(xiǎo)格给皮卡丘打分为1的概率$P(A|B) \\propto P(A) \\times P(B|A) = 0.5 * 0.25 = 0.125$\n",
    "\n",
    "同理，王筱(xiǎo)格给皮卡丘打分为-1的概率为0。"
   ]
  },
  {
   "cell_type": "markdown",
   "metadata": {
    "nbpresent": {
     "id": "fee2f9b7-618b-4404-80a1-312a8ad6eeff"
    },
    "slideshow": {
     "slide_type": "slide"
    }
   },
   "source": [
    "## 机器学习"
   ]
  },
  {
   "cell_type": "markdown",
   "metadata": {
    "slideshow": {
     "slide_type": "slide"
    }
   },
   "source": [
    "### 什么是机器学习"
   ]
  },
  {
   "cell_type": "markdown",
   "metadata": {
    "slideshow": {
     "slide_type": "slide"
    }
   },
   "source": [
    "**挑碗好面！**\n",
    "\n",
    "你来到了一家面馆，挑了一碗面吃了一口，不好吃。\n",
    "\n",
    "你的朋友Kris吴却挑了一碗好面。你很纳闷？为什么？\n",
    "\n",
    "<img src = \"kris.jpg\">\n",
    "\n",
    "Kris吴解释道：“你看这个面它又长又宽就像这个碗它又大又圆，Skr~Skr~”。\n",
    "\n",
    "原来Kris吴吃过的面比你走过的路都多，根据经验就能判断面的好坏。\n",
    "\n",
    "机器学习正是这样的一门学科，它致力于研究通过计算的手段，学习如何利用数据产生“模型”，即“学习算法”。有了学习算法，我们把经验数据给它，他就能基于数据产生模型，在面对新的情况时（例如一碗没有见过的面）给出相应的判断。"
   ]
  },
  {
   "cell_type": "markdown",
   "metadata": {
    "slideshow": {
     "slide_type": "subslide"
    }
   },
   "source": [
    "一个正式的定义\n",
    "\n",
    "> ”一个计算机程序是从经验E中学习关于某一类任务T和性能度量P的，如果它在T中的性能，如P所度量的那样，随着经验E的提高而提高。” —— 汤姆米切尔“\n",
    "\n",
    ">\"A computer program is said to learn from experience E with respect to some class of tasks T and performance measure P, if its performance at tasks in T, as measured by P, improves with experience E.\" ——Tom Mitchell\n",
    "\n",
    "<img src = ml.jpg width = 40%>"
   ]
  },
  {
   "cell_type": "markdown",
   "metadata": {
    "slideshow": {
     "slide_type": "slide"
    }
   },
   "source": [
    "### 机器学习分类"
   ]
  },
  {
   "cell_type": "markdown",
   "metadata": {
    "slideshow": {
     "slide_type": "subslide"
    }
   },
   "source": [
    "**有监督学习**\n",
    "\n",
    "有监督学习：我们得到了一个已知”正确答案“（也称为标签label）的数据集，寻找特征和标签之间的关系。\n",
    "\n",
    "有监督学习任务包括”回归“和”分类“任务等。\n",
    "\n",
    "回归任务中，我们想要得到的预测结果是连续值。\n",
    "\n",
    "分类任务中，我们想要得到的预测结果是离散值。\n"
   ]
  },
  {
   "cell_type": "markdown",
   "metadata": {
    "slideshow": {
     "slide_type": "fragment"
    }
   },
   "source": [
    "哪个是监督学习？\n",
    "\n",
    "- 给定一个数据集，包含100个房屋的面积，我们想要一个能预测房屋价格的程序。\n",
    "- 给定一个数据集，包含100个房屋的面积和价格，我们想要一个能预测房屋价格的程序。\n",
    "\n",
    "哪个是回归任务？\n",
    "\n",
    "- 通过一个人的照片，预测这个人的年龄。\n",
    "- 通过一张动物的照片，预测这个动物是猫还是狗。"
   ]
  },
  {
   "cell_type": "markdown",
   "metadata": {
    "slideshow": {
     "slide_type": "subslide"
    }
   },
   "source": [
    "**无监督学习**\n",
    "\n",
    "无监督的学习可以让我们在几乎不知道”正确答案“应该是什么样子的情况下处理问题。\n",
    "\n",
    "训练目标是能对观察值进行分类或者区分等。\n",
    "\n",
    "无监督学习任务包括”聚类“、”降维“等。\n",
    "\n",
    "聚类任务就是把具有相似特征的数据聚集在一起，形成不同的分组。\n",
    "\n",
    "降维任务就是在保留数据结构和有用性的同时对数据进行压缩。"
   ]
  },
  {
   "cell_type": "markdown",
   "metadata": {
    "slideshow": {
     "slide_type": "fragment"
    }
   },
   "source": [
    "哪个是聚类任务？\n",
    "\n",
    "- 一家广告平台需要根据相似的人口学特征和购买习惯将美国人口分成不同的小组，以便广告客户可以通过有关联的广告接触到他们的目标客户。\n",
    "\n",
    "- 一个数据科学团队需要降低一个大型数据集的维度的数量，以便简化建模和降低文件大小。"
   ]
  },
  {
   "cell_type": "markdown",
   "metadata": {
    "slideshow": {
     "slide_type": "slide"
    }
   },
   "source": [
    "### Scikit-learn"
   ]
  },
  {
   "cell_type": "markdown",
   "metadata": {
    "slideshow": {
     "slide_type": "subslide"
    }
   },
   "source": [
    "<img src = 'scikit.png'>\n",
    "\n",
    "Scikit-learn是一个开源机器学习库，它建立在numpy、scipy和matplotlib上。使用python接口，支持各种回归、分类和聚类等算法。\n",
    "\n",
    "https://scikit-learn.org/stable/index.html"
   ]
  },
  {
   "cell_type": "code",
   "execution_count": 71,
   "metadata": {
    "slideshow": {
     "slide_type": "subslide"
    }
   },
   "outputs": [
    {
     "name": "stdout",
     "output_type": "stream",
     "text": [
      "房屋特征值： [0.02731 0.      7.07    0.      0.469  ]\n",
      "房屋特征变量： ['CRIM' 'ZN' 'INDUS' 'CHAS' 'NOX']\n",
      "特征说明： :\n",
      "        - CRIM     per capita crime rate by town\n",
      "        - ZN       proportion of residential land zoned for lots over 25,000 sq.ft.\n",
      "        - INDUS    proportion of non-retail business acres per town\n",
      "        - CHAS     Charles River dummy variable (= 1 if tract bounds river; 0 otherwise)\n",
      "        - NOX      nitric oxides concentration (parts per 10 million)\n",
      "        \n",
      "房屋标签值： 21.6\n"
     ]
    }
   ],
   "source": [
    "from sklearn import datasets # sklearn附带各种预加载数据集\n",
    "from sklearn import metrics  # 用于计算我们模型的表现\n",
    "from sklearn.linear_model import LinearRegression # 线性回归模型 \n",
    "\n",
    "housing_data = datasets.load_boston() # 读取波士顿房屋数据\n",
    "print(\"房屋特征值：\",housing_data.data[1][:5])            # 房屋的特征值\n",
    "print(\"房屋特征变量：\",housing_data.feature_names[:5])    # 特征值说明\n",
    "print(\"特征说明：\",housing_data.DESCR[290:660])          # 特征值说明\n",
    "print(\"房屋标签值：\",housing_data.target[1])             # 对应的房价"
   ]
  },
  {
   "cell_type": "code",
   "execution_count": 45,
   "metadata": {
    "slideshow": {
     "slide_type": "fragment"
    }
   },
   "outputs": [
    {
     "name": "stdout",
     "output_type": "stream",
     "text": [
      "r2得分为: 0.7406077428649428\n"
     ]
    },
    {
     "data": {
      "image/png": "[encoded data removed]",
      "text/plain": [
       "<Figure size 720x432 with 1 Axes>"
      ]
     },
     "metadata": {},
     "output_type": "display_data"
    }
   ],
   "source": [
    "linear_regression_model = LinearRegression() # 初始化模型\n",
    "linear_regression_model.fit(housing_data.data, housing_data.target) # 训练模型\n",
    "\n",
    "predictions = linear_regression_model.predict(housing_data.data) # 预测\n",
    "score = metrics.r2_score(housing_data.target, predictions)       # 结果评价\n",
    "print(\"r2得分为:\",score)\n",
    "\n",
    "import matplotlib.pyplot as plt\n",
    "# 结果画图\n",
    "plt.figure(figsize= (10,6))\n",
    "plt.plot(range(len(housing_data.data)), housing_data.target,  color='black', alpha = .3)\n",
    "plt.plot(range(len(housing_data.data)), predictions, color='blue', alpha = .6)\n",
    "plt.title('linear regression')\n",
    "plt.legend(('Data', 'Linear Fit'))\n",
    "plt.show()"
   ]
  },
  {
   "cell_type": "markdown",
   "metadata": {
    "slideshow": {
     "slide_type": "slide"
    }
   },
   "source": [
    "### 线性回归"
   ]
  },
  {
   "cell_type": "markdown",
   "metadata": {
    "slideshow": {
     "slide_type": "slide"
    }
   },
   "source": [
    "线性回归的数学表达：\n",
    "\n",
    "$y_i = \\beta x_i + \\beta_0$\n",
    "\n",
    "$y_i$是第i个房屋的价格，$x_i$是第i个房屋的特征（比如面积）。\n",
    "\n",
    "$\\beta$、$\\beta_0$是模型的参数，如果我们能够求出它们，就能够利用该表达式进行预测了。"
   ]
  },
  {
   "cell_type": "markdown",
   "metadata": {
    "slideshow": {
     "slide_type": "subslide"
    }
   },
   "source": [
    "哪条线更好的拟合了数据？\n",
    "\n",
    "<table>\n",
    "    <tr>\n",
    "        <td ><center><img src='lsm3.png' ></center></td>\n",
    "        <td ><center><img src='lsm2.png' ></center></td>\n",
    "        <td ><center><img src='lsm1.png' ></center></td>\n",
    "    </tr>\n",
    "</table>"
   ]
  },
  {
   "cell_type": "markdown",
   "metadata": {
    "slideshow": {
     "slide_type": "subslide"
    }
   },
   "source": [
    "代价函数（Cost Function）：衡量模型的准确程度。\n",
    "\n",
    "均方误差（Mean squared error）：$(\\hat y_i - y_i)^2$\n",
    "\n",
    "所有样本的均方误差：\n",
    "\n",
    "$J(\\beta) = \\frac{1}{2m}\\sum^{m}_{i=1}(\\hat y_i - y_i)^2$\n",
    "\n",
    "问题：有了代价函数，如何使模型效果最好？\n",
    "\n",
    "由于代价函数越大，代表预测值与真实值之间的误差就越大，因此，问题的答案是使代价函数最小的参数$\\beta$就是最好的参数。\n",
    "\n",
    "上述方法就是最小二乘法。"
   ]
  },
  {
   "cell_type": "markdown",
   "metadata": {
    "slideshow": {
     "slide_type": "slide"
    }
   },
   "source": [
    "### 训练与测试"
   ]
  },
  {
   "cell_type": "markdown",
   "metadata": {
    "slideshow": {
     "slide_type": "slide"
    }
   },
   "source": [
    "把全部数据分为两份，一部分（一般是80%）作为训练集，另一部分（一般是20%）作为测试集。\n",
    "\n",
    "只用训练集得到模型，在测试集上验证模型的效果。"
   ]
  },
  {
   "cell_type": "markdown",
   "metadata": {
    "slideshow": {
     "slide_type": "fragment"
    }
   },
   "source": [
    "问题：为什么需要训练集与测试集？\n",
    "\n",
    "问题：用所有数据得到准确度最高的模型是最好的吗？"
   ]
  },
  {
   "cell_type": "markdown",
   "metadata": {
    "slideshow": {
     "slide_type": "subslide"
    }
   },
   "source": [
    "**过拟合与欠拟合**\n",
    "\n",
    "<img src = 'overfit.jpeg'>\n",
    "\n",
    "一元m次多项式回归方程为：$y_i = \\beta_1 x_i + \\beta_2 x_i^2 + \\dots + \\beta_m x_i^m +\\beta_0$。\n",
    "\n",
    "欠拟合：m = 1\n",
    "\n",
    "适拟合：m = 3      \n",
    "\n",
    "过拟合：m = 10"
   ]
  },
  {
   "cell_type": "markdown",
   "metadata": {
    "slideshow": {
     "slide_type": "subslide"
    }
   },
   "source": [
    "**偏差——方差分析**\n",
    "\n",
    "模型方差（variance）：模型针对不同样本预测的结果会的变化程度。\n",
    "\n",
    "模型偏差（bias）：模型预测时预测的结果期望和真实结果差距。\n",
    "\n",
    "我们理想的模型应该是低方差，低偏差的，但实际上方差和偏差是两个矛盾体，不可兼得，如下图所示，模型复杂度和方差偏差联系。\n",
    "<img src = 'tradeoff.png'>\n",
    "\n",
    "[Understanding the Bias-Variance Tradeoff](http://scott.fortmann-roe.com/docs/BiasVariance.html)"
   ]
  },
  {
   "cell_type": "markdown",
   "metadata": {
    "slideshow": {
     "slide_type": "subslide"
    }
   },
   "source": [
    "**模型的泛化能力**\n",
    "\n",
    "> [奥卡姆剃刀原理](https://en.wikipedia.org/wiki/Occam_learning)是指，在科学研究任务中，应该优先使用较为简单的公式或者原理，而不是复杂的。\n",
    ">\n",
    "> Occam's razor is the problem-solving principle that states \"entities should not be multiplied unnecessarily\".\n",
    "\n",
    "应用到机器学习任务中，可以通过减小模型的复杂度来降低过拟合的风险，即模型在能够较好拟合训练集的前提下，尽量减小模型的复杂度（提高模型泛化能力）。\n",
    "\n",
    "泛化能力用来表征学习模型对于未知数据的预测能力。"
   ]
  },
  {
   "cell_type": "markdown",
   "metadata": {
    "slideshow": {
     "slide_type": "subslide"
    }
   },
   "source": [
    "**k-fold交叉验证**\n",
    "\n",
    "<img src = 'k-fold.png' width = 70%>"
   ]
  },
  {
   "cell_type": "markdown",
   "metadata": {
    "slideshow": {
     "slide_type": "subslide"
    }
   },
   "source": [
    "**网格搜索**\n",
    "\n",
    "网格搜索是一种系统地处理多个参数调配组合的方法，在确定哪一个组合提供最佳性能时进行交叉验证。"
   ]
  },
  {
   "cell_type": "code",
   "execution_count": 106,
   "metadata": {
    "slideshow": {
     "slide_type": "fragment"
    }
   },
   "outputs": [
    {
     "name": "stdout",
     "output_type": "stream",
     "text": [
      "最优模型参数为： {'C': 1, 'kernel': 'linear'}\n"
     ]
    }
   ],
   "source": [
    "# sklearn文档的一个案例:\n",
    "from sklearn import svm, datasets\n",
    "from sklearn.model_selection import GridSearchCV\n",
    "iris = datasets.load_iris() # 读取数据集\n",
    "parameters = {'kernel':('linear', 'rbf'), 'C':[1, 10]} # 初始化参数\n",
    "svc = svm.SVC(gamma='auto') # 初始化模型\n",
    "clf = GridSearchCV(svc, parameters, cv=5, return_train_score=True) # 网格搜索\n",
    "clf.fit(iris.data, iris.target)\n",
    "print('最优模型参数为：',clf.best_params_)"
   ]
  },
  {
   "cell_type": "code",
   "execution_count": 107,
   "metadata": {
    "slideshow": {
     "slide_type": "subslide"
    }
   },
   "outputs": [
    {
     "data": {
      "text/html": [
       "<div>\n",
       "<style scoped>\n",
       "    .dataframe tbody tr th:only-of-type {\n",
       "        vertical-align: middle;\n",
       "    }\n",
       "\n",
       "    .dataframe tbody tr th {\n",
       "        vertical-align: top;\n",
       "    }\n",
       "\n",
       "    .dataframe thead th {\n",
       "        text-align: right;\n",
       "    }\n",
       "</style>\n",
       "<table border=\"1\" class=\"dataframe\">\n",
       "  <thead>\n",
       "    <tr style=\"text-align: right;\">\n",
       "      <th></th>\n",
       "      <th>0</th>\n",
       "      <th>1</th>\n",
       "      <th>2</th>\n",
       "      <th>3</th>\n",
       "    </tr>\n",
       "  </thead>\n",
       "  <tbody>\n",
       "    <tr>\n",
       "      <th>mean_fit_time</th>\n",
       "      <td>0.000686932</td>\n",
       "      <td>0.000763226</td>\n",
       "      <td>0.000623035</td>\n",
       "      <td>0.000910616</td>\n",
       "    </tr>\n",
       "    <tr>\n",
       "      <th>std_fit_time</th>\n",
       "      <td>0.000119361</td>\n",
       "      <td>0.000279679</td>\n",
       "      <td>0.000161078</td>\n",
       "      <td>2.82385e-05</td>\n",
       "    </tr>\n",
       "    <tr>\n",
       "      <th>mean_score_time</th>\n",
       "      <td>0.000287151</td>\n",
       "      <td>0.000373316</td>\n",
       "      <td>0.000341177</td>\n",
       "      <td>0.00044179</td>\n",
       "    </tr>\n",
       "    <tr>\n",
       "      <th>std_score_time</th>\n",
       "      <td>4.54257e-05</td>\n",
       "      <td>0.000130441</td>\n",
       "      <td>0.000105809</td>\n",
       "      <td>5.12017e-06</td>\n",
       "    </tr>\n",
       "    <tr>\n",
       "      <th>param_C</th>\n",
       "      <td>1</td>\n",
       "      <td>1</td>\n",
       "      <td>10</td>\n",
       "      <td>10</td>\n",
       "    </tr>\n",
       "    <tr>\n",
       "      <th>param_kernel</th>\n",
       "      <td>linear</td>\n",
       "      <td>rbf</td>\n",
       "      <td>linear</td>\n",
       "      <td>rbf</td>\n",
       "    </tr>\n",
       "    <tr>\n",
       "      <th>params</th>\n",
       "      <td>{'C': 1, 'kernel': 'linear'}</td>\n",
       "      <td>{'C': 1, 'kernel': 'rbf'}</td>\n",
       "      <td>{'C': 10, 'kernel': 'linear'}</td>\n",
       "      <td>{'C': 10, 'kernel': 'rbf'}</td>\n",
       "    </tr>\n",
       "    <tr>\n",
       "      <th>split0_test_score</th>\n",
       "      <td>0.966667</td>\n",
       "      <td>0.966667</td>\n",
       "      <td>1</td>\n",
       "      <td>0.966667</td>\n",
       "    </tr>\n",
       "    <tr>\n",
       "      <th>split1_test_score</th>\n",
       "      <td>1</td>\n",
       "      <td>1</td>\n",
       "      <td>1</td>\n",
       "      <td>1</td>\n",
       "    </tr>\n",
       "    <tr>\n",
       "      <th>split2_test_score</th>\n",
       "      <td>0.966667</td>\n",
       "      <td>0.966667</td>\n",
       "      <td>0.9</td>\n",
       "      <td>0.966667</td>\n",
       "    </tr>\n",
       "    <tr>\n",
       "      <th>split3_test_score</th>\n",
       "      <td>0.966667</td>\n",
       "      <td>0.966667</td>\n",
       "      <td>0.966667</td>\n",
       "      <td>0.966667</td>\n",
       "    </tr>\n",
       "    <tr>\n",
       "      <th>split4_test_score</th>\n",
       "      <td>1</td>\n",
       "      <td>1</td>\n",
       "      <td>1</td>\n",
       "      <td>1</td>\n",
       "    </tr>\n",
       "    <tr>\n",
       "      <th>mean_test_score</th>\n",
       "      <td>0.98</td>\n",
       "      <td>0.98</td>\n",
       "      <td>0.973333</td>\n",
       "      <td>0.98</td>\n",
       "    </tr>\n",
       "    <tr>\n",
       "      <th>std_test_score</th>\n",
       "      <td>0.0163299</td>\n",
       "      <td>0.0163299</td>\n",
       "      <td>0.038873</td>\n",
       "      <td>0.0163299</td>\n",
       "    </tr>\n",
       "    <tr>\n",
       "      <th>rank_test_score</th>\n",
       "      <td>1</td>\n",
       "      <td>1</td>\n",
       "      <td>4</td>\n",
       "      <td>1</td>\n",
       "    </tr>\n",
       "    <tr>\n",
       "      <th>split0_train_score</th>\n",
       "      <td>0.975</td>\n",
       "      <td>0.983333</td>\n",
       "      <td>0.966667</td>\n",
       "      <td>0.975</td>\n",
       "    </tr>\n",
       "    <tr>\n",
       "      <th>split1_train_score</th>\n",
       "      <td>0.975</td>\n",
       "      <td>0.983333</td>\n",
       "      <td>0.966667</td>\n",
       "      <td>0.966667</td>\n",
       "    </tr>\n",
       "    <tr>\n",
       "      <th>split2_train_score</th>\n",
       "      <td>0.991667</td>\n",
       "      <td>0.991667</td>\n",
       "      <td>0.991667</td>\n",
       "      <td>0.991667</td>\n",
       "    </tr>\n",
       "    <tr>\n",
       "      <th>split3_train_score</th>\n",
       "      <td>0.983333</td>\n",
       "      <td>0.983333</td>\n",
       "      <td>0.991667</td>\n",
       "      <td>0.983333</td>\n",
       "    </tr>\n",
       "    <tr>\n",
       "      <th>split4_train_score</th>\n",
       "      <td>0.983333</td>\n",
       "      <td>0.975</td>\n",
       "      <td>0.975</td>\n",
       "      <td>0.966667</td>\n",
       "    </tr>\n",
       "    <tr>\n",
       "      <th>mean_train_score</th>\n",
       "      <td>0.981667</td>\n",
       "      <td>0.983333</td>\n",
       "      <td>0.978333</td>\n",
       "      <td>0.976667</td>\n",
       "    </tr>\n",
       "    <tr>\n",
       "      <th>std_train_score</th>\n",
       "      <td>0.0062361</td>\n",
       "      <td>0.00527046</td>\n",
       "      <td>0.0113039</td>\n",
       "      <td>0.00971825</td>\n",
       "    </tr>\n",
       "  </tbody>\n",
       "</table>\n",
       "</div>"
      ],
      "text/plain": [
       "                                               0                          1  \\\n",
       "mean_fit_time                        0.000686932                0.000763226   \n",
       "std_fit_time                         0.000119361                0.000279679   \n",
       "mean_score_time                      0.000287151                0.000373316   \n",
       "std_score_time                       4.54257e-05                0.000130441   \n",
       "param_C                                        1                          1   \n",
       "param_kernel                              linear                        rbf   \n",
       "params              {'C': 1, 'kernel': 'linear'}  {'C': 1, 'kernel': 'rbf'}   \n",
       "split0_test_score                       0.966667                   0.966667   \n",
       "split1_test_score                              1                          1   \n",
       "split2_test_score                       0.966667                   0.966667   \n",
       "split3_test_score                       0.966667                   0.966667   \n",
       "split4_test_score                              1                          1   \n",
       "mean_test_score                             0.98                       0.98   \n",
       "std_test_score                         0.0163299                  0.0163299   \n",
       "rank_test_score                                1                          1   \n",
       "split0_train_score                         0.975                   0.983333   \n",
       "split1_train_score                         0.975                   0.983333   \n",
       "split2_train_score                      0.991667                   0.991667   \n",
       "split3_train_score                      0.983333                   0.983333   \n",
       "split4_train_score                      0.983333                      0.975   \n",
       "mean_train_score                        0.981667                   0.983333   \n",
       "std_train_score                        0.0062361                 0.00527046   \n",
       "\n",
       "                                                2                           3  \n",
       "mean_fit_time                         0.000623035                 0.000910616  \n",
       "std_fit_time                          0.000161078                 2.82385e-05  \n",
       "mean_score_time                       0.000341177                  0.00044179  \n",
       "std_score_time                        0.000105809                 5.12017e-06  \n",
       "param_C                                        10                          10  \n",
       "param_kernel                               linear                         rbf  \n",
       "params              {'C': 10, 'kernel': 'linear'}  {'C': 10, 'kernel': 'rbf'}  \n",
       "split0_test_score                               1                    0.966667  \n",
       "split1_test_score                               1                           1  \n",
       "split2_test_score                             0.9                    0.966667  \n",
       "split3_test_score                        0.966667                    0.966667  \n",
       "split4_test_score                               1                           1  \n",
       "mean_test_score                          0.973333                        0.98  \n",
       "std_test_score                           0.038873                   0.0163299  \n",
       "rank_test_score                                 4                           1  \n",
       "split0_train_score                       0.966667                       0.975  \n",
       "split1_train_score                       0.966667                    0.966667  \n",
       "split2_train_score                       0.991667                    0.991667  \n",
       "split3_train_score                       0.991667                    0.983333  \n",
       "split4_train_score                          0.975                    0.966667  \n",
       "mean_train_score                         0.978333                    0.976667  \n",
       "std_train_score                         0.0113039                  0.00971825  "
      ]
     },
     "execution_count": 107,
     "metadata": {},
     "output_type": "execute_result"
    }
   ],
   "source": [
    "pd.DataFrame(clf.cv_results_).T # 网格搜索结果表"
   ]
  },
  {
   "cell_type": "code",
   "execution_count": 125,
   "metadata": {
    "slideshow": {
     "slide_type": "subslide"
    }
   },
   "outputs": [
    {
     "data": {
      "text/plain": [
       "'versicolor'"
      ]
     },
     "execution_count": 125,
     "metadata": {},
     "output_type": "execute_result"
    }
   ],
   "source": [
    "# 预测\n",
    "new_iris = np.array([2.2, 3.0, 2.9, 0.7])     # 新物种\n",
    "y_pred = clf.predict(new_iris.reshape(1, -1)) # 预测新物种\n",
    "iris.target_names[y_pred][0]                  # 结果映射"
   ]
  },
  {
   "cell_type": "markdown",
   "metadata": {
    "slideshow": {
     "slide_type": "slide"
    }
   },
   "source": [
    "### 决策树"
   ]
  },
  {
   "cell_type": "markdown",
   "metadata": {
    "slideshow": {
     "slide_type": "slide"
    }
   },
   "source": [
    "**”二十问题游戏“**\n",
    "\n",
    "wiki的介绍：https://en.wikipedia.org/wiki/Twenty_Questions\n",
    "\n",
    "游戏网站：http://www.20q.net/"
   ]
  },
  {
   "cell_type": "markdown",
   "metadata": {
    "slideshow": {
     "slide_type": "fragment"
    }
   },
   "source": [
    "<img src = 'guess.png' width = 50%>"
   ]
  },
  {
   "cell_type": "markdown",
   "metadata": {
    "slideshow": {
     "slide_type": "slide"
    }
   },
   "source": [
    "**熵**\n",
    "\n",
    "为了建立一个决策树，我们需要决定提出哪些问题。\n",
    "\n",
    "理想情况下，我们希望选择那些能提供更多信息的问题。\n"
   ]
  },
  {
   "cell_type": "markdown",
   "metadata": {
    "slideshow": {
     "slide_type": "fragment"
    }
   },
   "source": [
    "哪个问题为我们想知道的答案——”你想的是那种动物？“提供了更多的信息？\n",
    "\n",
    "- 你想的是大象吗？\n",
    "- 你想的动物腿的数量大于5吗？"
   ]
  },
  {
   "cell_type": "markdown",
   "metadata": {
    "slideshow": {
     "slide_type": "fragment"
    }
   },
   "source": [
    "我们用”熵“来表示”信息量“，这个词的初衷是用来表示混乱程度。\n",
    "\n",
    ">信息量度量的是一个具体事件发生了所带来的信息，而熵则是在结果出来之前对可能产生的信息量的期望——考虑该随机变量的所有可能取值，即所有可能发生事件所带来的信息量的期望。\n",
    ">\n",
    ">[通俗理解信息熵](https://zhuanlan.zhihu.com/p/26486223)\n",
    "\n",
    "$$Ent(D) = -\\sum^{n}_{i = 1} p(x_i)log_2p(x_i)$$"
   ]
  },
  {
   "cell_type": "markdown",
   "metadata": {
    "slideshow": {
     "slide_type": "subslide"
    }
   },
   "source": [
    "**信息增益**\n",
    "\n",
    "信息增益表示得知特征a（腿的数量）的信息而使得样本集合不确定度减少的程度。\n",
    "\n",
    "$Gain(D,a) = Ent(D) - \\sum^{V}_{v = 1} \\frac{|D^v|}{|D|}Ent(D^v)$\n",
    "\n",
    "ID3算法\n",
    "\n",
    "缺点：信息增益准则其实是对可取值数目较多的特征有所偏好！"
   ]
  },
  {
   "cell_type": "markdown",
   "metadata": {
    "slideshow": {
     "slide_type": "slide"
    }
   },
   "source": [
    "**信息增益率**\n",
    "\n",
    "$$Gain\\_ratio(D,a) = \\frac{Gain(D,a)}{IV(a)}$$\n",
    "\n",
    "信息增益率是信息增益除了一个属性a的”固有值“得来的。\n",
    "\n",
    "$$IV(a) = -\\sum^{V}_{v = 1} \\frac{|D^v|}{|D|}log_2\\frac{|D^v|}{|D|}$$\n",
    "\n",
    "”固有值“就是看特征a的纯度。取值越少，纯度越高，增益率越高。"
   ]
  },
  {
   "cell_type": "markdown",
   "metadata": {
    "slideshow": {
     "slide_type": "subslide"
    }
   },
   "source": [
    "**C4.5算法** \n",
    "\n",
    "采用信息增益率可以解决ID3算法中存在的问题，因此将采用信息增益率作为判定划分特征好坏的方法称为C4.5。\n",
    "\n",
    "需要注意的是，增益率准则对属性取值较少的时候会有偏好，为了解决这个问题，C4.5并不是直接选择增益率最大的属性作为划分属性，而是之前先通过一遍筛选，先把信息增益低于平均水平的属性剔除掉，之后从剩下的属性中选择信息增益率最高的，这样的话，相当于两方面都得到了兼顾。 \n"
   ]
  },
  {
   "cell_type": "markdown",
   "metadata": {
    "nbpresent": {
     "id": "f71605ec-3ea0-4fc2-9f4b-f0cd91312845"
    },
    "slideshow": {
     "slide_type": "slide"
    }
   },
   "source": [
    "## Kaggle竞赛"
   ]
  },
  {
   "cell_type": "markdown",
   "metadata": {
    "nbpresent": {
     "id": "9deadf6a-4725-4f77-96ab-a89a6a65e71d"
    },
    "slideshow": {
     "slide_type": "slide"
    }
   },
   "source": [
    "## 大数据"
   ]
  },
  {
   "cell_type": "markdown",
   "metadata": {
    "nbpresent": {
     "id": "5865c699-d31f-4b9f-ac17-b60fc411196e"
    },
    "slideshow": {
     "slide_type": "slide"
    }
   },
   "source": [
    "## 深度学习"
   ]
  },
  {
   "cell_type": "markdown",
   "metadata": {
    "slideshow": {
     "slide_type": "slide"
    }
   },
   "source": [
    "## 结语\n",
    "\n",
    "> 数据是新时代的石油.\n",
    ">\n",
    "> [Data is the new oil](https://medium.com/@adeolaadesina/data-is-the-new-oil-2947ed8804f6)\n",
    "\n",
    "谢谢！\n",
    "\n",
    "Q & A\n",
    "\n",
    "知乎专栏：深度学习+自然语言处理(NLP)   "
   ]
  }
 ],
 "metadata": {
  "celltoolbar": "Slideshow",
  "kernelspec": {
   "display_name": "Python [default]",
   "language": "python",
   "name": "python3"
  },
  "language_info": {
   "codemirror_mode": {
    "name": "ipython",
    "version": 3
   },
   "file_extension": ".py",
   "mimetype": "text/x-python",
   "name": "python",
   "nbconvert_exporter": "python",
   "pygments_lexer": "ipython3",
   "version": "3.6.5"
  },
  "toc": {
   "base_numbering": 1,
   "nav_menu": {},
   "number_sections": true,
   "sideBar": true,
   "skip_h1_title": true,
   "title_cell": "Table of Contents",
   "title_sidebar": "Contents",
   "toc_cell": true,
   "toc_position": {
    "height": "calc(100% - 180px)",
    "left": "10px",
    "top": "150px",
    "width": "314px"
   },
   "toc_section_display": true,
   "toc_window_display": true
  }
 },
 "nbformat": 4,
 "nbformat_minor": 2
}
